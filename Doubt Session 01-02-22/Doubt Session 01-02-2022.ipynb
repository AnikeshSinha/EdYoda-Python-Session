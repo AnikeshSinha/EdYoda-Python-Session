{
 "cells": [
  {
   "cell_type": "markdown",
   "id": "9a7978f1",
   "metadata": {},
   "source": [
    "Conditional Loops"
   ]
  },
  {
   "cell_type": "code",
   "execution_count": 2,
   "id": "9ce6e74f",
   "metadata": {},
   "outputs": [
    {
     "name": "stdout",
     "output_type": "stream",
     "text": [
      "V\n",
      "a\n",
      "m\n",
      "s\n",
      "h\n",
      "i\n",
      " \n",
      "K\n",
      "r\n",
      "i\n",
      "s\n",
      "h\n",
      "n\n",
      "a\n"
     ]
    }
   ],
   "source": [
    "name = \"Vamshi Krishna\"\n",
    "for char in name:\n",
    "    print(char)"
   ]
  },
  {
   "cell_type": "code",
   "execution_count": 3,
   "id": "8fae079f",
   "metadata": {},
   "outputs": [
    {
     "name": "stdout",
     "output_type": "stream",
     "text": [
      "V\n",
      "a\n",
      "m\n",
      "s\n",
      "h\n",
      "i\n",
      " \n",
      "K\n",
      "r\n",
      "i\n",
      "s\n",
      "h\n",
      "n\n",
      "a\n"
     ]
    }
   ],
   "source": [
    "# name = \"Vamshi Krishna\"\n",
    "for char in \"Vamshi Krishna\":\n",
    "    print(char)"
   ]
  },
  {
   "cell_type": "code",
   "execution_count": 9,
   "id": "4619978d",
   "metadata": {
    "scrolled": true
   },
   "outputs": [
    {
     "name": "stdout",
     "output_type": "stream",
     "text": [
      "Enter Natutal Number10\n",
      "Even No is :- 5 , Odd No is :- 5\n",
      "Even No is :- 5 , Odd No is :- 5\n",
      "Even no is :-  5\n",
      "Odd No is L :-  5\n"
     ]
    }
   ],
   "source": [
    "n = int(input(\"Enter Natutal Number\"))\n",
    "even = 0\n",
    "odd = 0\n",
    "for ele in range(1,n+1):\n",
    "    if (ele %2 == 0):\n",
    "        even += 1  # same thing  ->  even = even + 1\n",
    "    else:\n",
    "        odd += 1\n",
    "    print(f\"Even No is :- {even} , Odd No is :- {odd}\") \n",
    "    \n",
    "# print(\"Even No is :- {0} , Odd No is :- {1}\".format(even,odd))\n",
    "# print(\"Even no is :- \", even)\n",
    "# print(\"Odd No is L :- \", odd)"
   ]
  },
  {
   "cell_type": "code",
   "execution_count": null,
   "id": "35b4005c",
   "metadata": {},
   "outputs": [],
   "source": [
    "Enter the natural number: 10\n",
    "even number is: 0, odd number is: 1\n",
    "even number is: 1, odd number is: 2\n",
    "even number is: 2, odd number is: 3\n",
    "even number is: 3, odd number is: 4\n",
    "even number is: 4, odd number is: 5\n"
   ]
  },
  {
   "cell_type": "code",
   "execution_count": null,
   "id": "47482b9e",
   "metadata": {},
   "outputs": [],
   "source": [
    "what is difference between [::2] and [2::] can u plzz explain with an examole -> payal\n"
   ]
  },
  {
   "cell_type": "code",
   "execution_count": null,
   "id": "2ef898ce",
   "metadata": {},
   "outputs": [],
   "source": [
    "slicing and striding plz explain -> Sandeep\n"
   ]
  },
  {
   "cell_type": "code",
   "execution_count": 15,
   "id": "e7831fd7",
   "metadata": {},
   "outputs": [
    {
     "name": "stdout",
     "output_type": "stream",
     "text": [
      "True\n",
      "True\n",
      "False\n",
      "Memory of Arun:- 2319904473616 Memory of Anurag:- 2319904473616\n"
     ]
    }
   ],
   "source": [
    "# difference between \"is\" and \"==\" -> arun\n",
    "\n",
    "# \"==\" it only check the Values \n",
    "# is <- this one is checking the memory Location\n",
    "\n",
    "arun = 10\n",
    "anurag = 10\n",
    "print(arun == anurag)\n",
    "print(arun is anurag)\n",
    "print(id(arun) is id(anurag))  #<- \n",
    "print(f\"Memory of Arun:- {id(arun)} Memory of Anurag:- {id(anurag)}\")\n",
    "\n"
   ]
  },
  {
   "cell_type": "code",
   "execution_count": 11,
   "id": "8bf93523",
   "metadata": {},
   "outputs": [
    {
     "name": "stdout",
     "output_type": "stream",
     "text": [
      "True\n",
      "False\n",
      "Memory of Arun:- 2319985125904 Memory of Anurag:- 2319985126192\n"
     ]
    }
   ],
   "source": [
    "x = 257\n",
    "y = 257\n",
    "print(x == y)\n",
    "print(x is y)\n",
    "print(f\"Memory of Arun:- {id(x)} Memory of Anurag:- {id(y)}\")"
   ]
  },
  {
   "cell_type": "code",
   "execution_count": 12,
   "id": "d84172c4",
   "metadata": {},
   "outputs": [
    {
     "name": "stdout",
     "output_type": "stream",
     "text": [
      "True\n",
      "True\n",
      "Memory of Arun:- 2319904481488 Memory of Anurag:- 2319904481488\n"
     ]
    }
   ],
   "source": [
    "x = 256\n",
    "y = 256\n",
    "print(x == y)\n",
    "print(x is y)\n",
    "print(f\"Memory of Arun:- {id(x)} Memory of Anurag:- {id(y)}\")"
   ]
  },
  {
   "cell_type": "code",
   "execution_count": 13,
   "id": "92a9a6e6",
   "metadata": {},
   "outputs": [
    {
     "name": "stdout",
     "output_type": "stream",
     "text": [
      "True\n",
      "True\n",
      "Memory of Arun:- 2319904473136 Memory of Anurag:- 2319904473136\n"
     ]
    }
   ],
   "source": [
    "x = -5\n",
    "y = -5\n",
    "print(x == y)\n",
    "print(x is y)\n",
    "print(f\"Memory of Arun:- {id(x)} Memory of Anurag:- {id(y)}\")"
   ]
  },
  {
   "cell_type": "code",
   "execution_count": 14,
   "id": "94e40df8",
   "metadata": {},
   "outputs": [
    {
     "name": "stdout",
     "output_type": "stream",
     "text": [
      "True\n",
      "False\n",
      "Memory of Arun:- 2319985127248 Memory of Anurag:- 2319985125776\n"
     ]
    }
   ],
   "source": [
    "x = -10\n",
    "y = -10\n",
    "print(x == y)\n",
    "print(x is y)\n",
    "print(f\"Memory of Arun:- {id(x)} Memory of Anurag:- {id(y)}\")"
   ]
  },
  {
   "cell_type": "code",
   "execution_count": null,
   "id": "10f5c06d",
   "metadata": {},
   "outputs": [],
   "source": [
    "what is difference between [::2] and [2::] can u plzz explain with an examole -> payal\n",
    "slicing and striding plz explain -> Sandeep"
   ]
  },
  {
   "cell_type": "code",
   "execution_count": 16,
   "id": "7f001664",
   "metadata": {},
   "outputs": [
    {
     "data": {
      "text/plain": [
       "'Pyl'"
      ]
     },
     "execution_count": 16,
     "metadata": {},
     "output_type": "execute_result"
    }
   ],
   "source": [
    "s = \"Payal\"\n",
    "s[::2]"
   ]
  },
  {
   "cell_type": "code",
   "execution_count": 20,
   "id": "d0a613f7",
   "metadata": {},
   "outputs": [
    {
     "data": {
      "text/plain": [
       "'aa'"
      ]
     },
     "execution_count": 20,
     "metadata": {},
     "output_type": "execute_result"
    }
   ],
   "source": [
    "s = \"Payal\"\n",
    "s[1:4:2]"
   ]
  },
  {
   "cell_type": "code",
   "execution_count": 21,
   "id": "77ca03dd",
   "metadata": {},
   "outputs": [
    {
     "data": {
      "text/plain": [
       "'ayal'"
      ]
     },
     "execution_count": 21,
     "metadata": {},
     "output_type": "execute_result"
    }
   ],
   "source": [
    "s = \"Payal\"\n",
    "s[1::]"
   ]
  },
  {
   "cell_type": "code",
   "execution_count": 22,
   "id": "69b69e26",
   "metadata": {},
   "outputs": [
    {
     "data": {
      "text/plain": [
       "'Payal'"
      ]
     },
     "execution_count": 22,
     "metadata": {},
     "output_type": "execute_result"
    }
   ],
   "source": [
    "s = \"Payal\"\n",
    "s[:8:]"
   ]
  },
  {
   "cell_type": "code",
   "execution_count": 23,
   "id": "0d2b384b",
   "metadata": {},
   "outputs": [
    {
     "data": {
      "text/plain": [
       "'Payal'"
      ]
     },
     "execution_count": 23,
     "metadata": {},
     "output_type": "execute_result"
    }
   ],
   "source": [
    "s = \"Payal\"\n",
    "s[:50:]"
   ]
  },
  {
   "cell_type": "code",
   "execution_count": 24,
   "id": "a8753f63",
   "metadata": {},
   "outputs": [
    {
     "data": {
      "text/plain": [
       "'ayal'"
      ]
     },
     "execution_count": 24,
     "metadata": {},
     "output_type": "execute_result"
    }
   ],
   "source": [
    "s = \"Payal\"\n",
    "s[1:50:]"
   ]
  },
  {
   "cell_type": "code",
   "execution_count": 17,
   "id": "7c854c36",
   "metadata": {},
   "outputs": [
    {
     "data": {
      "text/plain": [
       "'yal'"
      ]
     },
     "execution_count": 17,
     "metadata": {},
     "output_type": "execute_result"
    }
   ],
   "source": [
    "s[2::]"
   ]
  },
  {
   "cell_type": "code",
   "execution_count": 18,
   "id": "06e7913c",
   "metadata": {},
   "outputs": [
    {
     "data": {
      "text/plain": [
       "'ammoC , ecapS'"
      ]
     },
     "execution_count": 18,
     "metadata": {},
     "output_type": "execute_result"
    }
   ],
   "source": [
    "s = \"Space , Comma\"\n",
    "s[::-1]"
   ]
  },
  {
   "cell_type": "code",
   "execution_count": 19,
   "id": "68e50cac",
   "metadata": {},
   "outputs": [
    {
     "data": {
      "text/plain": [
       "'Space , Comma'"
      ]
     },
     "execution_count": 19,
     "metadata": {},
     "output_type": "execute_result"
    }
   ],
   "source": [
    "s = \"Space , Comma\"\n",
    "s[::]"
   ]
  },
  {
   "cell_type": "code",
   "execution_count": null,
   "id": "37d4dab0",
   "metadata": {},
   "outputs": [],
   "source": []
  }
 ],
 "metadata": {
  "kernelspec": {
   "display_name": "Python 3 (ipykernel)",
   "language": "python",
   "name": "python3"
  },
  "language_info": {
   "codemirror_mode": {
    "name": "ipython",
    "version": 3
   },
   "file_extension": ".py",
   "mimetype": "text/x-python",
   "name": "python",
   "nbconvert_exporter": "python",
   "pygments_lexer": "ipython3",
   "version": "3.10.1"
  }
 },
 "nbformat": 4,
 "nbformat_minor": 5
}
