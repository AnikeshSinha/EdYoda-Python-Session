{
 "cells": [
  {
   "cell_type": "markdown",
   "id": "40c20bf0",
   "metadata": {},
   "source": [
    "# `Implementation`"
   ]
  },
  {
   "cell_type": "markdown",
   "id": "cb40008c",
   "metadata": {},
   "source": [
    "# `Binary Trees`"
   ]
  },
  {
   "cell_type": "code",
   "execution_count": 1,
   "id": "1500b98a",
   "metadata": {},
   "outputs": [],
   "source": [
    "class Node(object):\n",
    "    def __init__(self , value):\n",
    "        self.value = value\n",
    "        self.left = None\n",
    "        self.right = None"
   ]
  },
  {
   "cell_type": "code",
   "execution_count": 2,
   "id": "80e295d7",
   "metadata": {},
   "outputs": [],
   "source": [
    "class Node(object):\n",
    "    def __init__(self , value):\n",
    "        self.value = value\n",
    "        self.left = None\n",
    "        self.right = None\n",
    "        \n",
    "class BinaryTree(object):\n",
    "    def __init__(self, root):\n",
    "        self.root = Node(root)\n",
    "        \n",
    "tree = BinaryTree(1)\n",
    "tree.root.left = Node(2)\n",
    "tree.root.right = Node(3)\n",
    "tree.root.left.left = Node(4)\n",
    "tree.root.left.right = Node(5)\n",
    "tree.root.right.left = Node(6)\n",
    "tree.root.right.right = Node(7)"
   ]
  },
  {
   "cell_type": "code",
   "execution_count": 3,
   "id": "1b2903c4",
   "metadata": {},
   "outputs": [
    {
     "data": {
      "text/plain": [
       "7"
      ]
     },
     "execution_count": 3,
     "metadata": {},
     "output_type": "execute_result"
    }
   ],
   "source": [
    "tree.root.right.right.value"
   ]
  },
  {
   "cell_type": "code",
   "execution_count": 4,
   "id": "3d664b7c",
   "metadata": {},
   "outputs": [
    {
     "data": {
      "text/plain": [
       "5"
      ]
     },
     "execution_count": 4,
     "metadata": {},
     "output_type": "execute_result"
    }
   ],
   "source": [
    "tree.root.left.right.value"
   ]
  },
  {
   "cell_type": "markdown",
   "id": "49a0c7dc",
   "metadata": {},
   "source": [
    "# `Tree Traversal`"
   ]
  },
  {
   "cell_type": "markdown",
   "id": "4f5e0c7c",
   "metadata": {},
   "source": [
    "Depth-First-Order\n",
    "\n",
    "    -Pre Order\n",
    "    -In Order\n",
    "    -Post Order"
   ]
  },
  {
   "cell_type": "markdown",
   "id": "fcb88ec8",
   "metadata": {},
   "source": [
    "## `Pre-Order Traversal`"
   ]
  },
  {
   "cell_type": "markdown",
   "id": "25ad3efc",
   "metadata": {},
   "source": [
    "`The algorithm for a pre-order Traversal:`\n",
    "    \n",
    "    - 1. Check if the current node is empty /null / None.\n",
    "    - 2. Display/Print the data(value) part of the root(or current node).\n",
    "    - 3. Traverse the left subtree by recursively calling the pre-order method.\n",
    "    - 4. Traverse the right subtree by recursively calling the pre-order method."
   ]
  },
  {
   "cell_type": "code",
   "execution_count": null,
   "id": "027efeff",
   "metadata": {},
   "outputs": [],
   "source": [
    "def preorder_print(self, start , traversal):\n",
    "    \"\"\"Root->Left->Right\"\"\"\n",
    "    if start: # Check if the current node is empty /null / None.\n",
    "        traversal += (str(start.value)+\"->\") # Display/Print the data(value) part of the root(or current node).\n",
    "        traversal = self.preorder_print(start.left , traversal) # Traverse the left subtree by recursively calling the pre-order method.\n",
    "        traversal = self.preorder_print(start.right , traversal) # Traverse the right subtree by recursively calling the pre-order method.\n",
    "    return traversal"
   ]
  },
  {
   "cell_type": "code",
   "execution_count": 11,
   "id": "83e4dd38",
   "metadata": {},
   "outputs": [
    {
     "name": "stdout",
     "output_type": "stream",
     "text": [
      "F->B->A->D->C->E->G->I->H->None\n"
     ]
    }
   ],
   "source": [
    "class Node(object):\n",
    "    def __init__(self , value):\n",
    "        self.value = value\n",
    "        self.left = None\n",
    "        self.right = None\n",
    "        \n",
    "class BinaryTree(object):\n",
    "    def __init__(self, root):\n",
    "        self.root = Node(root)\n",
    "    \n",
    "#     def preorder_print(self, start , traversal):\n",
    "#         \"\"\"Root->Left->Right\"\"\"\n",
    "#         if start: # Check if the current node is empty /null / None.\n",
    "#             traversal += (str(start.value)+\"->\") # Display/Print the data(value) part of the root(or current node).\n",
    "#             traversal = self.preorder_print(start.left , traversal) # Traverse the left subtree by recursively calling the pre-order method.\n",
    "#             traversal = self.preorder_print(start.right , traversal) # Traverse the right subtree by recursively calling the pre-order method.\n",
    "#         return traversal\n",
    "\n",
    "    def preorder_print(self, start):\n",
    "        \"\"\"Root->Left->Right\"\"\"\n",
    "        if start: # Check if the current node is empty /null / None.\n",
    "            print(f\"{start.value}->\",end='') # Display/Print the data(value) part of the root(or current node).\n",
    "            self.preorder_print(start.left ) # Traverse the left subtree by recursively calling the pre-order method.\n",
    "            self.preorder_print(start.right) # Traverse the right subtree by recursively calling the pre-order method.\n",
    "    \n",
    "tree = BinaryTree(\"F\")\n",
    "tree.root.left = Node(\"B\")\n",
    "tree.root.right = Node(\"G\")\n",
    "tree.root.left.left = Node(\"A\")\n",
    "tree.root.left.right = Node(\"D\")\n",
    "tree.root.left.right.left = Node(\"C\")\n",
    "tree.root.left.right.right = Node(\"E\")\n",
    "tree.root.right.right = Node(\"I\")\n",
    "tree.root.right.right.left = Node(\"H\")\n",
    "\n",
    "# print(tree.preorder_print(tree.root,\"\"))\n",
    "print(tree.preorder_print(tree.root))"
   ]
  },
  {
   "cell_type": "markdown",
   "id": "d4a029a3",
   "metadata": {},
   "source": [
    "## `In-Order Traversal`"
   ]
  },
  {
   "cell_type": "markdown",
   "id": "807dbe9f",
   "metadata": {},
   "source": [
    "`The algorithm for a In-order Traversal:`\n",
    "    \n",
    "    - 1. Check if the current node is empty /null / None.\n",
    "    - 2. Traverse the left subtree by recursively calling the pre-order method.\n",
    "    - 3. Display/Print the data(value) part of the root(or current node).\n",
    "    - 4. Traverse the right subtree by recursively calling the pre-order method."
   ]
  },
  {
   "cell_type": "code",
   "execution_count": 23,
   "id": "d01db354",
   "metadata": {
    "scrolled": true
   },
   "outputs": [
    {
     "name": "stdout",
     "output_type": "stream",
     "text": [
      "inorder_print\n",
      "A->B->C->D->E->F->G->H->I->None\n"
     ]
    }
   ],
   "source": [
    "class Node(object):\n",
    "    def __init__(self , value):\n",
    "        self.value = value\n",
    "        self.left = None\n",
    "        self.right = None\n",
    "        \n",
    "class BinaryTree(object):\n",
    "    def __init__(self, root):\n",
    "        self.root = Node(root)\n",
    "    \n",
    "#     def preorder_print(self, start , traversal):\n",
    "#         \"\"\"Root->Left->Right\"\"\"\n",
    "#         if start: # Check if the current node is empty /null / None.\n",
    "#             traversal += (str(start.value)+\"->\") # Display/Print the data(value) part of the root(or current node).\n",
    "#             traversal = self.preorder_print(start.left , traversal) # Traverse the left subtree by recursively calling the pre-order method.\n",
    "#             traversal = self.preorder_print(start.right , traversal) # Traverse the right subtree by recursively calling the pre-order method.\n",
    "#         return traversal\n",
    "\n",
    "    def preorder_print(self, start):\n",
    "        \"\"\"Root->Left->Right\"\"\"\n",
    "        if start: # Check if the current node is empty /null / None.\n",
    "            print(f\"{start.value}->\",end='') # Display/Print the data(value) part of the root(or current node).\n",
    "            self.preorder_print(start.left ) # Traverse the left subtree by recursively calling the pre-order method.\n",
    "            self.preorder_print(start.right) # Traverse the right subtree by recursively calling the pre-order method.\n",
    "            \n",
    "    def inorder_print(self, start):\n",
    "        \"\"\"Left->Root->Right\"\"\"\n",
    "#         if start: # Check if the current node is empty /null / None.\n",
    "#             traversal = self.inorder_print(start.left , traversal) # Traverse the left subtree by recursively calling the pre-order method.\n",
    "#             traversal += (str(start.value)+\"->\") # Display/Print the data(value) part of the root(or current node).\n",
    "#             traversal = self.inorder_print(start.right , traversal) # Traverse the right subtree by recursively calling the pre-order method.\n",
    "#         return traversal\n",
    "    \n",
    "        if start: # Check if the current node is empty /null / None.\n",
    "            self.inorder_print(start.left ) # Traverse the left subtree by recursively calling the pre-order method.\n",
    "            print(f\"{start.value}->\",end='') # Display/Print the data(value) part of the root(or current node).\n",
    "            self.inorder_print(start.right) # Traverse the right subtree by recursively calling the pre-order method.\n",
    "\n",
    "    \n",
    "    \n",
    "tree = BinaryTree(\"F\")\n",
    "tree.root.left = Node(\"B\")\n",
    "tree.root.right = Node(\"G\")\n",
    "tree.root.left.left = Node(\"A\")\n",
    "tree.root.left.right = Node(\"D\")\n",
    "tree.root.left.right.left = Node(\"C\")\n",
    "tree.root.left.right.right = Node(\"E\")\n",
    "tree.root.right.right = Node(\"I\")\n",
    "tree.root.right.right.left = Node(\"H\")\n",
    "\n",
    "# print(tree.preorder_print(tree.root,\"\"))\n",
    "# print(\"preorder_print\")\n",
    "# print(tree.preorder_print(tree.root))\n",
    "print(\"inorder_print\" )\n",
    "print(tree.inorder_print(tree.root))"
   ]
  },
  {
   "cell_type": "code",
   "execution_count": null,
   "id": "eb447924",
   "metadata": {},
   "outputs": [],
   "source": [
    "Post-Order Traversal"
   ]
  },
  {
   "cell_type": "markdown",
   "id": "17c08fa5",
   "metadata": {},
   "source": [
    "`The algorithm for a Post-order Traversal:`\n",
    "    \n",
    "    - 1. Check if the current node is empty /null / None.\n",
    "    - 2. Traverse the left subtree by recursively calling the pre-order method.\n",
    "    - 3. Traverse the right subtree by recursively calling the pre-order method.\n",
    "    - 4. Display/Print the data(value) part of the root(or current node)."
   ]
  },
  {
   "cell_type": "code",
   "execution_count": 25,
   "id": "8aebf15b",
   "metadata": {},
   "outputs": [
    {
     "name": "stdout",
     "output_type": "stream",
     "text": [
      "postorder_print\n",
      "A->C->E->D->B->H->I->G->F->None\n"
     ]
    }
   ],
   "source": [
    "class Node(object):\n",
    "    def __init__(self , value):\n",
    "        self.value = value\n",
    "        self.left = None\n",
    "        self.right = None\n",
    "        \n",
    "class BinaryTree(object):\n",
    "    def __init__(self, root):\n",
    "        self.root = Node(root)\n",
    "    \n",
    "#     def preorder_print(self, start , traversal):\n",
    "#         \"\"\"Root->Left->Right\"\"\"\n",
    "#         if start: # Check if the current node is empty /null / None.\n",
    "#             traversal += (str(start.value)+\"->\") # Display/Print the data(value) part of the root(or current node).\n",
    "#             traversal = self.preorder_print(start.left , traversal) # Traverse the left subtree by recursively calling the pre-order method.\n",
    "#             traversal = self.preorder_print(start.right , traversal) # Traverse the right subtree by recursively calling the pre-order method.\n",
    "#         return traversal\n",
    "\n",
    "    def preorder_print(self, start):\n",
    "        \"\"\"Root->Left->Right\"\"\"\n",
    "        if start: # Check if the current node is empty /null / None.\n",
    "            print(f\"{start.value}->\",end='') # Display/Print the data(value) part of the root(or current node).\n",
    "            self.preorder_print(start.left ) # Traverse the left subtree by recursively calling the pre-order method.\n",
    "            self.preorder_print(start.right) # Traverse the right subtree by recursively calling the pre-order method.\n",
    "            \n",
    "    def inorder_print(self, start):\n",
    "        \"\"\"Left->Root->Right\"\"\"\n",
    "#         if start: # Check if the current node is empty /null / None.\n",
    "#             traversal = self.inorder_print(start.left , traversal) # Traverse the left subtree by recursively calling the pre-order method.\n",
    "#             traversal += (str(start.value)+\"->\") # Display/Print the data(value) part of the root(or current node).\n",
    "#             traversal = self.inorder_print(start.right , traversal) # Traverse the right subtree by recursively calling the pre-order method.\n",
    "#         return traversal\n",
    "    \n",
    "        if start: # Check if the current node is empty /null / None.\n",
    "            self.inorder_print(start.left ) # Traverse the left subtree by recursively calling the pre-order method.\n",
    "            print(f\"{start.value}->\",end='') # Display/Print the data(value) part of the root(or current node).\n",
    "            self.inorder_print(start.right) # Traverse the right subtree by recursively calling the pre-order method.\n",
    "    \n",
    "    def postorder_print(self, start):\n",
    "        \"\"\"Left->Right->Root\"\"\"\n",
    "#         if start: # Check if the current node is empty /null / None.\n",
    "#             traversal = self.postorder_print(start.left , traversal) # Traverse the left subtree by recursively calling the pre-order method.\n",
    "#             traversal = self.postorder_print(start.right , traversal) # Traverse the right subtree by recursively calling the pre-order method.\n",
    "#             traversal += (str(start.value)+\"->\") # Display/Print the data(value) part of the root(or current node).\n",
    "#         return traversal\n",
    "    \n",
    "        if start: # Check if the current node is empty /null / None.\n",
    "            self.postorder_print(start.left ) # Traverse the left subtree by recursively calling the pre-order method.\n",
    "            self.postorder_print(start.right) # Traverse the right subtree by recursively calling the pre-order method.\n",
    "            print(f\"{start.value}->\",end='') # Display/Print the data(value) part of the root(or current node).\n",
    "\n",
    "    \n",
    "    \n",
    "tree = BinaryTree(\"F\")\n",
    "tree.root.left = Node(\"B\")\n",
    "tree.root.right = Node(\"G\")\n",
    "tree.root.left.left = Node(\"A\")\n",
    "tree.root.left.right = Node(\"D\")\n",
    "tree.root.left.right.left = Node(\"C\")\n",
    "tree.root.left.right.right = Node(\"E\")\n",
    "tree.root.right.right = Node(\"I\")\n",
    "tree.root.right.right.left = Node(\"H\")\n",
    "\n",
    "# print(tree.preorder_print(tree.root,\"\"))\n",
    "# print(\"preorder_print\")\n",
    "# print(tree.preorder_print(tree.root))\n",
    "# print(\"inorder_print\" )\n",
    "# print(tree.inorder_print(tree.root))\n",
    "print(\"postorder_print\" )\n",
    "print(tree.postorder_print(tree.root))"
   ]
  },
  {
   "cell_type": "code",
   "execution_count": null,
   "id": "29c8a473",
   "metadata": {},
   "outputs": [],
   "source": []
  }
 ],
 "metadata": {
  "kernelspec": {
   "display_name": "Python 3 (ipykernel)",
   "language": "python",
   "name": "python3"
  },
  "language_info": {
   "codemirror_mode": {
    "name": "ipython",
    "version": 3
   },
   "file_extension": ".py",
   "mimetype": "text/x-python",
   "name": "python",
   "nbconvert_exporter": "python",
   "pygments_lexer": "ipython3",
   "version": "3.10.0"
  }
 },
 "nbformat": 4,
 "nbformat_minor": 5
}
