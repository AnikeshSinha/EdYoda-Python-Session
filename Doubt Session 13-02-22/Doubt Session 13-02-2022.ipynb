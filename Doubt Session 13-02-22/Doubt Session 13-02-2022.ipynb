{
 "cells": [
  {
   "cell_type": "raw",
   "id": "c6c171b4",
   "metadata": {},
   "source": [
    "#Fahrenheit to Celsius Function\n",
    "\"\"\"\n",
    "Given three values - Start Fahrenheit Value (start), End Fahrenheit value (end) and Step Size (step),\n",
    "you need to convert all Fahrenheit values from Start to End at the gap of W,\n",
    "into their corresponding Celsius values and print the table.\n",
    "\n",
    "Input Format :\n",
    "3 integers - start, end and step respectively\n",
    "\n",
    "Output Format :\n",
    "Fahrenheit to Celsius conversion table.\n",
    "One line for every Fahrenheit and Celsius Fahrenheit value.\n",
    "Fahrenheit value and its corresponding Celsius value should be separate by tab (\"\\t\")\n",
    "\"\"\"\n",
    "\n",
    "Sample Input 1:\n",
    "0\n",
    "100\n",
    "20\n",
    "\n",
    "Sample Output 1:\n",
    "0   -17\n",
    "20  -6\n",
    "40  4\n",
    "60  15\n",
    "80  26\n",
    "100 37\n",
    "\n",
    "Sample Input 2:\n",
    "120\n",
    "200\n",
    "40\n",
    "\n",
    "Sample Output 2:\n",
    "120 48\n",
    "160 71\n",
    "200 93"
   ]
  },
  {
   "cell_type": "markdown",
   "id": "9b9dad59",
   "metadata": {},
   "source": [
    "## `Function`"
   ]
  },
  {
   "cell_type": "code",
   "execution_count": null,
   "id": "c394e7fd",
   "metadata": {},
   "outputs": [],
   "source": [
    " nCr = n! / ((n – r)! r!)"
   ]
  },
  {
   "cell_type": "code",
   "execution_count": 2,
   "id": "638c5d96",
   "metadata": {
    "scrolled": false
   },
   "outputs": [
    {
     "name": "stdout",
     "output_type": "stream",
     "text": [
      "4\n",
      "2\n",
      "6\n"
     ]
    }
   ],
   "source": [
    "n = int(input())\n",
    "r = int(input())\n",
    "\n",
    "n_fact = 1\n",
    "for i in range(1 , n + 1):\n",
    "    n_fact *= i \n",
    "\n",
    "r_fact = 1\n",
    "for i in range(1 , r + 1):\n",
    "    r_fact *= i\n",
    "    \n",
    "n_r_fact = 1\n",
    "for i in range(1 , n - r + 1):\n",
    "    n_r_fact *= i\n",
    "\n",
    "ans = n_fact // (r_fact * n_r_fact)\n",
    "print(ans)"
   ]
  },
  {
   "cell_type": "code",
   "execution_count": 7,
   "id": "f0dbfb72",
   "metadata": {},
   "outputs": [],
   "source": [
    "def fact(a):\n",
    "    a_fact = 1\n",
    "    for i in range(1 , a + 1):\n",
    "        a_fact *= i \n",
    "    return a_fact"
   ]
  },
  {
   "cell_type": "code",
   "execution_count": 8,
   "id": "7e8c4fc8",
   "metadata": {
    "scrolled": false
   },
   "outputs": [
    {
     "name": "stdout",
     "output_type": "stream",
     "text": [
      "5\n",
      "2\n",
      "10\n"
     ]
    }
   ],
   "source": [
    "n = int(input())\n",
    "r = int(input())\n",
    "\n",
    "n_fact = fact(n)\n",
    "r_fact = fact(r)\n",
    "n_r_fact = fact(n-r)\n",
    "ans = n_fact // (r_fact * n_r_fact)\n",
    "print(ans)"
   ]
  },
  {
   "cell_type": "markdown",
   "id": "f5de2cee",
   "metadata": {},
   "source": [
    "We can define our own functions:"
   ]
  },
  {
   "cell_type": "code",
   "execution_count": 11,
   "id": "b96c548c",
   "metadata": {},
   "outputs": [],
   "source": [
    "def func_1():\n",
    "    print(\"running func1\")"
   ]
  },
  {
   "cell_type": "code",
   "execution_count": 14,
   "id": "8586a9ee",
   "metadata": {},
   "outputs": [
    {
     "data": {
      "text/plain": [
       "<function __main__.func_1()>"
      ]
     },
     "execution_count": 14,
     "metadata": {},
     "output_type": "execute_result"
    }
   ],
   "source": [
    "func_1"
   ]
  },
  {
   "cell_type": "code",
   "execution_count": 12,
   "id": "064c62e2",
   "metadata": {},
   "outputs": [
    {
     "name": "stdout",
     "output_type": "stream",
     "text": [
      "running func1\n"
     ]
    }
   ],
   "source": [
    "func_1()"
   ]
  },
  {
   "cell_type": "markdown",
   "id": "e46e98ea",
   "metadata": {},
   "source": [
    "Note that to \"call\" or \"invoke\" a function we need to use the **()**.\n",
    "\n",
    "Simply using the function name without the **()** refers to the function, but does not call it:\n",
    "\n",
    "We can also define functions that take parameters:"
   ]
  },
  {
   "cell_type": "code",
   "execution_count": 23,
   "id": "bdea57ae",
   "metadata": {},
   "outputs": [],
   "source": [
    "def func_2(a,b):\n",
    "    return a*b"
   ]
  },
  {
   "cell_type": "markdown",
   "id": "9b2bc920",
   "metadata": {},
   "source": [
    "Note that **a** and **b** can be any type (this is an example of polymorphism - which we will look into more detail later in this course). \n",
    "\n",
    "But the function will fail to run if **a** and **b** are types that are not \"compatible\" with the ***** operator:"
   ]
  },
  {
   "cell_type": "code",
   "execution_count": 16,
   "id": "73a4dfbc",
   "metadata": {},
   "outputs": [
    {
     "data": {
      "text/plain": [
       "6"
      ]
     },
     "execution_count": 16,
     "metadata": {},
     "output_type": "execute_result"
    }
   ],
   "source": [
    "func_2(3,2)"
   ]
  },
  {
   "cell_type": "code",
   "execution_count": 17,
   "id": "9f9286b7",
   "metadata": {},
   "outputs": [
    {
     "data": {
      "text/plain": [
       "'aa'"
      ]
     },
     "execution_count": 17,
     "metadata": {},
     "output_type": "execute_result"
    }
   ],
   "source": [
    "func_2('a',2)"
   ]
  },
  {
   "cell_type": "code",
   "execution_count": 24,
   "id": "4aa2b35c",
   "metadata": {},
   "outputs": [
    {
     "ename": "TypeError",
     "evalue": "can't multiply sequence by non-int of type 'str'",
     "output_type": "error",
     "traceback": [
      "\u001b[1;31m---------------------------------------------------------------------------\u001b[0m",
      "\u001b[1;31mTypeError\u001b[0m                                 Traceback (most recent call last)",
      "\u001b[1;32m~\\AppData\\Local\\Temp/ipykernel_8992/1276049361.py\u001b[0m in \u001b[0;36m<module>\u001b[1;34m\u001b[0m\n\u001b[1;32m----> 1\u001b[1;33m \u001b[0mfunc_2\u001b[0m\u001b[1;33m(\u001b[0m\u001b[1;34m'a'\u001b[0m\u001b[1;33m,\u001b[0m\u001b[1;34m'b'\u001b[0m\u001b[1;33m)\u001b[0m\u001b[1;33m\u001b[0m\u001b[1;33m\u001b[0m\u001b[0m\n\u001b[0m",
      "\u001b[1;32m~\\AppData\\Local\\Temp/ipykernel_8992/1463598963.py\u001b[0m in \u001b[0;36mfunc_2\u001b[1;34m(a, b)\u001b[0m\n\u001b[0;32m      1\u001b[0m \u001b[1;32mdef\u001b[0m \u001b[0mfunc_2\u001b[0m\u001b[1;33m(\u001b[0m\u001b[0ma\u001b[0m\u001b[1;33m,\u001b[0m\u001b[0mb\u001b[0m\u001b[1;33m)\u001b[0m\u001b[1;33m:\u001b[0m\u001b[1;33m\u001b[0m\u001b[1;33m\u001b[0m\u001b[0m\n\u001b[1;32m----> 2\u001b[1;33m     \u001b[1;32mreturn\u001b[0m \u001b[0ma\u001b[0m\u001b[1;33m*\u001b[0m\u001b[0mb\u001b[0m\u001b[1;33m\u001b[0m\u001b[1;33m\u001b[0m\u001b[0m\n\u001b[0m",
      "\u001b[1;31mTypeError\u001b[0m: can't multiply sequence by non-int of type 'str'"
     ]
    }
   ],
   "source": [
    "func_2('a','b')"
   ]
  },
  {
   "cell_type": "code",
   "execution_count": 19,
   "id": "883a36c0",
   "metadata": {},
   "outputs": [
    {
     "data": {
      "text/plain": [
       "'aaaa'"
      ]
     },
     "execution_count": 19,
     "metadata": {},
     "output_type": "execute_result"
    }
   ],
   "source": [
    "'a'*4"
   ]
  },
  {
   "cell_type": "code",
   "execution_count": 21,
   "id": "e156853c",
   "metadata": {},
   "outputs": [],
   "source": [
    "def func_3(a,b):\n",
    "    return a**b"
   ]
  },
  {
   "cell_type": "code",
   "execution_count": 22,
   "id": "8bae0d07",
   "metadata": {
    "scrolled": true
   },
   "outputs": [
    {
     "ename": "TypeError",
     "evalue": "unsupported operand type(s) for ** or pow(): 'str' and 'int'",
     "output_type": "error",
     "traceback": [
      "\u001b[1;31m---------------------------------------------------------------------------\u001b[0m",
      "\u001b[1;31mTypeError\u001b[0m                                 Traceback (most recent call last)",
      "\u001b[1;32m~\\AppData\\Local\\Temp/ipykernel_8992/2515384175.py\u001b[0m in \u001b[0;36m<module>\u001b[1;34m\u001b[0m\n\u001b[1;32m----> 1\u001b[1;33m \u001b[0mfunc_3\u001b[0m\u001b[1;33m(\u001b[0m\u001b[1;34m'a'\u001b[0m\u001b[1;33m,\u001b[0m\u001b[1;36m2\u001b[0m\u001b[1;33m)\u001b[0m\u001b[1;33m\u001b[0m\u001b[1;33m\u001b[0m\u001b[0m\n\u001b[0m",
      "\u001b[1;32m~\\AppData\\Local\\Temp/ipykernel_8992/2748645663.py\u001b[0m in \u001b[0;36mfunc_3\u001b[1;34m(a, b)\u001b[0m\n\u001b[0;32m      1\u001b[0m \u001b[1;32mdef\u001b[0m \u001b[0mfunc_3\u001b[0m\u001b[1;33m(\u001b[0m\u001b[0ma\u001b[0m\u001b[1;33m,\u001b[0m\u001b[0mb\u001b[0m\u001b[1;33m)\u001b[0m\u001b[1;33m:\u001b[0m\u001b[1;33m\u001b[0m\u001b[1;33m\u001b[0m\u001b[0m\n\u001b[1;32m----> 2\u001b[1;33m     \u001b[1;32mreturn\u001b[0m \u001b[0ma\u001b[0m\u001b[1;33m**\u001b[0m\u001b[0mb\u001b[0m\u001b[1;33m\u001b[0m\u001b[1;33m\u001b[0m\u001b[0m\n\u001b[0m",
      "\u001b[1;31mTypeError\u001b[0m: unsupported operand type(s) for ** or pow(): 'str' and 'int'"
     ]
    }
   ],
   "source": [
    "func_3('a',2)"
   ]
  },
  {
   "cell_type": "markdown",
   "id": "6da7c575",
   "metadata": {},
   "source": [
    "Functions **must** always return something. If you do not specify a return value, Python will automatically return the **None** object:"
   ]
  },
  {
   "cell_type": "code",
   "execution_count": 1,
   "id": "7482cfd9",
   "metadata": {},
   "outputs": [],
   "source": [
    "def func_4():\n",
    "    a = 2"
   ]
  },
  {
   "cell_type": "code",
   "execution_count": 2,
   "id": "6fdcd88b",
   "metadata": {},
   "outputs": [],
   "source": [
    "res = func_4()"
   ]
  },
  {
   "cell_type": "code",
   "execution_count": 3,
   "id": "bf8090ec",
   "metadata": {
    "scrolled": true
   },
   "outputs": [
    {
     "name": "stdout",
     "output_type": "stream",
     "text": [
      "None\n"
     ]
    }
   ],
   "source": [
    "print(res)"
   ]
  },
  {
   "cell_type": "code",
   "execution_count": 31,
   "id": "b69525f4",
   "metadata": {},
   "outputs": [
    {
     "data": {
      "text/plain": [
       "2"
      ]
     },
     "execution_count": 31,
     "metadata": {},
     "output_type": "execute_result"
    }
   ],
   "source": [
    "res"
   ]
  },
  {
   "cell_type": "markdown",
   "id": "6360428f",
   "metadata": {},
   "source": [
    "The **def** keyword is an executable piece of code that creates the function (an instance of the **function** class) and essentially assigns it to a variable name (the function **name**). \n",
    "\n",
    "Note that the function is defined when **def** is reached, but the code inside it is not evaluated until the function is called.\n",
    "\n",
    "This is why we can define functions that call other functions defined later - as long as we don't call them before all the necessary functions are defined."
   ]
  },
  {
   "cell_type": "markdown",
   "id": "ae06d940",
   "metadata": {},
   "source": [
    "For example, the following will work:"
   ]
  },
  {
   "cell_type": "code",
   "execution_count": 4,
   "id": "50b7a81d",
   "metadata": {},
   "outputs": [
    {
     "name": "stdout",
     "output_type": "stream",
     "text": [
      "Hello\n"
     ]
    }
   ],
   "source": [
    "def fn_1():\n",
    "    fn_2()\n",
    "    \n",
    "def fn_2():\n",
    "    print('Hello')\n",
    "    \n",
    "fn_1()"
   ]
  },
  {
   "cell_type": "markdown",
   "id": "d2804e8e",
   "metadata": {},
   "source": [
    "But this will not work:"
   ]
  },
  {
   "cell_type": "code",
   "execution_count": 5,
   "id": "6c7e11e3",
   "metadata": {},
   "outputs": [
    {
     "ename": "NameError",
     "evalue": "name 'fn_4' is not defined",
     "output_type": "error",
     "traceback": [
      "\u001b[1;31m---------------------------------------------------------------------------\u001b[0m",
      "\u001b[1;31mNameError\u001b[0m                                 Traceback (most recent call last)",
      "\u001b[1;32m~\\AppData\\Local\\Temp/ipykernel_16976/1898922825.py\u001b[0m in \u001b[0;36m<module>\u001b[1;34m\u001b[0m\n\u001b[0;32m      2\u001b[0m     \u001b[0mfn_4\u001b[0m\u001b[1;33m(\u001b[0m\u001b[1;33m)\u001b[0m\u001b[1;33m\u001b[0m\u001b[1;33m\u001b[0m\u001b[0m\n\u001b[0;32m      3\u001b[0m \u001b[1;33m\u001b[0m\u001b[0m\n\u001b[1;32m----> 4\u001b[1;33m \u001b[0mfn_3\u001b[0m\u001b[1;33m(\u001b[0m\u001b[1;33m)\u001b[0m\u001b[1;33m\u001b[0m\u001b[1;33m\u001b[0m\u001b[0m\n\u001b[0m\u001b[0;32m      5\u001b[0m \u001b[1;33m\u001b[0m\u001b[0m\n\u001b[0;32m      6\u001b[0m \u001b[1;32mdef\u001b[0m \u001b[0mfn_4\u001b[0m\u001b[1;33m(\u001b[0m\u001b[1;33m)\u001b[0m\u001b[1;33m:\u001b[0m\u001b[1;33m\u001b[0m\u001b[1;33m\u001b[0m\u001b[0m\n",
      "\u001b[1;32m~\\AppData\\Local\\Temp/ipykernel_16976/1898922825.py\u001b[0m in \u001b[0;36mfn_3\u001b[1;34m()\u001b[0m\n\u001b[0;32m      1\u001b[0m \u001b[1;32mdef\u001b[0m \u001b[0mfn_3\u001b[0m\u001b[1;33m(\u001b[0m\u001b[1;33m)\u001b[0m\u001b[1;33m:\u001b[0m\u001b[1;33m\u001b[0m\u001b[1;33m\u001b[0m\u001b[0m\n\u001b[1;32m----> 2\u001b[1;33m     \u001b[0mfn_4\u001b[0m\u001b[1;33m(\u001b[0m\u001b[1;33m)\u001b[0m\u001b[1;33m\u001b[0m\u001b[1;33m\u001b[0m\u001b[0m\n\u001b[0m\u001b[0;32m      3\u001b[0m \u001b[1;33m\u001b[0m\u001b[0m\n\u001b[0;32m      4\u001b[0m \u001b[0mfn_3\u001b[0m\u001b[1;33m(\u001b[0m\u001b[1;33m)\u001b[0m\u001b[1;33m\u001b[0m\u001b[1;33m\u001b[0m\u001b[0m\n\u001b[0;32m      5\u001b[0m \u001b[1;33m\u001b[0m\u001b[0m\n",
      "\u001b[1;31mNameError\u001b[0m: name 'fn_4' is not defined"
     ]
    }
   ],
   "source": [
    "def fn_3():\n",
    "    fn_4()\n",
    "\n",
    "fn_3()\n",
    "\n",
    "def fn_4():\n",
    "    print('Hello')"
   ]
  },
  {
   "cell_type": "markdown",
   "id": "4a4eb257",
   "metadata": {},
   "source": [
    "## `Positional Arguments`"
   ]
  },
  {
   "cell_type": "code",
   "execution_count": 32,
   "id": "138b856c",
   "metadata": {
    "scrolled": true
   },
   "outputs": [
    {
     "name": "stdout",
     "output_type": "stream",
     "text": [
      "a = 1 , b = 2 , c = 3\n"
     ]
    }
   ],
   "source": [
    "def my_func(a,b,c):\n",
    "    print(f'a = {a} , b = {b} , c = {c}')\n",
    "    \n",
    "my_func(1 ,2 ,3)"
   ]
  },
  {
   "cell_type": "markdown",
   "id": "2ddd0135",
   "metadata": {},
   "source": [
    "## `Default Parameters in Functions`"
   ]
  },
  {
   "cell_type": "code",
   "execution_count": 37,
   "id": "debec213",
   "metadata": {},
   "outputs": [
    {
     "name": "stdout",
     "output_type": "stream",
     "text": [
      "a = 1 , b = 5 , c = 7\n",
      "a = 1 , b = 5 , c = 7\n"
     ]
    }
   ],
   "source": [
    "def my_func(a ,b = 2 , c = 3):\n",
    "    print(f'a = {a} , b = {b} , c = {c}')\n",
    "    print(\"a = {0} , b = {1} , c = {2}\".format(a,b,c))\n",
    "    \n",
    "my_func(1 ,5 ,7)"
   ]
  },
  {
   "cell_type": "code",
   "execution_count": 34,
   "id": "46e599ed",
   "metadata": {},
   "outputs": [
    {
     "name": "stdout",
     "output_type": "stream",
     "text": [
      "a = 1 , b = 2 , c = 3\n"
     ]
    }
   ],
   "source": [
    "def my_func(a ,b = 2 , c = 3):\n",
    "    print(f'a = {a} , b = {b} , c = {c}')\n",
    "    \n",
    "my_func(1 , 2)"
   ]
  },
  {
   "cell_type": "code",
   "execution_count": 6,
   "id": "28dfb66e",
   "metadata": {},
   "outputs": [
    {
     "name": "stdout",
     "output_type": "stream",
     "text": [
      "a = 1 , b = 2 , c = 3\n"
     ]
    }
   ],
   "source": [
    "def my_func(a ,b = 2 , c = 3):\n",
    "    print(f'a = {a} , b = {b} , c = {c}')\n",
    "    \n",
    "my_func(1 )"
   ]
  },
  {
   "cell_type": "code",
   "execution_count": 7,
   "id": "ddeacacd",
   "metadata": {},
   "outputs": [
    {
     "name": "stdout",
     "output_type": "stream",
     "text": [
      "a = 10 , b = 20 , c = 3\n"
     ]
    }
   ],
   "source": [
    "my_func(10, 20)"
   ]
  },
  {
   "cell_type": "code",
   "execution_count": 8,
   "id": "3a425cfe",
   "metadata": {
    "scrolled": true
   },
   "outputs": [
    {
     "name": "stdout",
     "output_type": "stream",
     "text": [
      "a = 10 , b = 2 , c = 3\n"
     ]
    }
   ],
   "source": [
    "my_func(10)"
   ]
  },
  {
   "cell_type": "markdown",
   "id": "d05b6b27",
   "metadata": {},
   "source": [
    "Since **a** does not have a default value, it **must** be specified:"
   ]
  },
  {
   "cell_type": "code",
   "execution_count": 9,
   "id": "69712e72",
   "metadata": {
    "scrolled": true
   },
   "outputs": [
    {
     "ename": "TypeError",
     "evalue": "my_func() missing 1 required positional argument: 'a'",
     "output_type": "error",
     "traceback": [
      "\u001b[1;31m---------------------------------------------------------------------------\u001b[0m",
      "\u001b[1;31mTypeError\u001b[0m                                 Traceback (most recent call last)",
      "\u001b[1;32m~\\AppData\\Local\\Temp/ipykernel_16976/3936476787.py\u001b[0m in \u001b[0;36m<module>\u001b[1;34m\u001b[0m\n\u001b[1;32m----> 1\u001b[1;33m \u001b[0mmy_func\u001b[0m\u001b[1;33m(\u001b[0m\u001b[1;33m)\u001b[0m\u001b[1;33m\u001b[0m\u001b[1;33m\u001b[0m\u001b[0m\n\u001b[0m",
      "\u001b[1;31mTypeError\u001b[0m: my_func() missing 1 required positional argument: 'a'"
     ]
    }
   ],
   "source": [
    "my_func()"
   ]
  },
  {
   "cell_type": "markdown",
   "id": "6ef60d34",
   "metadata": {},
   "source": [
    "Note that once a parameter is assigned a default value, **all** parameters thereafter **must** be asigned a default value too!"
   ]
  },
  {
   "cell_type": "markdown",
   "id": "30092629",
   "metadata": {},
   "source": [
    "For example, this will not work:"
   ]
  },
  {
   "cell_type": "code",
   "execution_count": 36,
   "id": "df670abc",
   "metadata": {
    "scrolled": true
   },
   "outputs": [
    {
     "ename": "SyntaxError",
     "evalue": "non-default argument follows default argument (Temp/ipykernel_8992/1646200148.py, line 1)",
     "output_type": "error",
     "traceback": [
      "\u001b[1;36m  File \u001b[1;32m\"C:\\Users\\Anikesh\\AppData\\Local\\Temp/ipykernel_8992/1646200148.py\"\u001b[1;36m, line \u001b[1;32m1\u001b[0m\n\u001b[1;33m    def my_func(a ,b = 2 , c ):\u001b[0m\n\u001b[1;37m                           ^\u001b[0m\n\u001b[1;31mSyntaxError\u001b[0m\u001b[1;31m:\u001b[0m non-default argument follows default argument\n"
     ]
    }
   ],
   "source": [
    "def my_func(a ,b = 2 , c ):\n",
    "    print(f'a = {a} , b = {b} , c = {c}')\n",
    "    \n",
    "my_func(1 , 5)"
   ]
  },
  {
   "cell_type": "markdown",
   "id": "048a2cce",
   "metadata": {},
   "source": [
    "## `KeyWord Argument ( named Arguments)`"
   ]
  },
  {
   "cell_type": "markdown",
   "id": "7f39f22d",
   "metadata": {},
   "source": [
    "Positional arguments, can **optionally**, be specified using their corresponding parameter name.\n",
    "\n",
    "This allows us to pass the arguments without using the positional assignment:"
   ]
  },
  {
   "cell_type": "code",
   "execution_count": 39,
   "id": "5b8f3034",
   "metadata": {
    "scrolled": false
   },
   "outputs": [
    {
     "name": "stdout",
     "output_type": "stream",
     "text": [
      "a = 1 , b = 2 , c = 5\n"
     ]
    }
   ],
   "source": [
    "def my_func(a ,b = 2 , c = 3 ):\n",
    "    print(f'a = {a} , b = {b} , c = {c}')\n",
    "    \n",
    "my_func(1 , c = 5)"
   ]
  },
  {
   "cell_type": "code",
   "execution_count": 40,
   "id": "5deda8d1",
   "metadata": {},
   "outputs": [
    {
     "name": "stdout",
     "output_type": "stream",
     "text": [
      "a = 1 , b = 3 , c = 5\n"
     ]
    }
   ],
   "source": [
    "def my_func(a ,b , c = 3 ):\n",
    "    print(f'a = {a} , b = {b} , c = {c}')\n",
    "    \n",
    "my_func(1 , 3, c = 5)"
   ]
  },
  {
   "cell_type": "code",
   "execution_count": 41,
   "id": "ff70bb4d",
   "metadata": {},
   "outputs": [
    {
     "name": "stdout",
     "output_type": "stream",
     "text": [
      "a = 1 , b = 2 , c = 5\n"
     ]
    }
   ],
   "source": [
    "def my_func(a ,b = 2 , c = 3 ):\n",
    "    print(f'a = {a} , b = {b} , c = {c}')\n",
    "    \n",
    "my_func(1 , c = 5)"
   ]
  },
  {
   "cell_type": "code",
   "execution_count": 10,
   "id": "4827f7d9",
   "metadata": {},
   "outputs": [
    {
     "name": "stdout",
     "output_type": "stream",
     "text": [
      "a = 10 , b = 15 , c = 5\n"
     ]
    }
   ],
   "source": [
    "def my_func(a ,b = 2 , c = 3 ):\n",
    "    print(f'a = {a} , b = {b} , c = {c}')\n",
    "    \n",
    "my_func(10 , c = 5 , b = 15)"
   ]
  },
  {
   "cell_type": "markdown",
   "id": "c22eb5dc",
   "metadata": {},
   "source": [
    "Note that once a keyword argument has been used, **all** arguments thereafter **must** also be named:"
   ]
  },
  {
   "cell_type": "code",
   "execution_count": 11,
   "id": "9823e6df",
   "metadata": {},
   "outputs": [
    {
     "ename": "SyntaxError",
     "evalue": "positional argument follows keyword argument (Temp/ipykernel_16976/3343971405.py, line 1)",
     "output_type": "error",
     "traceback": [
      "\u001b[1;36m  File \u001b[1;32m\"C:\\Users\\Anikesh\\AppData\\Local\\Temp/ipykernel_16976/3343971405.py\"\u001b[1;36m, line \u001b[1;32m1\u001b[0m\n\u001b[1;33m    my_func(10, b=20, 30)\u001b[0m\n\u001b[1;37m                        ^\u001b[0m\n\u001b[1;31mSyntaxError\u001b[0m\u001b[1;31m:\u001b[0m positional argument follows keyword argument\n"
     ]
    }
   ],
   "source": [
    "my_func(10, b=20, 30)"
   ]
  },
  {
   "cell_type": "markdown",
   "id": "42da3c94",
   "metadata": {},
   "source": [
    "However, if a parameter has a default value, it *can* be omitted from the argument list, named or not:m"
   ]
  },
  {
   "cell_type": "code",
   "execution_count": 13,
   "id": "ebc05e14",
   "metadata": {},
   "outputs": [
    {
     "name": "stdout",
     "output_type": "stream",
     "text": [
      "a = 10 , b = 2 , c = 30\n"
     ]
    }
   ],
   "source": [
    "my_func(10, c=30)"
   ]
  },
  {
   "cell_type": "code",
   "execution_count": 14,
   "id": "66d55adc",
   "metadata": {},
   "outputs": [
    {
     "name": "stdout",
     "output_type": "stream",
     "text": [
      "a = 30 , b = 2 , c = 10\n"
     ]
    }
   ],
   "source": [
    "my_func(a=30, c=10)"
   ]
  },
  {
   "cell_type": "code",
   "execution_count": 15,
   "id": "2945f619",
   "metadata": {},
   "outputs": [
    {
     "name": "stdout",
     "output_type": "stream",
     "text": [
      "a = 30 , b = 2 , c = 10\n"
     ]
    }
   ],
   "source": [
    "my_func(c=10, a=30)"
   ]
  },
  {
   "cell_type": "markdown",
   "id": "83507ada",
   "metadata": {},
   "source": [
    "## `Unpacking Iterables`"
   ]
  },
  {
   "cell_type": "markdown",
   "id": "03b69668",
   "metadata": {},
   "source": [
    "#### Side Note on Tuples"
   ]
  },
  {
   "cell_type": "markdown",
   "id": "5e0d3892",
   "metadata": {},
   "source": [
    "This is a tuple:"
   ]
  },
  {
   "cell_type": "code",
   "execution_count": 16,
   "id": "5cfa997a",
   "metadata": {},
   "outputs": [],
   "source": [
    "a = (1, 2, 3)"
   ]
  },
  {
   "cell_type": "code",
   "execution_count": 17,
   "id": "f30ca479",
   "metadata": {},
   "outputs": [
    {
     "data": {
      "text/plain": [
       "tuple"
      ]
     },
     "execution_count": 17,
     "metadata": {},
     "output_type": "execute_result"
    }
   ],
   "source": [
    "type(a)"
   ]
  },
  {
   "cell_type": "markdown",
   "id": "af9ed942",
   "metadata": {},
   "source": [
    "This is also a tuple:"
   ]
  },
  {
   "cell_type": "code",
   "execution_count": 43,
   "id": "9f197dfb",
   "metadata": {
    "scrolled": true
   },
   "outputs": [
    {
     "data": {
      "text/plain": [
       "tuple"
      ]
     },
     "execution_count": 43,
     "metadata": {},
     "output_type": "execute_result"
    }
   ],
   "source": [
    "a = 1,2,3\n",
    "type(a)"
   ]
  },
  {
   "cell_type": "markdown",
   "id": "73baa716",
   "metadata": {},
   "source": [
    "In fact what defines a tuple is not **()**, but the **,** (comma)"
   ]
  },
  {
   "cell_type": "markdown",
   "id": "9b918d4f",
   "metadata": {},
   "source": [
    "To create a tuple with a single element:"
   ]
  },
  {
   "cell_type": "code",
   "execution_count": 19,
   "id": "d59f72ce",
   "metadata": {},
   "outputs": [],
   "source": [
    "a = (1)"
   ]
  },
  {
   "cell_type": "markdown",
   "id": "0ecfacdc",
   "metadata": {},
   "source": [
    "will not work!!"
   ]
  },
  {
   "cell_type": "code",
   "execution_count": 20,
   "id": "f28014f5",
   "metadata": {},
   "outputs": [
    {
     "data": {
      "text/plain": [
       "int"
      ]
     },
     "execution_count": 20,
     "metadata": {},
     "output_type": "execute_result"
    }
   ],
   "source": [
    "type(a)"
   ]
  },
  {
   "cell_type": "markdown",
   "id": "4a8e9b90",
   "metadata": {},
   "source": [
    "Instead, we have to use a comma:"
   ]
  },
  {
   "cell_type": "code",
   "execution_count": 21,
   "id": "576df108",
   "metadata": {},
   "outputs": [],
   "source": [
    "a = (1,)"
   ]
  },
  {
   "cell_type": "code",
   "execution_count": 22,
   "id": "93b43779",
   "metadata": {},
   "outputs": [
    {
     "data": {
      "text/plain": [
       "tuple"
      ]
     },
     "execution_count": 22,
     "metadata": {},
     "output_type": "execute_result"
    }
   ],
   "source": [
    "type(a)"
   ]
  },
  {
   "cell_type": "markdown",
   "id": "fb132d5b",
   "metadata": {},
   "source": [
    "And in fact, we don't even need the **()**:"
   ]
  },
  {
   "cell_type": "code",
   "execution_count": 23,
   "id": "4b57f91a",
   "metadata": {},
   "outputs": [],
   "source": [
    "a = 1,"
   ]
  },
  {
   "cell_type": "code",
   "execution_count": 24,
   "id": "956015c5",
   "metadata": {},
   "outputs": [
    {
     "data": {
      "text/plain": [
       "tuple"
      ]
     },
     "execution_count": 24,
     "metadata": {},
     "output_type": "execute_result"
    }
   ],
   "source": [
    "type(a)"
   ]
  },
  {
   "cell_type": "markdown",
   "id": "2a5c3381",
   "metadata": {},
   "source": [
    "The only exception is to create an empty tuple:"
   ]
  },
  {
   "cell_type": "code",
   "execution_count": 25,
   "id": "a56b041a",
   "metadata": {},
   "outputs": [],
   "source": [
    "a = ()"
   ]
  },
  {
   "cell_type": "code",
   "execution_count": 26,
   "id": "038581eb",
   "metadata": {},
   "outputs": [
    {
     "data": {
      "text/plain": [
       "tuple"
      ]
     },
     "execution_count": 26,
     "metadata": {},
     "output_type": "execute_result"
    }
   ],
   "source": [
    "type(a)"
   ]
  },
  {
   "cell_type": "markdown",
   "id": "79ea2285",
   "metadata": {},
   "source": [
    "Or we can use the tuple constructor:"
   ]
  },
  {
   "cell_type": "code",
   "execution_count": 27,
   "id": "02252b55",
   "metadata": {},
   "outputs": [],
   "source": [
    "a = tuple()"
   ]
  },
  {
   "cell_type": "code",
   "execution_count": 28,
   "id": "b1cc646f",
   "metadata": {
    "scrolled": true
   },
   "outputs": [
    {
     "data": {
      "text/plain": [
       "tuple"
      ]
     },
     "execution_count": 28,
     "metadata": {},
     "output_type": "execute_result"
    }
   ],
   "source": [
    "type(a)"
   ]
  },
  {
   "cell_type": "markdown",
   "id": "88759736",
   "metadata": {},
   "source": [
    "#### Unpacking"
   ]
  },
  {
   "cell_type": "markdown",
   "id": "cbf2bd31",
   "metadata": {},
   "source": [
    "Unpacking is a way to split an iterable object into individual variables contained in a list or tuple: "
   ]
  },
  {
   "cell_type": "code",
   "execution_count": 44,
   "id": "e30d3fd9",
   "metadata": {},
   "outputs": [],
   "source": [
    "l = [1,2,3,4]"
   ]
  },
  {
   "cell_type": "code",
   "execution_count": 45,
   "id": "dfa5ec95",
   "metadata": {
    "scrolled": true
   },
   "outputs": [
    {
     "name": "stdout",
     "output_type": "stream",
     "text": [
      "1 2 3 4\n"
     ]
    }
   ],
   "source": [
    "a,b,c,d = l\n",
    "print(a,b,c,d)"
   ]
  },
  {
   "cell_type": "markdown",
   "id": "c2d53bc3",
   "metadata": {},
   "source": [
    "Strings are iterables too:"
   ]
  },
  {
   "cell_type": "code",
   "execution_count": 46,
   "id": "078e442a",
   "metadata": {},
   "outputs": [
    {
     "name": "stdout",
     "output_type": "stream",
     "text": [
      "X Y Z\n"
     ]
    }
   ],
   "source": [
    "a , b, c = 'XYZ'\n",
    "print(a,b,c)"
   ]
  },
  {
   "cell_type": "markdown",
   "id": "e4a76168",
   "metadata": {},
   "source": [
    "## Swapping Two Variables"
   ]
  },
  {
   "cell_type": "markdown",
   "id": "878ee88a",
   "metadata": {},
   "source": [
    "Here's a quick application of unpacking to swap the values of two variables.\n",
    "\n",
    "First we look at the \"traditional\" way you would have to do it in other languages such as Java:"
   ]
  },
  {
   "cell_type": "code",
   "execution_count": 48,
   "id": "4e8f6389",
   "metadata": {
    "scrolled": true
   },
   "outputs": [
    {
     "name": "stdout",
     "output_type": "stream",
     "text": [
      "Initial :- a = 10 , b = 20\n",
      "Final:- a = 20 , b = 10\n"
     ]
    }
   ],
   "source": [
    "a = 10\n",
    "b = 20\n",
    "print(f'Initial :- a = {a} , b = {b}')\n",
    "\n",
    "temp = a\n",
    "a = b\n",
    "b = temp\n",
    "print(f'Final:- a = {a} , b = {b}')"
   ]
  },
  {
   "cell_type": "markdown",
   "id": "1fdca1c7",
   "metadata": {},
   "source": [
    "But using unpacking we can simplify this:"
   ]
  },
  {
   "cell_type": "code",
   "execution_count": 49,
   "id": "5a993e8f",
   "metadata": {
    "scrolled": true
   },
   "outputs": [
    {
     "name": "stdout",
     "output_type": "stream",
     "text": [
      "Initial :- a = 10 , b = 20\n",
      "Final:- a = 20 , b = 10\n"
     ]
    }
   ],
   "source": [
    "a = 10\n",
    "b = 20\n",
    "print(f'Initial :- a = {a} , b = {b}')\n",
    "\n",
    "a,b = b,a\n",
    "print(f'Final:- a = {a} , b = {b}')"
   ]
  },
  {
   "cell_type": "markdown",
   "id": "b93bbedb",
   "metadata": {},
   "source": [
    "In fact, we can even simplify the initial assignment of values to a and b as follows:"
   ]
  },
  {
   "cell_type": "code",
   "execution_count": 50,
   "id": "038feeb4",
   "metadata": {},
   "outputs": [
    {
     "name": "stdout",
     "output_type": "stream",
     "text": [
      "Initial :- a = 10 , b = 20\n",
      "Final:- a = 20 , b = 10\n"
     ]
    }
   ],
   "source": [
    "a ,b = 10 , 20\n",
    "print(f'Initial :- a = {a} , b = {b}')\n",
    "\n",
    "a,b = b,a\n",
    "print(f'Final:- a = {a} , b = {b}')"
   ]
  },
  {
   "cell_type": "markdown",
   "id": "e188172a",
   "metadata": {},
   "source": [
    "## Extended Unpacking"
   ]
  },
  {
   "cell_type": "markdown",
   "id": "9ab3aee2",
   "metadata": {},
   "source": [
    "Let's see how we might split a list into it's first element, and \"everything else\" using slicing:"
   ]
  },
  {
   "cell_type": "code",
   "execution_count": 51,
   "id": "cb38f30d",
   "metadata": {},
   "outputs": [],
   "source": [
    "l = [1,2,3,4,5,6,7,8]"
   ]
  },
  {
   "cell_type": "code",
   "execution_count": 52,
   "id": "cca0d00e",
   "metadata": {
    "scrolled": true
   },
   "outputs": [
    {
     "name": "stdout",
     "output_type": "stream",
     "text": [
      "1\n",
      "[2, 3, 4, 5, 6, 7, 8]\n"
     ]
    }
   ],
   "source": [
    "a = l[0]\n",
    "b = l[1:]\n",
    "print(a)\n",
    "print(b)"
   ]
  },
  {
   "cell_type": "markdown",
   "id": "6f07d72d",
   "metadata": {},
   "source": [
    "We can even use unpacking to simplify this slightly:"
   ]
  },
  {
   "cell_type": "code",
   "execution_count": 53,
   "id": "330e97df",
   "metadata": {},
   "outputs": [
    {
     "name": "stdout",
     "output_type": "stream",
     "text": [
      "1\n",
      "[2, 3, 4, 5, 6, 7, 8]\n"
     ]
    }
   ],
   "source": [
    "a , b = l[0] , l[1:]\n",
    "print(a)\n",
    "print(b)"
   ]
  },
  {
   "cell_type": "markdown",
   "id": "56e39b8b",
   "metadata": {},
   "source": [
    "But we can use the **\\*** operator to achieve the same result:"
   ]
  },
  {
   "cell_type": "code",
   "execution_count": 54,
   "id": "1a30460a",
   "metadata": {},
   "outputs": [],
   "source": [
    "l = [1,2,3,4,5,6,7,8]"
   ]
  },
  {
   "cell_type": "code",
   "execution_count": 57,
   "id": "1f174c56",
   "metadata": {},
   "outputs": [
    {
     "name": "stdout",
     "output_type": "stream",
     "text": [
      "1\n",
      "[2, 3, 4, 5, 6, 7, 8]\n"
     ]
    }
   ],
   "source": [
    "a , *b = l\n",
    "print(a)\n",
    "print(b)"
   ]
  },
  {
   "cell_type": "markdown",
   "id": "053c4925",
   "metadata": {},
   "source": [
    "Note that the **\\*** operator can only appear **once**!\n",
    "\n",
    "Like standard unpacking, this extended unpacking will work with any iterable.\n",
    "\n",
    "With tuples:"
   ]
  },
  {
   "cell_type": "code",
   "execution_count": 58,
   "id": "f8f5e649",
   "metadata": {},
   "outputs": [],
   "source": [
    "a , *b = -10 , 5 , 2 , 100"
   ]
  },
  {
   "cell_type": "code",
   "execution_count": 59,
   "id": "ee812312",
   "metadata": {},
   "outputs": [
    {
     "name": "stdout",
     "output_type": "stream",
     "text": [
      "-10\n",
      "[5, 2, 100]\n"
     ]
    }
   ],
   "source": [
    "print(a)\n",
    "print(b)"
   ]
  },
  {
   "cell_type": "markdown",
   "id": "4d3687bd",
   "metadata": {},
   "source": [
    "With strings:"
   ]
  },
  {
   "cell_type": "code",
   "execution_count": 60,
   "id": "00f6f582",
   "metadata": {},
   "outputs": [],
   "source": [
    "a , *b = \"JIGARPAL\""
   ]
  },
  {
   "cell_type": "code",
   "execution_count": 61,
   "id": "dd61cbfb",
   "metadata": {},
   "outputs": [
    {
     "name": "stdout",
     "output_type": "stream",
     "text": [
      "J\n",
      "['I', 'G', 'A', 'R', 'P', 'A', 'L']\n"
     ]
    }
   ],
   "source": [
    "print(a)\n",
    "print(b)"
   ]
  },
  {
   "cell_type": "code",
   "execution_count": 62,
   "id": "a838f461",
   "metadata": {},
   "outputs": [],
   "source": [
    "c = ''.join(b)"
   ]
  },
  {
   "cell_type": "code",
   "execution_count": 63,
   "id": "24458b7c",
   "metadata": {},
   "outputs": [
    {
     "name": "stdout",
     "output_type": "stream",
     "text": [
      "IGARPAL\n"
     ]
    }
   ],
   "source": [
    "print(c)"
   ]
  },
  {
   "cell_type": "code",
   "execution_count": 64,
   "id": "308e345d",
   "metadata": {},
   "outputs": [
    {
     "name": "stdout",
     "output_type": "stream",
     "text": [
      "[1, 2, 3, 4, 5, 6]\n"
     ]
    }
   ],
   "source": [
    "l1 = [1,2,3]\n",
    "l2 = [4,5,6]\n",
    "l = [*l1 , *l2]\n",
    "print(l)"
   ]
  },
  {
   "cell_type": "code",
   "execution_count": 65,
   "id": "38241e25",
   "metadata": {},
   "outputs": [
    {
     "name": "stdout",
     "output_type": "stream",
     "text": [
      "[1, 2, 3, 'A', 'B', 'C']\n"
     ]
    }
   ],
   "source": [
    "l1 = [1,2,3]\n",
    "s = \"ABC\"\n",
    "l = [*l1 , *s]\n",
    "print(l)"
   ]
  },
  {
   "cell_type": "markdown",
   "id": "08347108",
   "metadata": {},
   "source": [
    "## `*args`"
   ]
  },
  {
   "cell_type": "markdown",
   "id": "8b94e21d",
   "metadata": {},
   "source": [
    "Recall from iterable unpacking:"
   ]
  },
  {
   "cell_type": "markdown",
   "id": "d712fc89",
   "metadata": {},
   "source": [
    "We can use a similar concept in function definitions to allow for arbitrary numbers of **positional** parameters/arguments:"
   ]
  },
  {
   "cell_type": "code",
   "execution_count": 68,
   "id": "f1283ef3",
   "metadata": {},
   "outputs": [],
   "source": [
    "def func1(a , b ,*args):\n",
    "    print(a)\n",
    "    print(b)    \n",
    "    print(args)"
   ]
  },
  {
   "cell_type": "code",
   "execution_count": 69,
   "id": "d6c0ad51",
   "metadata": {},
   "outputs": [
    {
     "name": "stdout",
     "output_type": "stream",
     "text": [
      "1\n",
      "2\n",
      "('a', 'b')\n"
     ]
    }
   ],
   "source": [
    "func1(1,2,'a','b')"
   ]
  },
  {
   "cell_type": "code",
   "execution_count": 70,
   "id": "db57a891",
   "metadata": {
    "scrolled": true
   },
   "outputs": [
    {
     "name": "stdout",
     "output_type": "stream",
     "text": [
      "1\n",
      "2\n",
      "('a', 'b', 5, 8.1)\n"
     ]
    }
   ],
   "source": [
    "func1(1,2,'a','b',5,8.10)"
   ]
  },
  {
   "cell_type": "markdown",
   "id": "cdabceaa",
   "metadata": {},
   "source": [
    "A few things to note:"
   ]
  },
  {
   "cell_type": "markdown",
   "id": "f33afd7a",
   "metadata": {},
   "source": [
    "1. Unlike iterable unpacking, **\\*args** will be a **tuple**, not a list.\n",
    "\n",
    "2. The name of the parameter **args** can be anything you prefer\n",
    "\n",
    "3. You cannot specify positional arguments **after** the **\\*args** parameter - this does something different that we'll cover in the next lecture."
   ]
  },
  {
   "cell_type": "code",
   "execution_count": 71,
   "id": "10aef3a2",
   "metadata": {},
   "outputs": [],
   "source": [
    "def func1(a , b ,*anurag):\n",
    "    print(a)\n",
    "    print(b)    \n",
    "    print(anurag)"
   ]
  },
  {
   "cell_type": "code",
   "execution_count": 72,
   "id": "5d9f9ebd",
   "metadata": {},
   "outputs": [
    {
     "name": "stdout",
     "output_type": "stream",
     "text": [
      "1\n",
      "2\n",
      "('a', 'b', 5, 8.1)\n"
     ]
    }
   ],
   "source": [
    "func1(1,2,'a','b',5,8.10)"
   ]
  },
  {
   "cell_type": "code",
   "execution_count": 76,
   "id": "a0086719",
   "metadata": {},
   "outputs": [],
   "source": [
    "def func1(a , b ,*args, c):\n",
    "    print(a)\n",
    "    print(b)    \n",
    "    print(args)\n",
    "    print(c)"
   ]
  },
  {
   "cell_type": "code",
   "execution_count": 77,
   "id": "19b9be85",
   "metadata": {},
   "outputs": [
    {
     "name": "stdout",
     "output_type": "stream",
     "text": [
      "1\n",
      "2\n",
      "('a', 'b', 5, 8.1)\n",
      "c\n"
     ]
    }
   ],
   "source": [
    "func1(1,2,'a','b',5,8.10,  'c')"
   ]
  },
  {
   "cell_type": "markdown",
   "id": "d68b5e1e",
   "metadata": {},
   "source": [
    "Let's see how we might use this to calculate the average of an arbitrary number of parameters."
   ]
  },
  {
   "cell_type": "code",
   "execution_count": 80,
   "id": "dff5c098",
   "metadata": {},
   "outputs": [],
   "source": [
    "def avg(*args):\n",
    "    count = len(args)\n",
    "    total = sum(args)\n",
    "    return total / count"
   ]
  },
  {
   "cell_type": "code",
   "execution_count": 81,
   "id": "b814937c",
   "metadata": {
    "scrolled": true
   },
   "outputs": [
    {
     "data": {
      "text/plain": [
       "3.0"
      ]
     },
     "execution_count": 81,
     "metadata": {},
     "output_type": "execute_result"
    }
   ],
   "source": [
    "avg(2,2,4,4)"
   ]
  },
  {
   "cell_type": "markdown",
   "id": "03744865",
   "metadata": {},
   "source": [
    "But watch what happens here:"
   ]
  },
  {
   "cell_type": "code",
   "execution_count": 82,
   "id": "eda93c63",
   "metadata": {
    "scrolled": true
   },
   "outputs": [
    {
     "ename": "ZeroDivisionError",
     "evalue": "division by zero",
     "output_type": "error",
     "traceback": [
      "\u001b[1;31m---------------------------------------------------------------------------\u001b[0m",
      "\u001b[1;31mZeroDivisionError\u001b[0m                         Traceback (most recent call last)",
      "\u001b[1;32m~\\AppData\\Local\\Temp/ipykernel_8992/2436246565.py\u001b[0m in \u001b[0;36m<module>\u001b[1;34m\u001b[0m\n\u001b[1;32m----> 1\u001b[1;33m \u001b[0mavg\u001b[0m\u001b[1;33m(\u001b[0m\u001b[1;33m)\u001b[0m\u001b[1;33m\u001b[0m\u001b[1;33m\u001b[0m\u001b[0m\n\u001b[0m",
      "\u001b[1;32m~\\AppData\\Local\\Temp/ipykernel_8992/385245673.py\u001b[0m in \u001b[0;36mavg\u001b[1;34m(*args)\u001b[0m\n\u001b[0;32m      2\u001b[0m     \u001b[0mcount\u001b[0m \u001b[1;33m=\u001b[0m \u001b[0mlen\u001b[0m\u001b[1;33m(\u001b[0m\u001b[0margs\u001b[0m\u001b[1;33m)\u001b[0m\u001b[1;33m\u001b[0m\u001b[1;33m\u001b[0m\u001b[0m\n\u001b[0;32m      3\u001b[0m     \u001b[0mtotal\u001b[0m \u001b[1;33m=\u001b[0m \u001b[0msum\u001b[0m\u001b[1;33m(\u001b[0m\u001b[0margs\u001b[0m\u001b[1;33m)\u001b[0m\u001b[1;33m\u001b[0m\u001b[1;33m\u001b[0m\u001b[0m\n\u001b[1;32m----> 4\u001b[1;33m     \u001b[1;32mreturn\u001b[0m \u001b[0mtotal\u001b[0m \u001b[1;33m/\u001b[0m \u001b[0mcount\u001b[0m\u001b[1;33m\u001b[0m\u001b[1;33m\u001b[0m\u001b[0m\n\u001b[0m",
      "\u001b[1;31mZeroDivisionError\u001b[0m: division by zero"
     ]
    }
   ],
   "source": [
    "avg()"
   ]
  },
  {
   "cell_type": "markdown",
   "id": "6b1aaa88",
   "metadata": {},
   "source": [
    "The problem is that we passed zero arguments.\n",
    "\n",
    "We can fix this in one of two ways:"
   ]
  },
  {
   "cell_type": "code",
   "execution_count": 84,
   "id": "338ceea8",
   "metadata": {},
   "outputs": [],
   "source": [
    "def avg(*args):\n",
    "    count = len(args)\n",
    "    total = sum(args)\n",
    "    if count == 0:\n",
    "        return 0\n",
    "    else:\n",
    "        return total / count"
   ]
  },
  {
   "cell_type": "code",
   "execution_count": 85,
   "id": "e26674c7",
   "metadata": {},
   "outputs": [
    {
     "data": {
      "text/plain": [
       "0"
      ]
     },
     "execution_count": 85,
     "metadata": {},
     "output_type": "execute_result"
    }
   ],
   "source": [
    "avg()"
   ]
  },
  {
   "cell_type": "code",
   "execution_count": 89,
   "id": "7715f912",
   "metadata": {},
   "outputs": [
    {
     "data": {
      "text/plain": [
       "5.0"
      ]
     },
     "execution_count": 89,
     "metadata": {},
     "output_type": "execute_result"
    }
   ],
   "source": [
    "avg(5)"
   ]
  },
  {
   "cell_type": "markdown",
   "id": "4e8d13f2",
   "metadata": {},
   "source": [
    "But we may not want to allow specifying zero arguments, in which case we can split our parameters into a required (non-defaulted) positional argument, and the rest:"
   ]
  },
  {
   "cell_type": "code",
   "execution_count": 86,
   "id": "6906e358",
   "metadata": {},
   "outputs": [],
   "source": [
    "def avg(a, *args):\n",
    "    count = len(args) + 1\n",
    "    total = a + sum(args)\n",
    "    \n",
    "    return total / count"
   ]
  },
  {
   "cell_type": "code",
   "execution_count": 87,
   "id": "b3815a10",
   "metadata": {},
   "outputs": [
    {
     "ename": "TypeError",
     "evalue": "avg() missing 1 required positional argument: 'a'",
     "output_type": "error",
     "traceback": [
      "\u001b[1;31m---------------------------------------------------------------------------\u001b[0m",
      "\u001b[1;31mTypeError\u001b[0m                                 Traceback (most recent call last)",
      "\u001b[1;32m~\\AppData\\Local\\Temp/ipykernel_8992/2436246565.py\u001b[0m in \u001b[0;36m<module>\u001b[1;34m\u001b[0m\n\u001b[1;32m----> 1\u001b[1;33m \u001b[0mavg\u001b[0m\u001b[1;33m(\u001b[0m\u001b[1;33m)\u001b[0m\u001b[1;33m\u001b[0m\u001b[1;33m\u001b[0m\u001b[0m\n\u001b[0m",
      "\u001b[1;31mTypeError\u001b[0m: avg() missing 1 required positional argument: 'a'"
     ]
    }
   ],
   "source": [
    "avg()"
   ]
  },
  {
   "cell_type": "code",
   "execution_count": 88,
   "id": "dac176ae",
   "metadata": {
    "scrolled": true
   },
   "outputs": [
    {
     "data": {
      "text/plain": [
       "4.0"
      ]
     },
     "execution_count": 88,
     "metadata": {},
     "output_type": "execute_result"
    }
   ],
   "source": [
    "avg(4)"
   ]
  },
  {
   "cell_type": "markdown",
   "id": "af92bcdd",
   "metadata": {},
   "source": [
    "As you can see, an exception occurs if we do not specify at least one argument."
   ]
  },
  {
   "cell_type": "markdown",
   "id": "6392c705",
   "metadata": {},
   "source": [
    "#### Unpacking an iterable into positional arguments"
   ]
  },
  {
   "cell_type": "code",
   "execution_count": 101,
   "id": "7a75c3db",
   "metadata": {},
   "outputs": [],
   "source": [
    "def func5(a, b, c):\n",
    "    print(a)\n",
    "    print(b)    \n",
    "    print(c)    "
   ]
  },
  {
   "cell_type": "code",
   "execution_count": 102,
   "id": "c7913106",
   "metadata": {},
   "outputs": [],
   "source": [
    "l = [10 ,20 ,30]"
   ]
  },
  {
   "cell_type": "markdown",
   "id": "01692cab",
   "metadata": {},
   "source": [
    "This will **not** work:"
   ]
  },
  {
   "cell_type": "code",
   "execution_count": 103,
   "id": "971aa24e",
   "metadata": {
    "scrolled": false
   },
   "outputs": [
    {
     "ename": "TypeError",
     "evalue": "func5() missing 2 required positional arguments: 'b' and 'c'",
     "output_type": "error",
     "traceback": [
      "\u001b[1;31m---------------------------------------------------------------------------\u001b[0m",
      "\u001b[1;31mTypeError\u001b[0m                                 Traceback (most recent call last)",
      "\u001b[1;32m~\\AppData\\Local\\Temp/ipykernel_8992/1033387615.py\u001b[0m in \u001b[0;36m<module>\u001b[1;34m\u001b[0m\n\u001b[1;32m----> 1\u001b[1;33m \u001b[0mfunc5\u001b[0m\u001b[1;33m(\u001b[0m\u001b[0ml\u001b[0m\u001b[1;33m)\u001b[0m\u001b[1;33m\u001b[0m\u001b[1;33m\u001b[0m\u001b[0m\n\u001b[0m",
      "\u001b[1;31mTypeError\u001b[0m: func5() missing 2 required positional arguments: 'b' and 'c'"
     ]
    }
   ],
   "source": [
    "func5(l)"
   ]
  },
  {
   "cell_type": "markdown",
   "id": "9f5019cd",
   "metadata": {},
   "source": [
    "The function expects three positional arguments, but we only supplied a single one (albeit a list).\n",
    "\n",
    "But we could unpack the list, and **then** pass it to as the function arguments:"
   ]
  },
  {
   "cell_type": "code",
   "execution_count": 105,
   "id": "0c21b682",
   "metadata": {},
   "outputs": [
    {
     "data": {
      "text/plain": [
       "(10, 20, 30)"
      ]
     },
     "execution_count": 105,
     "metadata": {},
     "output_type": "execute_result"
    }
   ],
   "source": [
    "*l,"
   ]
  },
  {
   "cell_type": "code",
   "execution_count": 104,
   "id": "e3c8c41e",
   "metadata": {},
   "outputs": [
    {
     "name": "stdout",
     "output_type": "stream",
     "text": [
      "10\n",
      "20\n",
      "30\n"
     ]
    }
   ],
   "source": [
    "func5(*l)"
   ]
  },
  {
   "cell_type": "markdown",
   "id": "77a3f86f",
   "metadata": {},
   "source": [
    "What about mixing positional and keyword arguments with this?"
   ]
  },
  {
   "cell_type": "code",
   "execution_count": 107,
   "id": "dc9f2f5f",
   "metadata": {},
   "outputs": [],
   "source": [
    "def func6(a, b, c , *d):\n",
    "    print(a)\n",
    "    print(b)    \n",
    "    print(c)    \n",
    "    print(d)"
   ]
  },
  {
   "cell_type": "code",
   "execution_count": 108,
   "id": "461876de",
   "metadata": {
    "scrolled": true
   },
   "outputs": [
    {
     "ename": "SyntaxError",
     "evalue": "positional argument follows keyword argument (Temp/ipykernel_8992/3661828170.py, line 1)",
     "output_type": "error",
     "traceback": [
      "\u001b[1;36m  File \u001b[1;32m\"C:\\Users\\Anikesh\\AppData\\Local\\Temp/ipykernel_8992/3661828170.py\"\u001b[1;36m, line \u001b[1;32m1\u001b[0m\n\u001b[1;33m    func6(10 , c = 20 , b = 10 , 'a' , 'b')\u001b[0m\n\u001b[1;37m                                          ^\u001b[0m\n\u001b[1;31mSyntaxError\u001b[0m\u001b[1;31m:\u001b[0m positional argument follows keyword argument\n"
     ]
    }
   ],
   "source": [
    "func6(10 , c = 20 , b = 10 , 'a' , 'b')"
   ]
  },
  {
   "cell_type": "markdown",
   "id": "b4182f46",
   "metadata": {},
   "source": [
    "Recall that once a keyword argument is used in a function call, we **cannot** use positional arguments after that. \n",
    "\n",
    "However, in the next lecture we'll look at how to address this issue."
   ]
  },
  {
   "cell_type": "code",
   "execution_count": 109,
   "id": "92311239",
   "metadata": {
    "scrolled": true
   },
   "outputs": [
    {
     "name": "stdout",
     "output_type": "stream",
     "text": [
      "10\n",
      "20\n",
      "10\n",
      "('a', 'b')\n"
     ]
    }
   ],
   "source": [
    "func6(10 , 20 ,  10 , 'a' , 'b')"
   ]
  },
  {
   "cell_type": "markdown",
   "id": "ca45933f",
   "metadata": {},
   "source": [
    "## `Keyword Argument`"
   ]
  },
  {
   "cell_type": "markdown",
   "id": "34db66b4",
   "metadata": {},
   "source": [
    "Recall: positional parameters defined in functions can also be passed as named (keyword) arguments."
   ]
  },
  {
   "cell_type": "code",
   "execution_count": 110,
   "id": "d52e92d7",
   "metadata": {},
   "outputs": [],
   "source": [
    "def func6(a , b ,c):\n",
    "    print(a , b, c)"
   ]
  },
  {
   "cell_type": "code",
   "execution_count": 111,
   "id": "b16fea52",
   "metadata": {},
   "outputs": [
    {
     "name": "stdout",
     "output_type": "stream",
     "text": [
      "10 20 30\n"
     ]
    }
   ],
   "source": [
    "func6(10 , 20 , 30)"
   ]
  },
  {
   "cell_type": "code",
   "execution_count": 112,
   "id": "6879a164",
   "metadata": {
    "scrolled": true
   },
   "outputs": [
    {
     "name": "stdout",
     "output_type": "stream",
     "text": [
      "30 10 20\n"
     ]
    }
   ],
   "source": [
    "func6(b = 10 , c =  20 , a = 30)"
   ]
  },
  {
   "cell_type": "markdown",
   "id": "277518d6",
   "metadata": {},
   "source": [
    "Using a named argument is optional and up to the caller.\n",
    "\n",
    "What if we wanted to force calls to our function to use named arguments?"
   ]
  },
  {
   "cell_type": "markdown",
   "id": "676bad32",
   "metadata": {},
   "source": [
    "We can do so by **exhausting** all the positional arguments, and then adding some additional parameters in teh function definition:"
   ]
  },
  {
   "cell_type": "code",
   "execution_count": 113,
   "id": "b66153aa",
   "metadata": {},
   "outputs": [],
   "source": [
    "def func7(a, b, *args , d):\n",
    "    print(a, b, args , d)"
   ]
  },
  {
   "cell_type": "markdown",
   "id": "ec0e5a1f",
   "metadata": {},
   "source": [
    "Now we will need at least two positional arguments, an optional (possibly even zero) number of additional arguments, and this extra argument which is supposed to go into **d**. This argument can **only** be passed to the function using a named (keyword) argument:"
   ]
  },
  {
   "cell_type": "markdown",
   "id": "10ab1e24",
   "metadata": {},
   "source": [
    "So, this will not work:"
   ]
  },
  {
   "cell_type": "code",
   "execution_count": 114,
   "id": "e04345d7",
   "metadata": {},
   "outputs": [
    {
     "ename": "TypeError",
     "evalue": "func7() missing 1 required keyword-only argument: 'd'",
     "output_type": "error",
     "traceback": [
      "\u001b[1;31m---------------------------------------------------------------------------\u001b[0m",
      "\u001b[1;31mTypeError\u001b[0m                                 Traceback (most recent call last)",
      "\u001b[1;32m~\\AppData\\Local\\Temp/ipykernel_8992/3829331004.py\u001b[0m in \u001b[0;36m<module>\u001b[1;34m\u001b[0m\n\u001b[1;32m----> 1\u001b[1;33m \u001b[0mfunc7\u001b[0m\u001b[1;33m(\u001b[0m\u001b[1;36m10\u001b[0m \u001b[1;33m,\u001b[0m \u001b[1;36m20\u001b[0m \u001b[1;33m,\u001b[0m \u001b[1;34m'a'\u001b[0m \u001b[1;33m,\u001b[0m \u001b[1;34m'b'\u001b[0m \u001b[1;33m,\u001b[0m \u001b[1;36m100\u001b[0m\u001b[1;33m)\u001b[0m\u001b[1;33m\u001b[0m\u001b[1;33m\u001b[0m\u001b[0m\n\u001b[0m",
      "\u001b[1;31mTypeError\u001b[0m: func7() missing 1 required keyword-only argument: 'd'"
     ]
    }
   ],
   "source": [
    "func7(10 , 20 , 'a' , 'b' , 100)"
   ]
  },
  {
   "cell_type": "markdown",
   "id": "b0267a0c",
   "metadata": {},
   "source": [
    "But this will:"
   ]
  },
  {
   "cell_type": "code",
   "execution_count": 115,
   "id": "e10dc011",
   "metadata": {
    "scrolled": true
   },
   "outputs": [
    {
     "name": "stdout",
     "output_type": "stream",
     "text": [
      "10 20 ('a', 'b') 100\n"
     ]
    }
   ],
   "source": [
    "func7(10 , 20 , 'a' , 'b' , d = 100)"
   ]
  },
  {
   "cell_type": "markdown",
   "id": "cc8e5916",
   "metadata": {},
   "source": [
    "As you can see, **d** took the keyword argument, while the remaining arguments were handled as positional parameters.\n",
    "\n",
    "We can even define a function that has only optional positional arguments and mandatory keyword arguments:"
   ]
  },
  {
   "cell_type": "code",
   "execution_count": 118,
   "id": "665955ca",
   "metadata": {},
   "outputs": [],
   "source": [
    "def func8(*args , d):\n",
    "    print(args)\n",
    "#     print(d)\n",
    "    "
   ]
  },
  {
   "cell_type": "code",
   "execution_count": 119,
   "id": "60c61bd5",
   "metadata": {},
   "outputs": [
    {
     "name": "stdout",
     "output_type": "stream",
     "text": [
      "(1, 2, 3)\n"
     ]
    }
   ],
   "source": [
    "func8(1,2,3,d = 'Hello')"
   ]
  },
  {
   "cell_type": "markdown",
   "id": "ad81dbd9",
   "metadata": {},
   "source": [
    "We can of course, not pass any positional arguments:"
   ]
  },
  {
   "cell_type": "code",
   "execution_count": 30,
   "id": "ab583ff9",
   "metadata": {
    "scrolled": true
   },
   "outputs": [
    {
     "ename": "NameError",
     "evalue": "name 'func1' is not defined",
     "output_type": "error",
     "traceback": [
      "\u001b[1;31m---------------------------------------------------------------------------\u001b[0m",
      "\u001b[1;31mNameError\u001b[0m                                 Traceback (most recent call last)",
      "\u001b[1;32m~\\AppData\\Local\\Temp/ipykernel_16976/3258691587.py\u001b[0m in \u001b[0;36m<module>\u001b[1;34m\u001b[0m\n\u001b[1;32m----> 1\u001b[1;33m \u001b[0mfunc1\u001b[0m\u001b[1;33m(\u001b[0m\u001b[0md\u001b[0m\u001b[1;33m=\u001b[0m\u001b[1;34m'hello'\u001b[0m\u001b[1;33m)\u001b[0m\u001b[1;33m\u001b[0m\u001b[1;33m\u001b[0m\u001b[0m\n\u001b[0m",
      "\u001b[1;31mNameError\u001b[0m: name 'func1' is not defined"
     ]
    }
   ],
   "source": [
    "func1(d='hello')"
   ]
  },
  {
   "cell_type": "markdown",
   "id": "e629fb91",
   "metadata": {},
   "source": [
    "but the positional argument is mandatory (since no default was provided in the function definition):"
   ]
  },
  {
   "cell_type": "code",
   "execution_count": 32,
   "id": "b8b8f9ac",
   "metadata": {},
   "outputs": [
    {
     "ename": "NameError",
     "evalue": "name 'func1' is not defined",
     "output_type": "error",
     "traceback": [
      "\u001b[1;31m---------------------------------------------------------------------------\u001b[0m",
      "\u001b[1;31mNameError\u001b[0m                                 Traceback (most recent call last)",
      "\u001b[1;32m~\\AppData\\Local\\Temp/ipykernel_16976/3566840559.py\u001b[0m in \u001b[0;36m<module>\u001b[1;34m\u001b[0m\n\u001b[1;32m----> 1\u001b[1;33m \u001b[0mfunc1\u001b[0m\u001b[1;33m(\u001b[0m\u001b[1;33m)\u001b[0m\u001b[1;33m\u001b[0m\u001b[1;33m\u001b[0m\u001b[0m\n\u001b[0m",
      "\u001b[1;31mNameError\u001b[0m: name 'func1' is not defined"
     ]
    }
   ],
   "source": [
    "func1()"
   ]
  },
  {
   "cell_type": "markdown",
   "id": "6738cdb4",
   "metadata": {},
   "source": [
    "## `**kwargs`   -> keyword Argument"
   ]
  },
  {
   "cell_type": "code",
   "execution_count": 120,
   "id": "64949526",
   "metadata": {},
   "outputs": [],
   "source": [
    "def func9(**kwargs):\n",
    "    print(kwargs)"
   ]
  },
  {
   "cell_type": "code",
   "execution_count": 121,
   "id": "dbb25672",
   "metadata": {
    "scrolled": true
   },
   "outputs": [
    {
     "name": "stdout",
     "output_type": "stream",
     "text": [
      "{'x': 100, 'y': 200}\n"
     ]
    }
   ],
   "source": [
    "func9(x = 100 , y = 200)"
   ]
  },
  {
   "cell_type": "markdown",
   "id": "5944773a",
   "metadata": {},
   "source": [
    "We can also use it in conjunction with *args:"
   ]
  },
  {
   "cell_type": "code",
   "execution_count": 122,
   "id": "6262207b",
   "metadata": {},
   "outputs": [],
   "source": [
    "def func10(*args , **kwargs):\n",
    "    print(args)\n",
    "    print(kwargs)"
   ]
  },
  {
   "cell_type": "code",
   "execution_count": 123,
   "id": "32ea0bfa",
   "metadata": {
    "scrolled": true
   },
   "outputs": [
    {
     "name": "stdout",
     "output_type": "stream",
     "text": [
      "(1, 2)\n",
      "{'a': 500, 'b': 1000}\n"
     ]
    }
   ],
   "source": [
    "func10(1,2, a = 500 , b = 1000)"
   ]
  },
  {
   "cell_type": "markdown",
   "id": "4abc3651",
   "metadata": {},
   "source": [
    "There is no need to even do this, since **\\*\\*kwargs** essentially indicates no more positional arguments."
   ]
  },
  {
   "cell_type": "code",
   "execution_count": 124,
   "id": "32a93b24",
   "metadata": {},
   "outputs": [],
   "source": [
    "def newFunc(a , b ,**kwargs):\n",
    "    print(a)\n",
    "    print(b)    \n",
    "    print(kwargs)    "
   ]
  },
  {
   "cell_type": "code",
   "execution_count": 126,
   "id": "f23c512a",
   "metadata": {},
   "outputs": [
    {
     "name": "stdout",
     "output_type": "stream",
     "text": [
      "1\n",
      "2\n",
      "{'c': 10, 'd': 100}\n"
     ]
    }
   ],
   "source": [
    "newFunc(1 , 2 ,c = 10 , d = 100)"
   ]
  },
  {
   "cell_type": "markdown",
   "id": "600d51b0",
   "metadata": {},
   "source": [
    "Note: You cannot do the following:"
   ]
  },
  {
   "cell_type": "code",
   "execution_count": 127,
   "id": "c27c5866",
   "metadata": {
    "scrolled": true
   },
   "outputs": [
    {
     "ename": "SyntaxError",
     "evalue": "named arguments must follow bare * (Temp/ipykernel_8992/1240715493.py, line 1)",
     "output_type": "error",
     "traceback": [
      "\u001b[1;36m  File \u001b[1;32m\"C:\\Users\\Anikesh\\AppData\\Local\\Temp/ipykernel_8992/1240715493.py\"\u001b[1;36m, line \u001b[1;32m1\u001b[0m\n\u001b[1;33m    def newFunc(* , **kwargs):\u001b[0m\n\u001b[1;37m                ^\u001b[0m\n\u001b[1;31mSyntaxError\u001b[0m\u001b[1;31m:\u001b[0m named arguments must follow bare *\n"
     ]
    }
   ],
   "source": [
    "def newFunc(* , **kwargs):\n",
    "    print(kwargs)   "
   ]
  },
  {
   "cell_type": "markdown",
   "id": "0a482ed3",
   "metadata": {},
   "source": [
    "Also, you cannot specify parameters **after** **\\*\\*kwargs** has been used:"
   ]
  },
  {
   "cell_type": "code",
   "execution_count": 128,
   "id": "bddf38a7",
   "metadata": {
    "scrolled": false
   },
   "outputs": [
    {
     "ename": "SyntaxError",
     "evalue": "invalid syntax (Temp/ipykernel_8992/486681138.py, line 1)",
     "output_type": "error",
     "traceback": [
      "\u001b[1;36m  File \u001b[1;32m\"C:\\Users\\Anikesh\\AppData\\Local\\Temp/ipykernel_8992/486681138.py\"\u001b[1;36m, line \u001b[1;32m1\u001b[0m\n\u001b[1;33m    def newFunc(a , b ,**kwargs , c):\u001b[0m\n\u001b[1;37m                                  ^\u001b[0m\n\u001b[1;31mSyntaxError\u001b[0m\u001b[1;31m:\u001b[0m invalid syntax\n"
     ]
    }
   ],
   "source": [
    "def newFunc(a , b ,**kwargs , c):\n",
    "    pass"
   ]
  },
  {
   "cell_type": "markdown",
   "id": "1453170a",
   "metadata": {},
   "source": [
    "If you want to specify both specific keyword-only arguments and **\\*\\*kwargs** you will need to first get to a point where you can define a keyword-only argument (i.e. exhaust the positional arguments, using either **\\*args** or just **\\***)"
   ]
  },
  {
   "cell_type": "code",
   "execution_count": 129,
   "id": "2233ed7f",
   "metadata": {},
   "outputs": [],
   "source": [
    "def new(* , d , **kwargs):\n",
    "    print(d)\n",
    "    print(kwargs)"
   ]
  },
  {
   "cell_type": "code",
   "execution_count": 130,
   "id": "f9123af0",
   "metadata": {},
   "outputs": [
    {
     "name": "stdout",
     "output_type": "stream",
     "text": [
      "1\n",
      "{'x': 100, 'y': 200}\n"
     ]
    }
   ],
   "source": [
    "new(d = 1 , x = 100 , y = 200)"
   ]
  },
  {
   "cell_type": "markdown",
   "id": "db68fd9c",
   "metadata": {},
   "source": [
    "## `Global Variable`"
   ]
  },
  {
   "cell_type": "code",
   "execution_count": 131,
   "id": "a1887948",
   "metadata": {},
   "outputs": [
    {
     "name": "stdout",
     "output_type": "stream",
     "text": [
      "10\n",
      "12 Inside f1()"
     ]
    }
   ],
   "source": [
    "a1 = 10   #global Variable\n",
    "\n",
    "def f1():\n",
    "    b1 = 12 #local variable\n",
    "    print(b1 , end = ' Inside f1()')\n",
    "\n",
    "print(a1)\n",
    "f1()"
   ]
  },
  {
   "cell_type": "code",
   "execution_count": 132,
   "id": "20733ea2",
   "metadata": {},
   "outputs": [
    {
     "name": "stdout",
     "output_type": "stream",
     "text": [
      "10\n",
      "12 Inside f1()10\n"
     ]
    }
   ],
   "source": [
    "a1 = 10   #global Variable\n",
    "\n",
    "def f1():\n",
    "    b1 = 12 #local variable\n",
    "    print(b1 , end = ' Inside f1()')\n",
    "    print(a1)\n",
    "\n",
    "print(a1)\n",
    "f1()"
   ]
  },
  {
   "cell_type": "code",
   "execution_count": 133,
   "id": "15cba9af",
   "metadata": {},
   "outputs": [
    {
     "name": "stdout",
     "output_type": "stream",
     "text": [
      "10\n",
      "12\n"
     ]
    }
   ],
   "source": [
    "a1 = 10   #global Variable\n",
    "\n",
    "def f1():\n",
    "    a1 = 12 #local variable\n",
    "    print(a1)\n",
    "\n",
    "print(a1)\n",
    "f1()"
   ]
  },
  {
   "cell_type": "code",
   "execution_count": 134,
   "id": "9cc88820",
   "metadata": {
    "scrolled": true
   },
   "outputs": [
    {
     "name": "stdout",
     "output_type": "stream",
     "text": [
      "10\n",
      "10\n"
     ]
    }
   ],
   "source": [
    "a1 = 10   #global Variable\n",
    "\n",
    "def f1():\n",
    "    print(a1)\n",
    "\n",
    "print(a1)\n",
    "f1()"
   ]
  },
  {
   "cell_type": "code",
   "execution_count": 138,
   "id": "23aa76b0",
   "metadata": {},
   "outputs": [
    {
     "ename": "NameError",
     "evalue": "name 'a12' is not defined",
     "output_type": "error",
     "traceback": [
      "\u001b[1;31m---------------------------------------------------------------------------\u001b[0m",
      "\u001b[1;31mNameError\u001b[0m                                 Traceback (most recent call last)",
      "\u001b[1;32m~\\AppData\\Local\\Temp/ipykernel_8992/1251766389.py\u001b[0m in \u001b[0;36m<module>\u001b[1;34m\u001b[0m\n\u001b[0;32m      2\u001b[0m     \u001b[0mprint\u001b[0m\u001b[1;33m(\u001b[0m\u001b[0ma12\u001b[0m\u001b[1;33m)\u001b[0m\u001b[1;33m\u001b[0m\u001b[1;33m\u001b[0m\u001b[0m\n\u001b[0;32m      3\u001b[0m \u001b[1;33m\u001b[0m\u001b[0m\n\u001b[1;32m----> 4\u001b[1;33m \u001b[0mprint\u001b[0m\u001b[1;33m(\u001b[0m\u001b[0ma12\u001b[0m\u001b[1;33m)\u001b[0m\u001b[1;33m\u001b[0m\u001b[1;33m\u001b[0m\u001b[0m\n\u001b[0m\u001b[0;32m      5\u001b[0m \u001b[0mf12\u001b[0m\u001b[1;33m(\u001b[0m\u001b[1;33m)\u001b[0m\u001b[1;33m\u001b[0m\u001b[1;33m\u001b[0m\u001b[0m\n",
      "\u001b[1;31mNameError\u001b[0m: name 'a12' is not defined"
     ]
    }
   ],
   "source": [
    "def f12():\n",
    "    print(a12)\n",
    "\n",
    "print(a12)\n",
    "f12()"
   ]
  },
  {
   "cell_type": "code",
   "execution_count": 135,
   "id": "bba940f4",
   "metadata": {},
   "outputs": [
    {
     "name": "stdout",
     "output_type": "stream",
     "text": [
      "5\n"
     ]
    }
   ],
   "source": [
    "def func(a):\n",
    "    a = a + 10\n",
    "    return a\n",
    "a = 5\n",
    "func(a)\n",
    "print(a)"
   ]
  },
  {
   "cell_type": "code",
   "execution_count": 139,
   "id": "5b837cd3",
   "metadata": {},
   "outputs": [
    {
     "name": "stdout",
     "output_type": "stream",
     "text": [
      "15\n"
     ]
    }
   ],
   "source": [
    "def func(a):\n",
    "    a = a + 10\n",
    "    return a\n",
    "a = 5\n",
    "a = func(a)\n",
    "print(a)"
   ]
  },
  {
   "cell_type": "code",
   "execution_count": 140,
   "id": "13944210",
   "metadata": {},
   "outputs": [
    {
     "name": "stdout",
     "output_type": "stream",
     "text": [
      "16\n"
     ]
    }
   ],
   "source": [
    "def square(a):\n",
    "    ans  = a*a\n",
    "    return  ans\n",
    "\n",
    "a = 4\n",
    "a = square(a)\n",
    "print(a)"
   ]
  },
  {
   "cell_type": "code",
   "execution_count": 144,
   "id": "26c29196",
   "metadata": {},
   "outputs": [
    {
     "name": "stdout",
     "output_type": "stream",
     "text": [
      "Tejashree\n"
     ]
    }
   ],
   "source": [
    "def square(a):\n",
    "    ans  = a*a\n",
    "    return  \"Tejashree\"\n",
    "\n",
    "a = 4\n",
    "a = square(a)\n",
    "print(a)"
   ]
  },
  {
   "cell_type": "code",
   "execution_count": 145,
   "id": "3c7bbc26",
   "metadata": {},
   "outputs": [
    {
     "name": "stdout",
     "output_type": "stream",
     "text": [
      "14\n"
     ]
    }
   ],
   "source": [
    "a = 14\n",
    "def f():\n",
    "    a=12\n",
    "f()\n",
    "print(a)"
   ]
  },
  {
   "cell_type": "code",
   "execution_count": 146,
   "id": "ffa51b79",
   "metadata": {},
   "outputs": [
    {
     "name": "stdout",
     "output_type": "stream",
     "text": [
      "12\n"
     ]
    }
   ],
   "source": [
    "a=14\n",
    "def f():\n",
    "    global a\n",
    "    a=12\n",
    "f()\n",
    "print(a)"
   ]
  },
  {
   "cell_type": "code",
   "execution_count": 147,
   "id": "03ba20b2",
   "metadata": {},
   "outputs": [
    {
     "name": "stdout",
     "output_type": "stream",
     "text": [
      "12\n"
     ]
    }
   ],
   "source": [
    "a = 14\n",
    "def f():\n",
    "    a = 12\n",
    "    return a\n",
    "a = f()\n",
    "print(a)"
   ]
  },
  {
   "cell_type": "code",
   "execution_count": 148,
   "id": "729de994",
   "metadata": {},
   "outputs": [
    {
     "name": "stdout",
     "output_type": "stream",
     "text": [
      "21\n"
     ]
    }
   ],
   "source": [
    "def function(a,b,c=1):\n",
    "    return a+b-c\n",
    "value = function(10,12)\n",
    "print(value)"
   ]
  },
  {
   "cell_type": "code",
   "execution_count": 149,
   "id": "cf066b59",
   "metadata": {},
   "outputs": [
    {
     "name": "stdout",
     "output_type": "stream",
     "text": [
      "17\n"
     ]
    }
   ],
   "source": [
    "def function(a,b,c=1):\n",
    "    return a+b-c\n",
    "value = function(10,12,5)\n",
    "print(value)"
   ]
  },
  {
   "cell_type": "code",
   "execution_count": 150,
   "id": "393ec6a1",
   "metadata": {},
   "outputs": [
    {
     "name": "stdout",
     "output_type": "stream",
     "text": [
      "11\n"
     ]
    }
   ],
   "source": [
    "def function(a,b,c=1,d=5):\n",
    "    return a+b+c+d\n",
    "value = function(1,2,d=7)\n",
    "print(value)"
   ]
  },
  {
   "cell_type": "code",
   "execution_count": null,
   "id": "b474c4de",
   "metadata": {},
   "outputs": [],
   "source": [
    "#Fahrenheit to Celsius Function\n",
    "\"\"\"\n",
    "Given three values - Start Fahrenheit Value (start), End Fahrenheit value (end) and Step Size (step),\n",
    "you need to convert all Fahrenheit values from Start to End at the gap of W,\n",
    "into their corresponding Celsius values and print the table.\n",
    "\n",
    "Input Format :\n",
    "3 integers - start, end and step respectively\n",
    "\n",
    "Output Format :\n",
    "Fahrenheit to Celsius conversion table.\n",
    "One line for every Fahrenheit and Celsius Fahrenheit value.\n",
    "Fahrenheit value and its corresponding Celsius value should be separate by tab (\"\\t\")\n",
    "\"\"\"\n",
    "\n",
    "Sample Input 1:\n",
    "0\n",
    "100\n",
    "20\n",
    "\n",
    "Sample Output 1:\n",
    "0   -17\n",
    "20  -6\n",
    "40  4\n",
    "60  15\n",
    "80  26\n",
    "100 37\n",
    "\n",
    "Sample Input 2:\n",
    "120\n",
    "200\n",
    "40\n",
    "\n",
    "Sample Output 2:\n",
    "120 48\n",
    "160 71\n",
    "200 93"
   ]
  },
  {
   "cell_type": "code",
   "execution_count": 158,
   "id": "e9841222",
   "metadata": {},
   "outputs": [
    {
     "name": "stdout",
     "output_type": "stream",
     "text": [
      "120\n",
      "200\n",
      "40\n",
      "120\t48\n",
      "160\t71\n",
      "200\t93\n"
     ]
    }
   ],
   "source": [
    "def fahrenheit_to_Celsius(start , end , steps):\n",
    "    while start <= end:\n",
    "#         temp = int((start - 32) / 1.8)\n",
    "        temp = int((start - 32) * (5/9))\n",
    "        print(start , end= '\\t')\n",
    "        print(temp)\n",
    "        start = start + steps\n",
    "\n",
    "s = int(input())\n",
    "e = int(input())\n",
    "step = int(input())\n",
    "fahrenheit_to_Celsius(s, e, step)"
   ]
  },
  {
   "cell_type": "code",
   "execution_count": 153,
   "id": "ba917271",
   "metadata": {},
   "outputs": [
    {
     "data": {
      "text/plain": [
       "0.5555555555555556"
      ]
     },
     "execution_count": 153,
     "metadata": {},
     "output_type": "execute_result"
    }
   ],
   "source": [
    "5/9"
   ]
  },
  {
   "cell_type": "code",
   "execution_count": 154,
   "id": "44c261bd",
   "metadata": {},
   "outputs": [
    {
     "data": {
      "text/plain": [
       "1.8"
      ]
     },
     "execution_count": 154,
     "metadata": {},
     "output_type": "execute_result"
    }
   ],
   "source": [
    "9/5"
   ]
  },
  {
   "cell_type": "code",
   "execution_count": 162,
   "id": "32a9fe4e",
   "metadata": {},
   "outputs": [
    {
     "name": "stdout",
     "output_type": "stream",
     "text": [
      "0\n",
      "100\n",
      "20\n",
      "0\t-17\n",
      "20\t-6\n",
      "40\t4\n",
      "60\t15\n",
      "80\t26\n",
      "100\t37\n"
     ]
    }
   ],
   "source": [
    "def fahrenheit_to_Celsius(start , end , steps):\n",
    "    for i in range(start , end+1 , steps):\n",
    "        temp = int((i - 32) * (5/9))\n",
    "        print(i , end= '\\t')\n",
    "        print(temp)\n",
    "#         i = i + steps\n",
    "\n",
    "s = int(input())\n",
    "e = int(input())\n",
    "step = int(input())\n",
    "fahrenheit_to_Celsius(s, e, step)"
   ]
  },
  {
   "cell_type": "raw",
   "id": "07c0e9ed",
   "metadata": {},
   "source": [
    "01.  Array or List Sum\n",
    "\n",
    "n-> 3\n",
    "\n",
    "Input-> 9 8 9\n",
    "\n",
    "OP :- 26"
   ]
  },
  {
   "cell_type": "code",
   "execution_count": 163,
   "id": "8f43c45a",
   "metadata": {},
   "outputs": [
    {
     "name": "stdout",
     "output_type": "stream",
     "text": [
      "3\n",
      "9 8 9\n",
      "26\n"
     ]
    }
   ],
   "source": [
    "def listSum(*args):\n",
    "    arrSum = sum(args)\n",
    "    return arrSum\n",
    "\n",
    "\n",
    "n = int(input())\n",
    "li = [int(x) for x in input().split()]\n",
    "print(listSum(*li))\n"
   ]
  },
  {
   "cell_type": "code",
   "execution_count": 166,
   "id": "77057af7",
   "metadata": {},
   "outputs": [
    {
     "name": "stdout",
     "output_type": "stream",
     "text": [
      "8 5 6 4 7 5 6 3 2 1\n",
      "[8, 5, 6, 4, 7, 5, 6, 3, 2, 1]\n",
      "47\n"
     ]
    }
   ],
   "source": [
    "def listSum(*args):\n",
    "    return sum(args)\n",
    "\n",
    "li = [int(x) for x in input().split()]\n",
    "print(li)\n",
    "print(listSum(*li))\n"
   ]
  },
  {
   "cell_type": "code",
   "execution_count": 168,
   "id": "0d6842b5",
   "metadata": {},
   "outputs": [
    {
     "name": "stdout",
     "output_type": "stream",
     "text": [
      "7,8,8,7,4,5,3\n",
      "[7, 8, 8, 7, 4, 5, 3]\n",
      "42\n"
     ]
    }
   ],
   "source": [
    "def listSum(*args):\n",
    "    return sum(args)\n",
    "\n",
    "li = [int(x) for x in input().split(',')]\n",
    "print(li)\n",
    "print(listSum(*li))"
   ]
  },
  {
   "cell_type": "code",
   "execution_count": null,
   "id": "657ca0e9",
   "metadata": {},
   "outputs": [],
   "source": [
    "02.  Swap Alternate\n",
    "\n",
    "n = 6\n",
    "\n",
    "input :- 9 3 6 12 4 32\n",
    "\n",
    "Output :- 3 9 12 6 32 4"
   ]
  },
  {
   "cell_type": "code",
   "execution_count": null,
   "id": "41dc2dcc",
   "metadata": {},
   "outputs": [],
   "source": []
  }
 ],
 "metadata": {
  "kernelspec": {
   "display_name": "Python 3 (ipykernel)",
   "language": "python",
   "name": "python3"
  },
  "language_info": {
   "codemirror_mode": {
    "name": "ipython",
    "version": 3
   },
   "file_extension": ".py",
   "mimetype": "text/x-python",
   "name": "python",
   "nbconvert_exporter": "python",
   "pygments_lexer": "ipython3",
   "version": "3.10.1"
  }
 },
 "nbformat": 4,
 "nbformat_minor": 5
}
