{
 "cells": [
  {
   "cell_type": "code",
   "execution_count": null,
   "id": "1b278f11",
   "metadata": {},
   "outputs": [],
   "source": [
    "map\n",
    "list comprensions\n",
    "filter\n",
    "file handling \n",
    "module and packages\n",
    "what is diff like having map and not having it"
   ]
  },
  {
   "cell_type": "code",
   "execution_count": 1,
   "id": "2f824514",
   "metadata": {},
   "outputs": [],
   "source": [
    "l = ['apple', 'mango','banana']\n",
    "def task(i):\n",
    "    return i + 'cat'"
   ]
  },
  {
   "cell_type": "code",
   "execution_count": 2,
   "id": "28242141",
   "metadata": {},
   "outputs": [
    {
     "data": {
      "text/plain": [
       "<map at 0x29e85a919c0>"
      ]
     },
     "execution_count": 2,
     "metadata": {},
     "output_type": "execute_result"
    }
   ],
   "source": [
    "map(task, l)"
   ]
  },
  {
   "cell_type": "code",
   "execution_count": 3,
   "id": "8aac9b37",
   "metadata": {},
   "outputs": [
    {
     "data": {
      "text/plain": [
       "['applecat', 'mangocat', 'bananacat']"
      ]
     },
     "execution_count": 3,
     "metadata": {},
     "output_type": "execute_result"
    }
   ],
   "source": [
    "list(map(task , l))"
   ]
  },
  {
   "cell_type": "code",
   "execution_count": null,
   "id": "56444099",
   "metadata": {},
   "outputs": [],
   "source": [
    "Q)  store even if len of the word is even.\n",
    "    store odd if len of the word is odd."
   ]
  },
  {
   "cell_type": "code",
   "execution_count": 6,
   "id": "9624a837",
   "metadata": {},
   "outputs": [
    {
     "data": {
      "text/plain": [
       "['apple len is -> odd',\n",
       " 'mango len is -> odd',\n",
       " 'banana len is -> even',\n",
       " 'grapes len is -> even',\n",
       " 'lichee len is -> even']"
      ]
     },
     "execution_count": 6,
     "metadata": {},
     "output_type": "execute_result"
    }
   ],
   "source": [
    "l=[\"apple\",\"mango\", \"banana\", \"grapes\", \"lichee\"]\n",
    "def count(i):\n",
    "    if len(i)%2==0:\n",
    "        return f\"{i} len is -> even\"\n",
    "    else:\n",
    "        return  f\"{i} len is -> odd\"\n",
    "    \n",
    "list(map(count,l))\n"
   ]
  },
  {
   "cell_type": "code",
   "execution_count": 7,
   "id": "a38e2798",
   "metadata": {},
   "outputs": [
    {
     "data": {
      "text/plain": [
       "[5, 5, 6, 6, 6]"
      ]
     },
     "execution_count": 7,
     "metadata": {},
     "output_type": "execute_result"
    }
   ],
   "source": [
    "list(map(len , [\"apple\",\"mango\", \"banana\", \"grapes\", \"lichee\"]))"
   ]
  },
  {
   "cell_type": "code",
   "execution_count": 8,
   "id": "f965947c",
   "metadata": {},
   "outputs": [
    {
     "data": {
      "text/plain": [
       "['apple', 'mango', 'banana', 'grapes', 'lichee']"
      ]
     },
     "execution_count": 8,
     "metadata": {},
     "output_type": "execute_result"
    }
   ],
   "source": [
    "list(filter(len , [\"apple\",\"mango\", \"banana\", \"grapes\", \"lichee\"]))"
   ]
  },
  {
   "cell_type": "code",
   "execution_count": null,
   "id": "2657b451",
   "metadata": {},
   "outputs": [],
   "source": [
    "false_equivalent = None , 0 , False , \"\", [] , set() , {} , 0.0 , ()"
   ]
  },
  {
   "cell_type": "code",
   "execution_count": 10,
   "id": "f2a28936",
   "metadata": {},
   "outputs": [
    {
     "data": {
      "text/plain": [
       "tuple"
      ]
     },
     "execution_count": 10,
     "metadata": {},
     "output_type": "execute_result"
    }
   ],
   "source": [
    "t = ()\n",
    "type(t)"
   ]
  },
  {
   "cell_type": "code",
   "execution_count": 14,
   "id": "8ffd563d",
   "metadata": {},
   "outputs": [
    {
     "data": {
      "text/plain": [
       "['apple', 'mango', ' ', 'grapes']"
      ]
     },
     "execution_count": 14,
     "metadata": {},
     "output_type": "execute_result"
    }
   ],
   "source": [
    "list(filter(len , [\"apple\",\"mango\", \" \", \"grapes\", \"\"]))"
   ]
  },
  {
   "cell_type": "code",
   "execution_count": 15,
   "id": "2c589115",
   "metadata": {},
   "outputs": [
    {
     "data": {
      "text/plain": [
       "0"
      ]
     },
     "execution_count": 15,
     "metadata": {},
     "output_type": "execute_result"
    }
   ],
   "source": [
    "len(\"\")"
   ]
  },
  {
   "cell_type": "code",
   "execution_count": 1,
   "id": "37942aa8",
   "metadata": {},
   "outputs": [
    {
     "ename": "NameError",
     "evalue": "name 'count' is not defined",
     "output_type": "error",
     "traceback": [
      "\u001b[1;31m---------------------------------------------------------------------------\u001b[0m",
      "\u001b[1;31mNameError\u001b[0m                                 Traceback (most recent call last)",
      "\u001b[1;32m~\\AppData\\Local\\Temp/ipykernel_7764/832273539.py\u001b[0m in \u001b[0;36m<module>\u001b[1;34m\u001b[0m\n\u001b[0;32m      1\u001b[0m \u001b[0ml\u001b[0m\u001b[1;33m=\u001b[0m\u001b[1;33m[\u001b[0m\u001b[1;34m\"apple\"\u001b[0m\u001b[1;33m,\u001b[0m\u001b[1;34m\"mango\"\u001b[0m\u001b[1;33m,\u001b[0m \u001b[1;34m\"\"\u001b[0m\u001b[1;33m,\u001b[0m \u001b[1;34m\"grapes\"\u001b[0m\u001b[1;33m,\u001b[0m \u001b[1;34m\"lichee\"\u001b[0m\u001b[1;33m]\u001b[0m\u001b[1;33m\u001b[0m\u001b[1;33m\u001b[0m\u001b[0m\n\u001b[1;32m----> 2\u001b[1;33m \u001b[0mlist\u001b[0m\u001b[1;33m(\u001b[0m\u001b[0mfilter\u001b[0m\u001b[1;33m(\u001b[0m\u001b[0mcount\u001b[0m\u001b[1;33m,\u001b[0m\u001b[0ml\u001b[0m\u001b[1;33m)\u001b[0m\u001b[1;33m)\u001b[0m\u001b[1;33m\u001b[0m\u001b[1;33m\u001b[0m\u001b[0m\n\u001b[0m",
      "\u001b[1;31mNameError\u001b[0m: name 'count' is not defined"
     ]
    }
   ],
   "source": [
    "l=[\"apple\",\"mango\", \"\", \"grapes\", \"lichee\"]\n",
    "list(filter(count,l))"
   ]
  },
  {
   "cell_type": "code",
   "execution_count": 17,
   "id": "acfeb5f9",
   "metadata": {},
   "outputs": [
    {
     "data": {
      "text/plain": [
       "' len is -> even'"
      ]
     },
     "execution_count": 17,
     "metadata": {},
     "output_type": "execute_result"
    }
   ],
   "source": [
    "count(\"\")"
   ]
  },
  {
   "cell_type": "code",
   "execution_count": null,
   "id": "9cb2498d",
   "metadata": {},
   "outputs": [],
   "source": [
    "Fun with Lists and Tuples Using Lambda function\n",
    "\n",
    "Sample Input 1:\n",
    "l = [(2, 5), (1, 2), (4, 4), (2, 3), (2, 1)]\n",
    "Sample Output 1:\n",
    "[(2, 1), (1, 2), (2, 3), (4, 4), (2, 5)]"
   ]
  },
  {
   "cell_type": "code",
   "execution_count": 3,
   "id": "415527cd",
   "metadata": {},
   "outputs": [
    {
     "name": "stdout",
     "output_type": "stream",
     "text": [
      "[(2, 1), (1, 2), (2, 3), (4, 4), (2, 5)]\n"
     ]
    }
   ],
   "source": [
    "l = [(2, 5), (1, 2), (4, 4), (2, 3), (2, 1)]\n",
    "\n",
    "l.sort(key=lambda y: y[1])\n",
    "\n",
    "print(l)\n"
   ]
  },
  {
   "cell_type": "code",
   "execution_count": 5,
   "id": "0d532d8e",
   "metadata": {},
   "outputs": [
    {
     "name": "stdout",
     "output_type": "stream",
     "text": [
      "[(2, 5), (4, 4), (2, 3), (1, 2), (2, 1)]\n"
     ]
    }
   ],
   "source": [
    "l = [(2, 5), (1, 2), (4, 4), (2, 3), (2, 1)]\n",
    "\n",
    "l.sort(key=lambda y: y[1] , reverse = False)\n",
    "\n",
    "print(l)\n"
   ]
  },
  {
   "cell_type": "code",
   "execution_count": 6,
   "id": "e10ac4ef",
   "metadata": {},
   "outputs": [],
   "source": [
    "ids = ['id1', 'id10', 'id2', 'id20', 'id3000000', 'id4']"
   ]
  },
  {
   "cell_type": "code",
   "execution_count": 7,
   "id": "626c4273",
   "metadata": {},
   "outputs": [
    {
     "name": "stdout",
     "output_type": "stream",
     "text": [
      "['id1', 'id2', 'id4', 'id10', 'id20', 'id3000000']\n"
     ]
    }
   ],
   "source": [
    "ids = ['id1', 'id10', 'id2', 'id20', 'id3000000', 'id4']\n",
    "ids.sort(key=lambda x: x[2:-1])\n",
    "print(ids)"
   ]
  },
  {
   "cell_type": "code",
   "execution_count": null,
   "id": "628cbdc8",
   "metadata": {},
   "outputs": [],
   "source": [
    "Output of the above ids=> [\"id1\" , \"id2\" , \"id4\", \"id10\" , \"id20\" , \"id30000\"]"
   ]
  },
  {
   "cell_type": "code",
   "execution_count": 8,
   "id": "47afbaf6",
   "metadata": {},
   "outputs": [],
   "source": [
    "ids2 = [\"id1\" , \"id2\" , \"id4\", \"id10\" , \"id20\" , \"id30000\"]"
   ]
  },
  {
   "cell_type": "code",
   "execution_count": null,
   "id": "7c8456d7",
   "metadata": {},
   "outputs": [],
   "source": [
    "['id1', 'id10', 'id2', 'id20', 'id3000000', 'id4']"
   ]
  },
  {
   "cell_type": "code",
   "execution_count": null,
   "id": "26455f7f",
   "metadata": {},
   "outputs": [],
   "source": [
    "Test if a string contains a vowel. \n",
    "\n",
    "Sample Input 1:\t\n",
    "l = ['sky',  'apple',  'fly',  'mango']\t\n",
    "Sample Output 1:\t\n",
    "['apple',  'mango']\t\n",
    "\n",
    "In the given list of string those word who contains vowel character or letter then only you have to print that words. "
   ]
  },
  {
   "cell_type": "code",
   "execution_count": 9,
   "id": "32e30e3e",
   "metadata": {},
   "outputs": [],
   "source": [
    "x = 'Apple'"
   ]
  },
  {
   "cell_type": "code",
   "execution_count": 10,
   "id": "8e9f35e2",
   "metadata": {},
   "outputs": [
    {
     "data": {
      "text/plain": [
       "True"
      ]
     },
     "execution_count": 10,
     "metadata": {},
     "output_type": "execute_result"
    }
   ],
   "source": [
    "'a' in x or 'e' in x or 'i' in x or 'o' in x or 'u' in x "
   ]
  },
  {
   "cell_type": "code",
   "execution_count": 11,
   "id": "0716d5d6",
   "metadata": {},
   "outputs": [],
   "source": [
    "x = 'fly'"
   ]
  },
  {
   "cell_type": "code",
   "execution_count": 12,
   "id": "44969c14",
   "metadata": {},
   "outputs": [
    {
     "data": {
      "text/plain": [
       "False"
      ]
     },
     "execution_count": 12,
     "metadata": {},
     "output_type": "execute_result"
    }
   ],
   "source": [
    "'a' in x or 'e' in x or 'i' in x or 'o' in x or 'u' in x "
   ]
  },
  {
   "cell_type": "code",
   "execution_count": 13,
   "id": "f545384c",
   "metadata": {},
   "outputs": [
    {
     "data": {
      "text/plain": [
       "<function __main__.<lambda>(x)>"
      ]
     },
     "execution_count": 13,
     "metadata": {},
     "output_type": "execute_result"
    }
   ],
   "source": [
    "lambda x : 'a' in x or 'e' in x or 'i' in x or 'o' in x or 'u' in x "
   ]
  },
  {
   "cell_type": "code",
   "execution_count": 15,
   "id": "10b459a6",
   "metadata": {},
   "outputs": [
    {
     "name": "stdout",
     "output_type": "stream",
     "text": [
      "['apple', 'mango']\n"
     ]
    }
   ],
   "source": [
    "l = ['sky',  'apple',  'fly',  'mango']\n",
    "print(list(filter(lambda x : 'a' in x or 'e' in x or 'i' in x or 'o' in x or 'u' in x , l)))"
   ]
  },
  {
   "cell_type": "code",
   "execution_count": 16,
   "id": "1193c1a0",
   "metadata": {},
   "outputs": [
    {
     "name": "stdout",
     "output_type": "stream",
     "text": [
      "['apple', 'mango']\n"
     ]
    }
   ],
   "source": [
    "print(list(filter(lambda x : 'a' in x or 'e' in x or 'i' in x or 'o' in x or 'u' in x , ['sky',  'apple',  'fly',  'mango'])))"
   ]
  },
  {
   "cell_type": "code",
   "execution_count": 17,
   "id": "c7d827bf",
   "metadata": {},
   "outputs": [
    {
     "name": "stdout",
     "output_type": "stream",
     "text": [
      "['sky', 'apple', 'fly', 'mango']\n"
     ]
    }
   ],
   "source": [
    "l = ['sky',  'apple',  'fly',  'mango']\n",
    "print(list(filter(lambda x:('a'or'e'or'i'or'o'or'u',),(l))))"
   ]
  },
  {
   "cell_type": "code",
   "execution_count": null,
   "id": "4e14cb64",
   "metadata": {},
   "outputs": [],
   "source": []
  },
  {
   "cell_type": "code",
   "execution_count": null,
   "id": "4f890ce0",
   "metadata": {},
   "outputs": [],
   "source": []
  },
  {
   "cell_type": "code",
   "execution_count": null,
   "id": "af89efa9",
   "metadata": {},
   "outputs": [],
   "source": [
    "def vowel(i):\n",
    "    if ('a'or'e'or'i'or'o'or'u') in i:\n",
    "        return i\n",
    "print(list(filter(vowel,l)))"
   ]
  },
  {
   "cell_type": "code",
   "execution_count": null,
   "id": "45de9c75",
   "metadata": {},
   "outputs": [],
   "source": [
    "l = ['sky',  'apple',  'fly',  'mango']\n",
    "lbroken = l.split()\n",
    "print(list(filter(lambda x: x[0] in \"aeiou\", l)))\n"
   ]
  }
 ],
 "metadata": {
  "kernelspec": {
   "display_name": "Python 3 (ipykernel)",
   "language": "python",
   "name": "python3"
  },
  "language_info": {
   "codemirror_mode": {
    "name": "ipython",
    "version": 3
   },
   "file_extension": ".py",
   "mimetype": "text/x-python",
   "name": "python",
   "nbconvert_exporter": "python",
   "pygments_lexer": "ipython3",
   "version": "3.10.1"
  }
 },
 "nbformat": 4,
 "nbformat_minor": 5
}
