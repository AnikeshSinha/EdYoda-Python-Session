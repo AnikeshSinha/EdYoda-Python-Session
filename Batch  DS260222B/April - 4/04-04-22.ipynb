{
 "cells": [
  {
   "cell_type": "code",
   "execution_count": null,
   "id": "bf37f345",
   "metadata": {},
   "outputs": [],
   "source": [
    "a,b=0,1\n",
    "\n",
    "while b<=n:\n",
    "    print(b,end=\",\")\n",
    "    a,b=b,a+b\n"
   ]
  },
  {
   "cell_type": "code",
   "execution_count": 2,
   "id": "184449b5",
   "metadata": {},
   "outputs": [
    {
     "name": "stdout",
     "output_type": "stream",
     "text": [
      "5\n",
      "Harry\n",
      "37.21\n",
      "Berry\n",
      "37.21\n",
      "Tina\n",
      "37.2\n",
      "Akriti\n",
      "41\n",
      "Harsh\n",
      "39\n",
      "[[37.21, 'Harry'], [37.21, 'Berry'], [37.2, 'Tina'], [41.0, 'Akriti'], [39.0, 'Harsh']]\n"
     ]
    }
   ],
   "source": [
    "python_students = [] # taking Empty list container\n",
    "for _ in range(int(input())):\n",
    "    name = input()\n",
    "    score = float(input())\n",
    "    python_students.append([score , name])\n",
    "print(python_students)"
   ]
  },
  {
   "cell_type": "code",
   "execution_count": 3,
   "id": "4c942d83",
   "metadata": {},
   "outputs": [
    {
     "name": "stdout",
     "output_type": "stream",
     "text": [
      "5\n",
      "Harry\n",
      "37.21\n",
      "Berry\n",
      "37.21\n",
      "Tina\n",
      "37.2\n",
      "Akriti\n",
      "41\n",
      "Harsh\n",
      "39\n",
      "Initial list1 [37.21, 37.21, 37.2, 41.0, 39.0]\n",
      "after sorting list1 [37.2, 37.21, 37.21, 39.0, 41.0]\n",
      "a  ->  37.21\n",
      "Intitial b List ->  ['Harry', 'Berry']\n",
      "Berry\n",
      "Harry\n",
      "Final b List ->  ['Berry', 'Harry']\n"
     ]
    }
   ],
   "source": [
    "l=[]\n",
    "for _ in range(int(input())):\n",
    "    name = input()\n",
    "    score = float(input())\n",
    "    l.append([name,score])\n",
    "\n",
    "list1=[i[1] for i in l]\n",
    "\n",
    "print(f'Initial list1 {list1}')\n",
    "\n",
    "list1.sort()\n",
    "\n",
    "print(f'after sorting list1 {list1}')\n",
    "\n",
    "a=list1[1]\n",
    "print(f'a  ->  {a}')\n",
    "\n",
    "b=[]\n",
    "\n",
    "for i in l:\n",
    "    if i[1]==a:\n",
    "        b.append(i[0])\n",
    "print(f'Intitial b List ->  {b}')     \n",
    "        \n",
    "b.sort()\n",
    "for i in b:\n",
    "    print(i)\n",
    "\n",
    "print(f'Final b List ->  {b}')"
   ]
  },
  {
   "cell_type": "code",
   "execution_count": null,
   "id": "8918f1b9",
   "metadata": {},
   "outputs": [],
   "source": [
    "Harry\n",
    "37.21\n",
    "Berry\n",
    "37.21\n",
    "Tina\n",
    "37.2\n",
    "Akriti\n",
    "41\n",
    "Harsh\n",
    "39"
   ]
  },
  {
   "cell_type": "code",
   "execution_count": 6,
   "id": "3e59cd18",
   "metadata": {},
   "outputs": [
    {
     "name": "stdout",
     "output_type": "stream",
     "text": [
      "5\n",
      "Harry\n",
      "37.21\n",
      "Berry\n",
      "37.21\n",
      "Tina\n",
      "37.2\n",
      "Akriti\n",
      "41\n",
      "Harsh\n",
      "39\n",
      "Initial l [[37.2, 'Tina'], [37.21, 'Berry'], [37.21, 'Harry'], [39.0, 'Harsh'], [41.0, 'Akriti']]\n",
      "Printing... [[37.21, 'Berry'], [37.21, 'Harry'], [39.0, 'Harsh'], [41.0, 'Akriti']]\n",
      "Printing... [[37.21, 'Berry'], [37.21, 'Harry']]\n",
      "Printing after sorting l2... [[37.21, 'Berry'], [37.21, 'Harry']]\n",
      "Berry\n",
      "Harry\n"
     ]
    }
   ],
   "source": [
    "l=[]\n",
    "for _ in range(int(input())):\n",
    "    name = input()\n",
    "    score = float(input())\n",
    "    l.append([score,name])\n",
    "\n",
    "l.sort()\n",
    "print(f'Initial l {l}')\n",
    "\n",
    "l1 = [ele for ele in l if ele[0] != l[0][0]]\n",
    "print(f'Printing... {l1}')\n",
    "\n",
    "l2 = [ele for ele in l1 if ele[0] == l1[0][0]]\n",
    "print(f'Printing... {l2}')\n",
    "\n",
    "l2.sort(key= lambda x: x[1])\n",
    "print(f'Printing after sorting l2... {l2}')\n",
    "\n",
    "for ele in range(len(l2)):\n",
    "    print(l2[ele][1])"
   ]
  },
  {
   "cell_type": "code",
   "execution_count": null,
   "id": "6356fe06",
   "metadata": {},
   "outputs": [],
   "source": [
    "Harry\n",
    "37.21\n",
    "Berry\n",
    "37.21\n",
    "Tina\n",
    "37.2\n",
    "Akriti\n",
    "41\n",
    "Harsh\n",
    "39"
   ]
  },
  {
   "cell_type": "code",
   "execution_count": null,
   "id": "c7ec908f",
   "metadata": {},
   "outputs": [],
   "source": []
  },
  {
   "cell_type": "code",
   "execution_count": null,
   "id": "5832717a",
   "metadata": {},
   "outputs": [],
   "source": []
  }
 ],
 "metadata": {
  "kernelspec": {
   "display_name": "Python 3 (ipykernel)",
   "language": "python",
   "name": "python3"
  },
  "language_info": {
   "codemirror_mode": {
    "name": "ipython",
    "version": 3
   },
   "file_extension": ".py",
   "mimetype": "text/x-python",
   "name": "python",
   "nbconvert_exporter": "python",
   "pygments_lexer": "ipython3",
   "version": "3.10.1"
  }
 },
 "nbformat": 4,
 "nbformat_minor": 5
}
