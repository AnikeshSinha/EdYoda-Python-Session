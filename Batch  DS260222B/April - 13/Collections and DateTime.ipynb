{
 "cells": [
  {
   "cell_type": "markdown",
   "id": "c1459679",
   "metadata": {},
   "source": [
    "# `Collections`"
   ]
  },
  {
   "cell_type": "code",
   "execution_count": null,
   "id": "69c635dd",
   "metadata": {},
   "outputs": [],
   "source": []
  },
  {
   "cell_type": "markdown",
   "id": "32c1c49a",
   "metadata": {},
   "source": [
    "- Deque\n",
    "- Counter\n",
    "- OrderedDict\n",
    "- ChainMap"
   ]
  },
  {
   "cell_type": "markdown",
   "id": "17e5e838",
   "metadata": {},
   "source": [
    "# `Deque`"
   ]
  },
  {
   "cell_type": "code",
   "execution_count": 3,
   "id": "7a414b6e",
   "metadata": {},
   "outputs": [
    {
     "name": "stdout",
     "output_type": "stream",
     "text": [
      "A B C D E F G H I J K L M N O P Q R S T U V W X Y Z "
     ]
    }
   ],
   "source": [
    "from collections import deque\n",
    "\n",
    "import string\n",
    "d = deque(string.ascii_uppercase)\n",
    "\n",
    "for letter in d:\n",
    "    print(letter , end = \" \")"
   ]
  },
  {
   "cell_type": "code",
   "execution_count": 5,
   "id": "0e565834",
   "metadata": {},
   "outputs": [
    {
     "name": "stdout",
     "output_type": "stream",
     "text": [
      "deque(['A', 'B', 'C', 'D', 'E', 'F', 'G', 'H', 'I', 'J', 'K', 'L', 'M', 'N', 'O', 'P', 'Q', 'R', 'S', 'T', 'U', 'V', 'W', 'X', 'Y', 'Z'])\n"
     ]
    }
   ],
   "source": [
    "from collections import deque\n",
    "\n",
    "import string\n",
    "d = deque(string.ascii_uppercase)\n",
    "print(d)\n",
    "# for letter in d:\n",
    "#     print(letter , end = \" \")"
   ]
  },
  {
   "cell_type": "code",
   "execution_count": 4,
   "id": "3fc706a9",
   "metadata": {},
   "outputs": [
    {
     "name": "stdout",
     "output_type": "stream",
     "text": [
      "a b c d e f g h i j k l m n o p q r s t u v w x y z "
     ]
    }
   ],
   "source": [
    "from collections import deque\n",
    "\n",
    "import string\n",
    "d = deque(string.ascii_lowercase)\n",
    "\n",
    "for letter in d:\n",
    "    print(letter , end = \" \")"
   ]
  },
  {
   "cell_type": "code",
   "execution_count": 1,
   "id": "60aefd03",
   "metadata": {},
   "outputs": [
    {
     "name": "stdout",
     "output_type": "stream",
     "text": [
      "ABCDEFGHIJKLMNOPQRSTUVWXYZ\n"
     ]
    }
   ],
   "source": [
    "import string\n",
    "print(string.ascii_uppercase)"
   ]
  },
  {
   "cell_type": "code",
   "execution_count": 6,
   "id": "c0396af6",
   "metadata": {},
   "outputs": [
    {
     "name": "stdout",
     "output_type": "stream",
     "text": [
      "deque(['A', 'B', 'C', 'D', 'E', 'F', 'G', 'H', 'I', 'J', 'K', 'L', 'M', 'N', 'O', 'P', 'Q', 'R', 'S', 'T', 'U', 'V', 'W', 'X', 'Y', 'Z', 'jaiPrakash'])\n"
     ]
    }
   ],
   "source": [
    "d.append('jaiPrakash')\n",
    "print(d)"
   ]
  },
  {
   "cell_type": "code",
   "execution_count": 7,
   "id": "5848d535",
   "metadata": {},
   "outputs": [
    {
     "name": "stdout",
     "output_type": "stream",
     "text": [
      "deque(['Usha', 'A', 'B', 'C', 'D', 'E', 'F', 'G', 'H', 'I', 'J', 'K', 'L', 'M', 'N', 'O', 'P', 'Q', 'R', 'S', 'T', 'U', 'V', 'W', 'X', 'Y', 'Z', 'jaiPrakash'])\n"
     ]
    }
   ],
   "source": [
    "d.appendleft('Usha')\n",
    "print(d)"
   ]
  },
  {
   "cell_type": "code",
   "execution_count": 8,
   "id": "0fb317b0",
   "metadata": {},
   "outputs": [
    {
     "name": "stdout",
     "output_type": "stream",
     "text": [
      "deque(['jaiPrakash', 'Usha', 'A', 'B', 'C', 'D', 'E', 'F', 'G', 'H', 'I', 'J', 'K', 'L', 'M', 'N', 'O', 'P', 'Q', 'R', 'S', 'T', 'U', 'V', 'W', 'X', 'Y', 'Z'])\n"
     ]
    }
   ],
   "source": [
    "d.rotate(1)\n",
    "print(d)"
   ]
  },
  {
   "cell_type": "code",
   "execution_count": 9,
   "id": "54ba60b8",
   "metadata": {},
   "outputs": [
    {
     "name": "stdout",
     "output_type": "stream",
     "text": [
      "deque(['Y', 'Z', 'jaiPrakash', 'Usha', 'A', 'B', 'C', 'D', 'E', 'F', 'G', 'H', 'I', 'J', 'K', 'L', 'M', 'N', 'O', 'P', 'Q', 'R', 'S', 'T', 'U', 'V', 'W', 'X'])\n"
     ]
    }
   ],
   "source": [
    "d.rotate(2)\n",
    "print(d)"
   ]
  },
  {
   "cell_type": "code",
   "execution_count": 10,
   "id": "febcb767",
   "metadata": {},
   "outputs": [
    {
     "name": "stdout",
     "output_type": "stream",
     "text": [
      "deque(['Y', 'Z', 'jaiPrakash', 'Usha', 'A', 'B', 'C', 'D', 'E', 'F', 'G', 'H', 'I', 'J', 'K', 'L', 'M', 'N', 'O', 'P', 'Q', 'R', 'S', 'T', 'U', 'V', 'W'])\n"
     ]
    }
   ],
   "source": [
    "d.pop()\n",
    "print(d)"
   ]
  },
  {
   "cell_type": "code",
   "execution_count": 11,
   "id": "47df1ed2",
   "metadata": {},
   "outputs": [
    {
     "name": "stdout",
     "output_type": "stream",
     "text": [
      "deque(['Z', 'jaiPrakash', 'Usha', 'A', 'B', 'C', 'D', 'E', 'F', 'G', 'H', 'I', 'J', 'K', 'L', 'M', 'N', 'O', 'P', 'Q', 'R', 'S', 'T', 'U', 'V', 'W'])\n"
     ]
    }
   ],
   "source": [
    "d.popleft()\n",
    "print(d)"
   ]
  },
  {
   "cell_type": "code",
   "execution_count": 12,
   "id": "b38888a8",
   "metadata": {},
   "outputs": [
    {
     "name": "stdout",
     "output_type": "stream",
     "text": [
      "deque(['jaiPrakash', 'Usha', 'A', 'B', 'C', 'D', 'E', 'F', 'G', 'H', 'I', 'J', 'K', 'L', 'M', 'N', 'O', 'P', 'Q', 'R', 'S', 'T', 'U', 'V', 'W', 'Z'])\n"
     ]
    }
   ],
   "source": [
    "d.rotate(-1)\n",
    "print(d)"
   ]
  },
  {
   "cell_type": "markdown",
   "id": "1b5b39a5",
   "metadata": {},
   "source": [
    "# `Counter`"
   ]
  },
  {
   "cell_type": "code",
   "execution_count": 13,
   "id": "6295ba68",
   "metadata": {},
   "outputs": [
    {
     "name": "stdout",
     "output_type": "stream",
     "text": [
      "Counter({'u': 3, 's': 2, 'p': 1, 'e': 1, 'r': 1, 'f': 1, 'l': 1, 'o': 1})\n"
     ]
    }
   ],
   "source": [
    "from collections import Counter\n",
    "\n",
    "print(Counter('superfluous'))"
   ]
  },
  {
   "cell_type": "code",
   "execution_count": 14,
   "id": "dcff8b43",
   "metadata": {},
   "outputs": [
    {
     "name": "stdout",
     "output_type": "stream",
     "text": [
      "3\n"
     ]
    }
   ],
   "source": [
    "counter = Counter('superfluous')\n",
    "print(counter['u'])"
   ]
  },
  {
   "cell_type": "code",
   "execution_count": 15,
   "id": "a5a17410",
   "metadata": {},
   "outputs": [
    {
     "name": "stdout",
     "output_type": "stream",
     "text": [
      "['s', 's', 'u', 'u', 'u', 'p', 'e', 'r', 'f', 'l', 'o']\n"
     ]
    }
   ],
   "source": [
    "print(list(counter.elements()))"
   ]
  },
  {
   "cell_type": "code",
   "execution_count": 16,
   "id": "07af9405",
   "metadata": {},
   "outputs": [
    {
     "name": "stdout",
     "output_type": "stream",
     "text": [
      "[('u', 3)]\n"
     ]
    }
   ],
   "source": [
    "print(counter.most_common(1))"
   ]
  },
  {
   "cell_type": "code",
   "execution_count": 17,
   "id": "12910590",
   "metadata": {},
   "outputs": [
    {
     "name": "stdout",
     "output_type": "stream",
     "text": [
      "[('u', 3), ('s', 2)]\n"
     ]
    }
   ],
   "source": [
    "print(counter.most_common(2))"
   ]
  },
  {
   "cell_type": "code",
   "execution_count": 18,
   "id": "7d044a36",
   "metadata": {},
   "outputs": [
    {
     "name": "stdout",
     "output_type": "stream",
     "text": [
      "Counter({'u': 3, 's': 2, 'p': 1, 'e': 1, 'r': 1, 'f': 1, 'l': 1, 'o': 1})\n",
      "None\n",
      "Counter({'u': 2, 's': 1, 'f': 1, 'l': 1, 'o': 1, 'p': 0, 'e': 0, 'r': 0})\n"
     ]
    }
   ],
   "source": [
    "from collections import Counter\n",
    "\n",
    "counter_one = Counter('superfluous')\n",
    "print(counter_one)\n",
    "\n",
    "counter_two = Counter('super')\n",
    "print(counter_one.subtract(counter_two))\n",
    "\n",
    "print(counter_one)"
   ]
  },
  {
   "cell_type": "markdown",
   "id": "3a10b418",
   "metadata": {},
   "source": [
    "# `OrderedDict`"
   ]
  },
  {
   "cell_type": "code",
   "execution_count": 20,
   "id": "f59ee6e9",
   "metadata": {},
   "outputs": [
    {
     "name": "stdout",
     "output_type": "stream",
     "text": [
      "{'banana': 3, 'apple': 4, 'pear': 5, 'orange': 7, 'mango': 20}\n"
     ]
    }
   ],
   "source": [
    "d = {'banana':3 , 'apple':4 , 'pear': 5 , 'orange':7 , 'mango': 20}\n",
    "print(d)"
   ]
  },
  {
   "cell_type": "code",
   "execution_count": 21,
   "id": "ad1bd6fe",
   "metadata": {},
   "outputs": [
    {
     "name": "stdout",
     "output_type": "stream",
     "text": [
      "{'banana': 3, 'apple': 4, 'pear': 5, 'orange': 7, 'mango': 20}\n",
      "OrderedDict([('apple', 4), ('banana', 3), ('mango', 20), ('orange', 7), ('pear', 5)])\n",
      "apple 4\n",
      "banana 3\n",
      "mango 20\n",
      "orange 7\n",
      "pear 5\n"
     ]
    }
   ],
   "source": [
    "from collections import OrderedDict\n",
    "\n",
    "d = {'banana':3 , 'apple':4 , 'pear': 5 , 'orange':7 , 'mango': 20}\n",
    "print(d)\n",
    "new_d = OrderedDict(sorted(d.items()))\n",
    "\n",
    "print(new_d)\n",
    "\n",
    "for key in new_d:\n",
    "    print(key , new_d[key])"
   ]
  },
  {
   "cell_type": "code",
   "execution_count": 22,
   "id": "c7ad22d6",
   "metadata": {},
   "outputs": [
    {
     "name": "stdout",
     "output_type": "stream",
     "text": [
      "pear 5\n",
      "orange 7\n",
      "mango 20\n",
      "banana 3\n",
      "apple 4\n"
     ]
    }
   ],
   "source": [
    "for key in reversed(new_d):\n",
    "    print(key , new_d[key])"
   ]
  },
  {
   "cell_type": "code",
   "execution_count": 23,
   "id": "51a3ed16",
   "metadata": {},
   "outputs": [
    {
     "name": "stdout",
     "output_type": "stream",
     "text": [
      "apple\n",
      "banana\n",
      "mango\n",
      "orange\n",
      "pear\n"
     ]
    }
   ],
   "source": [
    "for key in new_d:\n",
    "    print(key)"
   ]
  },
  {
   "cell_type": "markdown",
   "id": "9ea6a500",
   "metadata": {},
   "source": [
    "# `ChainMap`"
   ]
  },
  {
   "cell_type": "code",
   "execution_count": 24,
   "id": "bed26ccf",
   "metadata": {},
   "outputs": [
    {
     "name": "stdout",
     "output_type": "stream",
     "text": [
      "500\n"
     ]
    }
   ],
   "source": [
    "from collections import ChainMap\n",
    "\n",
    "car_parts = {'hood': 500 , 'engine':5000 ,'front_door':750}\n",
    "car_options = {'A/C':1000 , 'Turbo':2500 ,'rollbar': 300}\n",
    "car_accessories = {'cover': 100 ,\"hood_ornament\":150 , 'seat_cover':99}\n",
    "\n",
    "car_pricing = ChainMap(car_accessories , car_options , car_parts)\n",
    "\n",
    "print(car_pricing['hood'])"
   ]
  },
  {
   "cell_type": "code",
   "execution_count": 25,
   "id": "68c592ad",
   "metadata": {},
   "outputs": [
    {
     "name": "stdout",
     "output_type": "stream",
     "text": [
      "ChainMap({'cover': 100, 'hood_ornament': 150, 'seat_cover': 99}, {'A/C': 1000, 'Turbo': 2500, 'rollbar': 300}, {'hood': 500, 'engine': 5000, 'front_door': 750})\n"
     ]
    }
   ],
   "source": [
    "print(car_pricing)"
   ]
  },
  {
   "cell_type": "code",
   "execution_count": 26,
   "id": "51429852",
   "metadata": {},
   "outputs": [
    {
     "name": "stdout",
     "output_type": "stream",
     "text": [
      "hood\n",
      "engine\n",
      "front_door\n",
      "A/C\n",
      "Turbo\n",
      "rollbar\n",
      "cover\n",
      "hood_ornament\n",
      "seat_cover\n"
     ]
    }
   ],
   "source": [
    "for key in car_pricing.keys():\n",
    "    print(key)"
   ]
  },
  {
   "cell_type": "code",
   "execution_count": 28,
   "id": "f4cdec47",
   "metadata": {},
   "outputs": [
    {
     "name": "stdout",
     "output_type": "stream",
     "text": [
      "500\n",
      "5000\n",
      "750\n",
      "1000\n",
      "2500\n",
      "300\n",
      "100\n",
      "150\n",
      "99\n"
     ]
    }
   ],
   "source": [
    "for value in car_pricing.values():\n",
    "    print(value)"
   ]
  },
  {
   "cell_type": "markdown",
   "id": "c08914e4",
   "metadata": {},
   "source": [
    "# `HW : Go Through`\n",
    "    \n",
    "    - defaultdict\n",
    "    - namedtuple\n",
    "    - whatever We Learned So far."
   ]
  },
  {
   "cell_type": "markdown",
   "id": "47262e0e",
   "metadata": {},
   "source": [
    "`-------------------------------------------------------------------------------------------------------------`"
   ]
  },
  {
   "cell_type": "markdown",
   "id": "a7b877ce",
   "metadata": {},
   "source": [
    "# `Datetime`"
   ]
  },
  {
   "cell_type": "code",
   "execution_count": 29,
   "id": "a30480d9",
   "metadata": {},
   "outputs": [],
   "source": [
    "import datetime"
   ]
  },
  {
   "cell_type": "code",
   "execution_count": 31,
   "id": "7198e67e",
   "metadata": {},
   "outputs": [
    {
     "name": "stdout",
     "output_type": "stream",
     "text": [
      "2022-04-13 20:53:03.856300\n"
     ]
    }
   ],
   "source": [
    "# retruns the current datetime object\n",
    "print(datetime.datetime.now())"
   ]
  },
  {
   "cell_type": "code",
   "execution_count": 32,
   "id": "42acc498",
   "metadata": {},
   "outputs": [
    {
     "name": "stdout",
     "output_type": "stream",
     "text": [
      "2022-04-13\n"
     ]
    }
   ],
   "source": [
    "# retruns the current date object\n",
    "print(datetime.date.today())"
   ]
  },
  {
   "cell_type": "markdown",
   "id": "d30cbfb9",
   "metadata": {},
   "source": [
    "# `time()`"
   ]
  },
  {
   "cell_type": "markdown",
   "id": "09e93e46",
   "metadata": {},
   "source": [
    "    - time() is a function of the time module that returns the total number of \n",
    "        ticks(seconds) sepnt since 12 AM , January  1st, 1970"
   ]
  },
  {
   "cell_type": "code",
   "execution_count": 33,
   "id": "ba69c7d7",
   "metadata": {},
   "outputs": [
    {
     "name": "stdout",
     "output_type": "stream",
     "text": [
      "1649863967.823811\n"
     ]
    }
   ],
   "source": [
    "import time\n",
    "print(time.time()) # print the number of ticks spent"
   ]
  },
  {
   "cell_type": "code",
   "execution_count": 34,
   "id": "e4ebaba5",
   "metadata": {},
   "outputs": [
    {
     "name": "stdout",
     "output_type": "stream",
     "text": [
      "1649864098.877554\n"
     ]
    }
   ],
   "source": [
    "print(time.time())"
   ]
  },
  {
   "cell_type": "code",
   "execution_count": 35,
   "id": "5370f7fe",
   "metadata": {},
   "outputs": [
    {
     "name": "stdout",
     "output_type": "stream",
     "text": [
      "1649864110.818578\n"
     ]
    }
   ],
   "source": [
    "print(time.time())"
   ]
  },
  {
   "cell_type": "code",
   "execution_count": 37,
   "id": "527a9f0d",
   "metadata": {},
   "outputs": [
    {
     "name": "stdout",
     "output_type": "stream",
     "text": [
      "2022\n",
      "4\n",
      "13\n",
      "Wednesday\n"
     ]
    }
   ],
   "source": [
    "import datetime\n",
    "\n",
    "x = datetime.datetime.now()\n",
    "\n",
    "print(x.year)\n",
    "print(x.month)\n",
    "print(x.day)\n",
    "print(x.strftime(\"%A\"))\n"
   ]
  },
  {
   "cell_type": "code",
   "execution_count": 41,
   "id": "3e260854",
   "metadata": {},
   "outputs": [
    {
     "name": "stdout",
     "output_type": "stream",
     "text": [
      "2022\n",
      "4\n",
      "13\n",
      "Wed\n"
     ]
    }
   ],
   "source": [
    "x = datetime.datetime.now()\n",
    "\n",
    "print(x.year)\n",
    "print(x.month)\n",
    "print(x.day)\n",
    "print(x.strftime(\"%a\"))"
   ]
  },
  {
   "cell_type": "code",
   "execution_count": 43,
   "id": "1d22e52e",
   "metadata": {},
   "outputs": [
    {
     "name": "stdout",
     "output_type": "stream",
     "text": [
      "2022-04-13\n",
      "April\n"
     ]
    }
   ],
   "source": [
    "x = datetime.datetime(2022, 4, 13)\n",
    "\n",
    "print(x.strftime(\"%B\"))"
   ]
  },
  {
   "cell_type": "code",
   "execution_count": 44,
   "id": "7e53ccee",
   "metadata": {},
   "outputs": [
    {
     "name": "stdout",
     "output_type": "stream",
     "text": [
      "Apr\n"
     ]
    }
   ],
   "source": [
    "x = datetime.datetime(2022, 4, 13)\n",
    "\n",
    "print(x.strftime(\"%b\"))"
   ]
  },
  {
   "cell_type": "code",
   "execution_count": 52,
   "id": "f331495c",
   "metadata": {},
   "outputs": [],
   "source": [
    "# from datetime import datetime\n",
    "d = datetime.strptime(\"13-04-2022 20:53:03\" , \"%d-%m-%Y %H:%M:%S\")"
   ]
  },
  {
   "cell_type": "code",
   "execution_count": 53,
   "id": "6e5870c1",
   "metadata": {},
   "outputs": [
    {
     "name": "stdout",
     "output_type": "stream",
     "text": [
      "2022-04-13 20:53:03\n"
     ]
    }
   ],
   "source": [
    "print(d)"
   ]
  },
  {
   "cell_type": "markdown",
   "id": "152b616b",
   "metadata": {},
   "source": [
    "### `Know HOw Old you are!!`"
   ]
  },
  {
   "cell_type": "code",
   "execution_count": null,
   "id": "b5244316",
   "metadata": {},
   "outputs": [],
   "source": [
    "03-10-1999 -> Sai Kumar"
   ]
  },
  {
   "cell_type": "code",
   "execution_count": 56,
   "id": "61a2d718",
   "metadata": {},
   "outputs": [],
   "source": [
    "from datetime import date\n",
    "\n",
    "def age(birthdate):\n",
    "    today = date.today()\n",
    "    age = today.year - birthdate.year - ((today.month , today.day) < (birthdate.month , birthdate.day))\n",
    "    print(((today.month , today.day) < (birthdate.month , birthdate.day)))\n",
    "    return age\n",
    "                            "
   ]
  },
  {
   "cell_type": "code",
   "execution_count": 57,
   "id": "2e91d78e",
   "metadata": {},
   "outputs": [
    {
     "name": "stdout",
     "output_type": "stream",
     "text": [
      "True\n",
      "22\n"
     ]
    }
   ],
   "source": [
    "my_birthday = date(1999 , 10 , 3)\n",
    "myage = age(my_birthday)\n",
    "print(myage)"
   ]
  },
  {
   "cell_type": "markdown",
   "id": "598956c0",
   "metadata": {},
   "source": [
    "# `date.weekday() function in Python`"
   ]
  },
  {
   "cell_type": "code",
   "execution_count": 60,
   "id": "e6329d92",
   "metadata": {
    "scrolled": true
   },
   "outputs": [
    {
     "name": "stdout",
     "output_type": "stream",
     "text": [
      "2022-04-13\n",
      "2\n",
      "Today is : Wed\n"
     ]
    }
   ],
   "source": [
    "from datetime import date\n",
    "\n",
    "today = date.today()\n",
    "print(today)\n",
    "print(today.weekday())\n",
    "\n",
    "if today.weekday() == 0:\n",
    "    print(\"Today is : Monday\")\n",
    "elif today.weekday() == 1:\n",
    "    print(\"Today is : Tue\")\n",
    "elif today.weekday() == 2:\n",
    "    print(\"Today is : Wed\")\n",
    "elif today.weekday() == 3:\n",
    "    print(\"Today is : Tru\")\n",
    "elif today.weekday() == 4:\n",
    "    print(\"Today is : Fri\")\n",
    "elif today.weekday() == 5:\n",
    "    print(\"Today is : Sat\")\n",
    "elif today.weekday() == 6:\n",
    "    print(\"Today is : Sun\")"
   ]
  },
  {
   "cell_type": "markdown",
   "id": "3aadc013",
   "metadata": {},
   "source": [
    "# `Python Sleep Module`"
   ]
  },
  {
   "cell_type": "code",
   "execution_count": 61,
   "id": "3ed59343",
   "metadata": {},
   "outputs": [
    {
     "name": "stdout",
     "output_type": "stream",
     "text": [
      "0\n",
      "2\n",
      "4\n",
      "6\n",
      "8\n",
      "10\n"
     ]
    }
   ],
   "source": [
    "import time\n",
    "for i in range(0,6):\n",
    "    print(i * 2)\n",
    "    \n",
    "    time.sleep(4)"
   ]
  },
  {
   "cell_type": "markdown",
   "id": "bac364b7",
   "metadata": {},
   "source": [
    "# `HW: Go Through`\n",
    "    \n",
    "    - Calendar module\n",
    "    - time module\n",
    "    - datetime module -> **Most Important**"
   ]
  },
  {
   "cell_type": "code",
   "execution_count": null,
   "id": "203ef760",
   "metadata": {},
   "outputs": [],
   "source": []
  }
 ],
 "metadata": {
  "kernelspec": {
   "display_name": "Python 3 (ipykernel)",
   "language": "python",
   "name": "python3"
  },
  "language_info": {
   "codemirror_mode": {
    "name": "ipython",
    "version": 3
   },
   "file_extension": ".py",
   "mimetype": "text/x-python",
   "name": "python",
   "nbconvert_exporter": "python",
   "pygments_lexer": "ipython3",
   "version": "3.10.1"
  }
 },
 "nbformat": 4,
 "nbformat_minor": 5
}
