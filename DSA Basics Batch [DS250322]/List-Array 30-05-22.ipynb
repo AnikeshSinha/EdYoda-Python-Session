{
 "cells": [
  {
   "cell_type": "code",
   "execution_count": null,
   "id": "9dcd3748",
   "metadata": {},
   "outputs": [],
   "source": [
    "List / Array"
   ]
  },
  {
   "cell_type": "code",
   "execution_count": null,
   "id": "8da87564",
   "metadata": {},
   "outputs": [],
   "source": [
    "list = [element1 , element2,......]"
   ]
  },
  {
   "cell_type": "code",
   "execution_count": null,
   "id": "1dfa67af",
   "metadata": {},
   "outputs": [],
   "source": [
    "l = [1,2,3,4,5]"
   ]
  },
  {
   "cell_type": "markdown",
   "id": "2b9570bc",
   "metadata": {},
   "source": [
    "`Sublist`"
   ]
  },
  {
   "cell_type": "code",
   "execution_count": null,
   "id": "2ec1eac5",
   "metadata": {},
   "outputs": [],
   "source": [
    "sublist = li[startIndex : endIndex]"
   ]
  },
  {
   "cell_type": "code",
   "execution_count": 2,
   "id": "4299b5a5",
   "metadata": {},
   "outputs": [
    {
     "name": "stdout",
     "output_type": "stream",
     "text": [
      "[1, 2]\n",
      "[3, 4, 5]\n"
     ]
    }
   ],
   "source": [
    "l = [1,2,3,4,5]\n",
    "\n",
    "l1 = l[0 : 2]\n",
    "l2 = l[2 : 5]\n",
    "print(l1)\n",
    "print(l2)"
   ]
  },
  {
   "cell_type": "markdown",
   "id": "8f2334f1",
   "metadata": {},
   "source": [
    "### `Note` : The Start index is inclusive and the end index is exclusive in the range"
   ]
  },
  {
   "cell_type": "code",
   "execution_count": 4,
   "id": "9358e60e",
   "metadata": {},
   "outputs": [
    {
     "data": {
      "text/plain": [
       "[2, 5, 7, 9]"
      ]
     },
     "execution_count": 4,
     "metadata": {},
     "output_type": "execute_result"
    }
   ],
   "source": [
    "l1 = [2,5]\n",
    "l2 = [7,9]\n",
    "l3 = l1 + l2\n",
    "l3"
   ]
  },
  {
   "cell_type": "markdown",
   "id": "08fecf34",
   "metadata": {},
   "source": [
    "# `Traverse a List:`"
   ]
  },
  {
   "cell_type": "code",
   "execution_count": null,
   "id": "85e911b4",
   "metadata": {},
   "outputs": [],
   "source": [
    "Interated over list"
   ]
  },
  {
   "cell_type": "code",
   "execution_count": 5,
   "id": "d996bce9",
   "metadata": {
    "scrolled": true
   },
   "outputs": [
    {
     "name": "stdout",
     "output_type": "stream",
     "text": [
      "1\n",
      "2\n",
      "3\n",
      "4\n",
      "5\n"
     ]
    }
   ],
   "source": [
    "l = [1,2,3,4,5]\n",
    "for ele in l:\n",
    "    print(ele)"
   ]
  },
  {
   "cell_type": "code",
   "execution_count": 6,
   "id": "f7ec5349",
   "metadata": {},
   "outputs": [
    {
     "name": "stdout",
     "output_type": "stream",
     "text": [
      "1\n",
      "2\n",
      "3\n",
      "4\n",
      "5\n"
     ]
    }
   ],
   "source": [
    "l = [1,2,3,4,5]\n",
    "for ele in range(0,len(l),1):\n",
    "    print(l[ele])"
   ]
  },
  {
   "cell_type": "code",
   "execution_count": null,
   "id": "5dc55160",
   "metadata": {},
   "outputs": [],
   "source": [
    "Basic Operations: Traversing, Searching, Sorting, Insertion, Deletion"
   ]
  },
  {
   "cell_type": "markdown",
   "id": "8a35c760",
   "metadata": {},
   "source": [
    "# `Remove/Deletion even Integer from list`"
   ]
  },
  {
   "cell_type": "code",
   "execution_count": 9,
   "id": "8a286fb2",
   "metadata": {},
   "outputs": [
    {
     "name": "stdout",
     "output_type": "stream",
     "text": [
      "[3, 41, 5]\n",
      "3 41 5\n"
     ]
    }
   ],
   "source": [
    "def remove_even(lst):\n",
    "    odd = []\n",
    "    for number in lst:\n",
    "        if number %2 != 0:\n",
    "            odd.append(number)\n",
    "    return odd\n",
    "res = remove_even([3,2,41,6,34,5,10])\n",
    "print(res)\n",
    "print(*res)"
   ]
  },
  {
   "cell_type": "code",
   "execution_count": 14,
   "id": "18121b92",
   "metadata": {},
   "outputs": [
    {
     "name": "stdout",
     "output_type": "stream",
     "text": [
      "[3, 41, 5]\n",
      "3 41 5\n"
     ]
    }
   ],
   "source": [
    "def remove_even(lst):\n",
    "    return [number for number in lst if number %2 != 0]\n",
    "\n",
    "res = remove_even([3,2,41,6,34,5,10])\n",
    "print(res)\n",
    "print(*res)"
   ]
  },
  {
   "cell_type": "code",
   "execution_count": 12,
   "id": "20bb06aa",
   "metadata": {},
   "outputs": [
    {
     "name": "stdout",
     "output_type": "stream",
     "text": [
      "[3, 2, 41, 6, 34, 5, 10]\n",
      "3 2 41 6 34 5 10\n",
      "(3, 2, 41, 6, 34, 5, 10)\n",
      "3 2 41 6 34 5 10\n"
     ]
    }
   ],
   "source": [
    "#List Unpacking\n",
    "l = [3,2,41,6,34,5,10]\n",
    "print(l)\n",
    "print(*l)\n",
    "# tuple Unpacking\n",
    "t = (3,2,41,6,34,5,10)\n",
    "print(t)\n",
    "print(*t)"
   ]
  },
  {
   "cell_type": "markdown",
   "id": "9a7eb49d",
   "metadata": {},
   "source": [
    "# `Searching element in the List/Array`"
   ]
  },
  {
   "cell_type": "code",
   "execution_count": 15,
   "id": "667f6c40",
   "metadata": {},
   "outputs": [
    {
     "name": "stdout",
     "output_type": "stream",
     "text": [
      "10\n",
      "8\n"
     ]
    }
   ],
   "source": [
    "def searching_element(arr , s_e):\n",
    "    for ele in range(len(arr)):\n",
    "        if(arr[ele] == s_e):\n",
    "            return ele\n",
    "    return -1\n",
    "        \n",
    "arr = [100,2,3,400,5,6,7,8,10,14,18]\n",
    "key = int(input()) # this is for searching the perticular element\n",
    "res = searching_element(arr, key)\n",
    "print(res)"
   ]
  },
  {
   "cell_type": "code",
   "execution_count": 19,
   "id": "8587bf47",
   "metadata": {},
   "outputs": [
    {
     "name": "stdout",
     "output_type": "stream",
     "text": [
      "100\n",
      "0\n"
     ]
    }
   ],
   "source": [
    "def searching_element(arr , s_e):\n",
    "    for ele in range(len(arr)):\n",
    "        if(arr[ele] == s_e):\n",
    "            return ele\n",
    "    return -2\n",
    "        \n",
    "arr = [100,2,3,400,5,6,7,8,10,14,18]\n",
    "key = int(input()) # this is for searching the perticular element\n",
    "res = searching_element(arr, key)\n",
    "print(res)"
   ]
  },
  {
   "cell_type": "code",
   "execution_count": null,
   "id": "0b7ec4da",
   "metadata": {},
   "outputs": [],
   "source": [
    "index for iteration and get the element?\n"
   ]
  },
  {
   "cell_type": "code",
   "execution_count": 20,
   "id": "3adf9dcf",
   "metadata": {
    "scrolled": true
   },
   "outputs": [
    {
     "name": "stdout",
     "output_type": "stream",
     "text": [
      "3\n",
      "400\n"
     ]
    }
   ],
   "source": [
    "def searching_element(arr , find_index):\n",
    "    for ele in range(len(arr)):\n",
    "        if(ele == find_index):\n",
    "            return arr[ele]\n",
    "    return -2\n",
    "        \n",
    "arr = [100,2,3,400,5,6,7,8,10,14,18]\n",
    "index = int(input()) # this is for searching the perticular element\n",
    "res = searching_element(arr, index)\n",
    "print(res)"
   ]
  },
  {
   "cell_type": "markdown",
   "id": "40a8881d",
   "metadata": {},
   "source": [
    "# `Insertion`"
   ]
  },
  {
   "cell_type": "code",
   "execution_count": 26,
   "id": "67662e58",
   "metadata": {},
   "outputs": [
    {
     "name": "stdout",
     "output_type": "stream",
     "text": [
      "500\n",
      "[100, 2, 3, 400, 5, 6, 7, 8, 10, 14, 18]\n"
     ]
    },
    {
     "data": {
      "text/plain": [
       "[100, 2, 3, 400, 5, 6, 7, 8, 10, 14, 18, 500]"
      ]
     },
     "execution_count": 26,
     "metadata": {},
     "output_type": "execute_result"
    }
   ],
   "source": [
    "def insert_element(arr , ele_to_be_inserted):\n",
    "    print(arr)\n",
    "    return arr.append(ele_to_be_inserted)\n",
    "        \n",
    "arr = [100,2,3,400,5,6,7,8,10,14,18]\n",
    "ele_to_be_inserted = int(input()) # this is for searching the perticular element\n",
    "insert_element(arr, ele_to_be_inserted)\n",
    "arr"
   ]
  },
  {
   "cell_type": "code",
   "execution_count": null,
   "id": "122ec4f9",
   "metadata": {},
   "outputs": [],
   "source": [
    "[ 100 ,  2,  3 ]"
   ]
  },
  {
   "cell_type": "code",
   "execution_count": null,
   "id": "f4f9d220",
   "metadata": {},
   "outputs": [],
   "source": []
  },
  {
   "cell_type": "code",
   "execution_count": 24,
   "id": "c2db61fb",
   "metadata": {},
   "outputs": [
    {
     "data": {
      "text/plain": [
       "[100, 2, 3, 400, 5, 6, 7, 8, 10, 14, 18, 500]"
      ]
     },
     "execution_count": 24,
     "metadata": {},
     "output_type": "execute_result"
    }
   ],
   "source": [
    "arr = [100,2,3,400,5,6,7,8,10,14,18]\n",
    "arr.append(500)\n",
    "arr"
   ]
  },
  {
   "cell_type": "code",
   "execution_count": null,
   "id": "c400072f",
   "metadata": {},
   "outputs": [],
   "source": [
    "[ 100 ,  2,  3 ]"
   ]
  }
 ],
 "metadata": {
  "kernelspec": {
   "display_name": "Python 3 (ipykernel)",
   "language": "python",
   "name": "python3"
  },
  "language_info": {
   "codemirror_mode": {
    "name": "ipython",
    "version": 3
   },
   "file_extension": ".py",
   "mimetype": "text/x-python",
   "name": "python",
   "nbconvert_exporter": "python",
   "pygments_lexer": "ipython3",
   "version": "3.10.0"
  }
 },
 "nbformat": 4,
 "nbformat_minor": 5
}
