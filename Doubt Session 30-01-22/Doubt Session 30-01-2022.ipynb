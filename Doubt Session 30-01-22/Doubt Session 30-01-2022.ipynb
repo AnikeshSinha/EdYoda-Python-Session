{
 "cells": [
  {
   "cell_type": "code",
   "execution_count": 5,
   "id": "127628bf",
   "metadata": {},
   "outputs": [
    {
     "name": "stdout",
     "output_type": "stream",
     "text": [
      "67\n",
      "<class 'str'>\n",
      "<class 'int'>\n"
     ]
    }
   ],
   "source": [
    "a = input()\n",
    "print(type(a))\n",
    "b = int(a)\n",
    "print(type(b))"
   ]
  },
  {
   "cell_type": "code",
   "execution_count": null,
   "id": "e156bd1a",
   "metadata": {},
   "outputs": [],
   "source": []
  },
  {
   "cell_type": "code",
   "execution_count": null,
   "id": "725622de",
   "metadata": {},
   "outputs": [],
   "source": []
  },
  {
   "cell_type": "markdown",
   "id": "764e6c1a",
   "metadata": {},
   "source": [
    "`Introduction to If-else`"
   ]
  },
  {
   "cell_type": "code",
   "execution_count": null,
   "id": "a75128d4",
   "metadata": {},
   "outputs": [],
   "source": []
  },
  {
   "cell_type": "code",
   "execution_count": null,
   "id": "933c4e49",
   "metadata": {},
   "outputs": [],
   "source": [
    "Simple If Statement\n",
    "If-else Statement\n",
    "if-elif-else Statement\n",
    "Nested contionals"
   ]
  },
  {
   "cell_type": "markdown",
   "id": "974ad339",
   "metadata": {},
   "source": [
    "Simple If Statement"
   ]
  },
  {
   "cell_type": "code",
   "execution_count": null,
   "id": "df90b594",
   "metadata": {},
   "outputs": [],
   "source": [
    "if <Boolean/Condition>:\n",
    "    <Code Block to be executed in case the Boolean or Condition is True>"
   ]
  },
  {
   "cell_type": "code",
   "execution_count": 8,
   "id": "9cc9729b",
   "metadata": {},
   "outputs": [
    {
     "name": "stdout",
     "output_type": "stream",
     "text": [
      "Did you Drink the Water:- Yes / No Yes\n",
      "My Tummy is Full\n",
      "If you want More\n"
     ]
    }
   ],
   "source": [
    "ask = input(\"Did you Drink the Water:- Yes / No \")\n",
    "if(ask == \"Yes\"):\n",
    "    print(\"My Tummy is Full\") \n",
    "    print(\"If you want More\")\n",
    "    "
   ]
  },
  {
   "cell_type": "code",
   "execution_count": null,
   "id": "7b7ad094",
   "metadata": {},
   "outputs": [],
   "source": [
    "If-else Statement"
   ]
  },
  {
   "cell_type": "code",
   "execution_count": null,
   "id": "fad5e57b",
   "metadata": {},
   "outputs": [],
   "source": [
    "if <Boolean/Condition>:\n",
    "    <Code Block to be executed in case the Boolean or Condition is True>\n",
    "else:\n",
    "    <code Block to be executed in case the Boolean is False>"
   ]
  },
  {
   "cell_type": "code",
   "execution_count": 9,
   "id": "5af61373",
   "metadata": {},
   "outputs": [
    {
     "name": "stdout",
     "output_type": "stream",
     "text": [
      "Did you Drink the Water:- Yes / No No\n",
      "then Go and Drink Some Water\n"
     ]
    }
   ],
   "source": [
    "ask = input(\"Did you Drink the Water:- Yes / No \")\n",
    "if(ask == \"Yes\"):\n",
    "    print(\"My Tummy is Full\") \n",
    "    print(\"If you want More\")\n",
    "else:\n",
    "    print(\"then Go and Drink Some Water\")"
   ]
  },
  {
   "cell_type": "code",
   "execution_count": 10,
   "id": "4226df8b",
   "metadata": {},
   "outputs": [
    {
     "name": "stdout",
     "output_type": "stream",
     "text": [
      "Inside If\n"
     ]
    }
   ],
   "source": [
    "ask = True\n",
    "if ask:\n",
    "    print(\"Inside If\") \n",
    "else:\n",
    "    print(\"Inside Else\")"
   ]
  },
  {
   "cell_type": "code",
   "execution_count": 11,
   "id": "5911110a",
   "metadata": {},
   "outputs": [
    {
     "name": "stdout",
     "output_type": "stream",
     "text": [
      "Inside Else\n"
     ]
    }
   ],
   "source": [
    "ask = False\n",
    "if ask:\n",
    "    print(\"Inside If\") \n",
    "else:\n",
    "    print(\"Inside Else\")"
   ]
  },
  {
   "cell_type": "code",
   "execution_count": null,
   "id": "4857cace",
   "metadata": {},
   "outputs": [],
   "source": [
    "Else-if Statement"
   ]
  },
  {
   "cell_type": "code",
   "execution_count": null,
   "id": "2292b6c9",
   "metadata": {},
   "outputs": [],
   "source": [
    "if (Condition/Boolean):\n",
    "    <code Block To Be executed in Case the if Condition is True>\n",
    "elif(Condition/Boolean):\n",
    "    <code Block To Be executed in Case the Elif Condition is True>\n",
    "elif(Condition/Boolean):\n",
    "    <code Block To Be executed in Case the Elif Condition is True>\n",
    "else:\n",
    "    <Code block to be executed in case the condition is False>\n"
   ]
  },
  {
   "cell_type": "code",
   "execution_count": 12,
   "id": "5e951822",
   "metadata": {},
   "outputs": [
    {
     "name": "stdout",
     "output_type": "stream",
     "text": [
      "B\n"
     ]
    }
   ],
   "source": [
    "x = 5\n",
    "if (10 < 0) and (0 < -10):\n",
    "    print(\"A\")\n",
    "elif (10 > 0) or False:\n",
    "    print(\"B\")\n",
    "else:\n",
    "    print(\"C\")\n"
   ]
  },
  {
   "cell_type": "code",
   "execution_count": 13,
   "id": "0638e03c",
   "metadata": {},
   "outputs": [
    {
     "name": "stdout",
     "output_type": "stream",
     "text": [
      "medium\n"
     ]
    }
   ],
   "source": [
    "n = 10\n",
    "#Check If the number is between 1 to 10\n",
    "if n>=1 and n<=10:\n",
    "    print(\"too low\")\n",
    "\n",
    "#Check If the number is between 11 to 20\n",
    "elif n>=10 and n<=20:\n",
    "    print(\"medium\")\n",
    "\n",
    "#Check If the number is between 21 to 30\n",
    "elif n>=20 and n<=30:\n",
    "    print(\"large\")\n",
    "#Check if the number is greater than 30 \n",
    "else:\n",
    "    print(\"too large\")\n",
    "    "
   ]
  },
  {
   "cell_type": "code",
   "execution_count": 15,
   "id": "c6d02020",
   "metadata": {},
   "outputs": [
    {
     "name": "stdout",
     "output_type": "stream",
     "text": [
      "Pratick Babbar Ser🦁\n"
     ]
    }
   ],
   "source": [
    "n = 10\n",
    "#Check If the number is between 1 to 10\n",
    "if n>=10 and n<=20:\n",
    "    print(\"Pratick Babbar Ser🦁\")\n",
    "\n",
    "#Check If the number is between 11 to 20\n",
    "elif n>=1 and n<=10:\n",
    "    print(\"medium\")\n",
    "\n",
    "#Check If the number is between 21 to 30\n",
    "elif n>=20 and n<=30:\n",
    "    print(\"large\")\n",
    "#Check if the number is greater than 30 \n",
    "else:\n",
    "    print(\"too large\")"
   ]
  },
  {
   "cell_type": "code",
   "execution_count": 16,
   "id": "e3450e54",
   "metadata": {},
   "outputs": [
    {
     "name": "stdout",
     "output_type": "stream",
     "text": [
      "Inside if\n"
     ]
    },
    {
     "data": {
      "text/plain": [
       "'\\nThis problem has only one correct answer\\n\\n    Inside If\\n    Inside else\\n    Inside If Inside else\\n'"
      ]
     },
     "execution_count": 16,
     "metadata": {},
     "output_type": "execute_result"
    }
   ],
   "source": [
    "\"\"\"\n",
    "This problem has only one correct answer\n",
    "\n",
    "    Inside If\n",
    "    Inside else\n",
    "    Inside If Inside else\n",
    "\"\"\"\n",
    "\n",
    "x = 15\n",
    "if x <= 15:\n",
    "    print(\"Inside if\")\n",
    "else:\n",
    "    print(\"Inside else\")\n",
    "\n"
   ]
  },
  {
   "cell_type": "code",
   "execution_count": 17,
   "id": "ae6582c7",
   "metadata": {},
   "outputs": [
    {
     "name": "stdout",
     "output_type": "stream",
     "text": [
      "Hello\n",
      "Hi\n"
     ]
    }
   ],
   "source": [
    "x = 5\n",
    "if x < 6:\n",
    "    print(\"Hello\")\n",
    "if x == 5:\n",
    "    print(\"Hi\")\n",
    "else:\n",
    "    print(\"Hey\")"
   ]
  },
  {
   "cell_type": "code",
   "execution_count": 18,
   "id": "b1c495ff",
   "metadata": {},
   "outputs": [
    {
     "name": "stdout",
     "output_type": "stream",
     "text": [
      "Hello\n",
      "Hi\n"
     ]
    }
   ],
   "source": [
    "x = 5\n",
    "if x < 6:\n",
    "    print(\"Hello\")\n",
    "if x == 5:\n",
    "    print(\"Hi\")\n",
    "elif x == 5:\n",
    "    print(\"Hi\")\n",
    "elif x == 5:\n",
    "    print(\"Hi\")\n",
    "else:\n",
    "    print(\"Hey\")"
   ]
  },
  {
   "cell_type": "code",
   "execution_count": 20,
   "id": "7971de94",
   "metadata": {},
   "outputs": [
    {
     "name": "stdout",
     "output_type": "stream",
     "text": [
      "B\n"
     ]
    }
   ],
   "source": [
    "\"\"\"\n",
    "This problem has only one correct answer\n",
    "    A\n",
    "    B\n",
    "    C\n",
    "    D\n",
    "    B & D\n",
    "\"\"\"\n",
    "if True or True:\n",
    "    if False and True or False:\n",
    "        print('A')\n",
    "    elif False and False or True and True:\n",
    "        print('B')\n",
    "    else:\n",
    "        print('C')\n",
    "    \n",
    "else:\n",
    "     print('D')\n"
   ]
  },
  {
   "cell_type": "code",
   "execution_count": null,
   "id": "f32856dd",
   "metadata": {},
   "outputs": [],
   "source": [
    "if True or True:\n",
    "    if False and True or False or True:\n",
    "        print('A')\n",
    "    elif False and False or True and True:\n",
    "        print('B')\n",
    "    else:\n",
    "        print('C')\n",
    "    \n",
    "else:\n",
    "     print('D')\n"
   ]
  },
  {
   "cell_type": "markdown",
   "id": "b58c96e0",
   "metadata": {},
   "source": [
    "`While Loops`"
   ]
  },
  {
   "cell_type": "code",
   "execution_count": 23,
   "id": "ea556f5a",
   "metadata": {},
   "outputs": [
    {
     "name": "stdout",
     "output_type": "stream",
     "text": [
      "Enter the Number: 10\n",
      "1  2  3  4  5  6  7  8  9  10  "
     ]
    }
   ],
   "source": [
    "n = int(input(\"Enter the Number: \"))\n",
    "itr = 1\n",
    "while itr <= n:\n",
    "    print(itr , end = \"  \")\n",
    "#     itr = itr + 1\n",
    "    itr += 1"
   ]
  },
  {
   "cell_type": "code",
   "execution_count": 25,
   "id": "aed505bb",
   "metadata": {
    "scrolled": false
   },
   "outputs": [
    {
     "name": "stdout",
     "output_type": "stream",
     "text": [
      "Enter the Number: 10\n",
      "55\n"
     ]
    }
   ],
   "source": [
    "n = int(input(\"Enter the Number: \"))\n",
    "itr = 1\n",
    "add = 0\n",
    "while itr <= n:\n",
    "#     add += itr\n",
    "    add = add + itr\n",
    "    itr += 1\n",
    "\n",
    "print(add)"
   ]
  },
  {
   "cell_type": "code",
   "execution_count": 26,
   "id": "9ea9b7e3",
   "metadata": {},
   "outputs": [
    {
     "ename": "IndentationError",
     "evalue": "expected an indented block after 'while' statement on line 2 (Temp/ipykernel_13392/2813361112.py, line 3)",
     "output_type": "error",
     "traceback": [
      "\u001b[1;36m  File \u001b[1;32m\"C:\\Users\\Anikesh\\AppData\\Local\\Temp/ipykernel_13392/2813361112.py\"\u001b[1;36m, line \u001b[1;32m3\u001b[0m\n\u001b[1;33m    print(i)\u001b[0m\n\u001b[1;37m    ^\u001b[0m\n\u001b[1;31mIndentationError\u001b[0m\u001b[1;31m:\u001b[0m expected an indented block after 'while' statement on line 2\n"
     ]
    }
   ],
   "source": [
    "i=0\n",
    "while i<10:\n",
    "print(i)\n",
    "i=i+1"
   ]
  },
  {
   "cell_type": "raw",
   "id": "c398670e",
   "metadata": {},
   "source": [
    "i=0\n",
    "while i<10:\n",
    "    print(i)\n",
    "i = i+1"
   ]
  },
  {
   "cell_type": "code",
   "execution_count": 28,
   "id": "89cb3484",
   "metadata": {},
   "outputs": [
    {
     "name": "stdout",
     "output_type": "stream",
     "text": [
      "0\n",
      "1\n",
      "2\n",
      "3\n",
      "4\n",
      "5\n",
      "6\n",
      "7\n",
      "8\n",
      "9\n"
     ]
    }
   ],
   "source": [
    "i=0\n",
    "while i<10:\n",
    "    print(i)\n",
    "    i= i+1"
   ]
  },
  {
   "cell_type": "code",
   "execution_count": null,
   "id": "029aed38",
   "metadata": {},
   "outputs": [],
   "source": []
  },
  {
   "cell_type": "code",
   "execution_count": null,
   "id": "571992b8",
   "metadata": {},
   "outputs": [],
   "source": []
  },
  {
   "cell_type": "code",
   "execution_count": null,
   "id": "61b09e67",
   "metadata": {},
   "outputs": [],
   "source": [
    "Nested While Loop."
   ]
  },
  {
   "cell_type": "code",
   "execution_count": null,
   "id": "9f868230",
   "metadata": {},
   "outputs": [],
   "source": [
    "while (Expression1):\n",
    "    <Execute this code block till the Expression1 is True >\n",
    "    while (Expression2):\n",
    "        <Execute this code block till the Expression2 is True >\n",
    "        #Increment/Decrement in looping variable (inner While loop Increment/Decrement)\n",
    "    #Increment/Decrement in looping variable (Outer While loop Increment/Decrement)"
   ]
  },
  {
   "cell_type": "raw",
   "id": "115555fe",
   "metadata": {},
   "source": [
    "n = 4\n",
    "\n",
    "****\n",
    "****\n",
    "****\n",
    "****"
   ]
  },
  {
   "cell_type": "code",
   "execution_count": 35,
   "id": "4b04d015",
   "metadata": {
    "scrolled": true
   },
   "outputs": [
    {
     "name": "stdout",
     "output_type": "stream",
     "text": [
      "5\n",
      "* * * * * \n",
      "* * * * * \n",
      "* * * * * \n",
      "* * * * * \n",
      "* * * * * \n"
     ]
    }
   ],
   "source": [
    "n = int(input())\n",
    "row = 1\n",
    "while row <= n:\n",
    "    col = 1\n",
    "    while col <= n:\n",
    "        print(\"*\",end=\" \")\n",
    "        col += 1\n",
    "    print()\n",
    "    row += 1"
   ]
  },
  {
   "cell_type": "code",
   "execution_count": null,
   "id": "556a7339",
   "metadata": {},
   "outputs": [],
   "source": [
    "n = 4\n",
    "1 1 1 1\n",
    "1 1 1 1\n",
    "1 1 1 1\n",
    "1 1 1 1"
   ]
  },
  {
   "cell_type": "code",
   "execution_count": 38,
   "id": "adfee984",
   "metadata": {},
   "outputs": [
    {
     "name": "stdout",
     "output_type": "stream",
     "text": [
      "4\n",
      "1 1 1 1 \n",
      "1 1 1 1 \n",
      "1 1 1 1 \n",
      "1 1 1 1 \n"
     ]
    }
   ],
   "source": [
    "n = int(input())\n",
    "row = 1\n",
    "while row <= n:\n",
    "    col = 1\n",
    "    while col <= n:\n",
    "        print(\"1\",end=\" \")\n",
    "        col += 1\n",
    "    print()\n",
    "    row += 1"
   ]
  },
  {
   "cell_type": "code",
   "execution_count": null,
   "id": "eb0d1353",
   "metadata": {},
   "outputs": [],
   "source": [
    "n = 4\n",
    "1 2 3 4\n",
    "1 2 3 4\n",
    "1 2 3 4\n",
    "1 2 3 4"
   ]
  },
  {
   "cell_type": "code",
   "execution_count": 40,
   "id": "4a61b979",
   "metadata": {},
   "outputs": [
    {
     "name": "stdout",
     "output_type": "stream",
     "text": [
      "4\n",
      "1 2 3 4 \n",
      "1 2 3 4 \n",
      "1 2 3 4 \n",
      "1 2 3 4 \n"
     ]
    }
   ],
   "source": [
    "n = int(input())\n",
    "row = 1\n",
    "while row <= n:\n",
    "    col = 1\n",
    "    while col <= n:\n",
    "        print(col,end=\" \")\n",
    "#         print(f\"Col loop value :-  {col}\",end = \" \")\n",
    "        col += 1\n",
    "    print()\n",
    "    row += 1"
   ]
  },
  {
   "cell_type": "code",
   "execution_count": null,
   "id": "58d321f7",
   "metadata": {},
   "outputs": [],
   "source": [
    "n = 4\n",
    "1 1 1 1\n",
    "2 2 2 2\n",
    "3 3 3 3\n",
    "4 4 4 4"
   ]
  },
  {
   "cell_type": "code",
   "execution_count": 41,
   "id": "dd2c8fda",
   "metadata": {},
   "outputs": [
    {
     "name": "stdout",
     "output_type": "stream",
     "text": [
      "4\n",
      "1 1 1 1 \n",
      "2 2 2 2 \n",
      "3 3 3 3 \n",
      "4 4 4 4 \n"
     ]
    }
   ],
   "source": [
    "n = int(input())\n",
    "row = 1\n",
    "while row <= n:\n",
    "    col = 1\n",
    "    while col <= n:\n",
    "        print(row,end=\" \")\n",
    "        col += 1\n",
    "    print()\n",
    "    row += 1"
   ]
  },
  {
   "cell_type": "code",
   "execution_count": 42,
   "id": "28b18f56",
   "metadata": {},
   "outputs": [
    {
     "name": "stdout",
     "output_type": "stream",
     "text": [
      "4\n",
      "Sadeep Sadeep Sadeep Sadeep \n",
      "Sadeep Sadeep Sadeep Sadeep \n",
      "Sadeep Sadeep Sadeep Sadeep \n",
      "Sadeep Sadeep Sadeep Sadeep \n"
     ]
    }
   ],
   "source": [
    "n = int(input())\n",
    "row = 1\n",
    "while row <= n:\n",
    "    col = 1\n",
    "    while col <= n:\n",
    "        print(\"Sadeep\",end=\" \")\n",
    "        col += 1\n",
    "    print()\n",
    "    row += 1"
   ]
  },
  {
   "cell_type": "code",
   "execution_count": null,
   "id": "ceef1f7f",
   "metadata": {},
   "outputs": [],
   "source": [
    "1111\n",
    "1221\n",
    "1221\n",
    "1111"
   ]
  },
  {
   "cell_type": "code",
   "execution_count": null,
   "id": "84d6dc3b",
   "metadata": {},
   "outputs": [],
   "source": [
    "Break Statement"
   ]
  },
  {
   "cell_type": "code",
   "execution_count": 43,
   "id": "192de2fc",
   "metadata": {},
   "outputs": [
    {
     "name": "stdout",
     "output_type": "stream",
     "text": [
      "10\n",
      "Row :- 1\n",
      "Row :- 2\n",
      "Row :- 3\n",
      "Row :- 4\n"
     ]
    }
   ],
   "source": [
    "n = int(input())\n",
    "row = 1\n",
    "while row <= n:\n",
    "    if(row == 5):\n",
    "        break\n",
    "    else:\n",
    "        print(f\"Row :- {row}\")\n",
    "    row += 1"
   ]
  },
  {
   "cell_type": "code",
   "execution_count": 46,
   "id": "d5fd1c5f",
   "metadata": {},
   "outputs": [
    {
     "name": "stdout",
     "output_type": "stream",
     "text": [
      "10\n",
      "Row :- 1\n",
      "Row :- 2\n",
      "Row :- 3\n",
      "Row :- 4\n",
      "Row :- 6\n",
      "Row :- 7\n",
      "Row :- 8\n",
      "Row :- 9\n",
      "Row :- 10\n"
     ]
    }
   ],
   "source": [
    "n = int(input())\n",
    "row = 0\n",
    "while row < n:\n",
    "    row += 1\n",
    "    if(row == 5):\n",
    "        continue\n",
    "    else:\n",
    "        print(f\"Row :- {row}\")\n",
    "    "
   ]
  },
  {
   "cell_type": "code",
   "execution_count": 48,
   "id": "9c04f9c3",
   "metadata": {},
   "outputs": [
    {
     "name": "stdout",
     "output_type": "stream",
     "text": [
      "15\n",
      "Row :- 1\n",
      "Row :- 2\n",
      "Row :- 3\n",
      "Row :- 4\n",
      "Row :- 6\n",
      "Row :- 7\n",
      "Row :- 8\n",
      "Row :- 9\n",
      "Row :- 10\n",
      "Row :- 12\n",
      "Row :- 13\n",
      "Row :- 14\n",
      "Row :- 15\n",
      "Row :- 16\n"
     ]
    }
   ],
   "source": [
    "n = int(input())\n",
    "row = 0\n",
    "while row <= n:\n",
    "    row += 1\n",
    "    if(row == 5 or row == 11):\n",
    "        continue\n",
    "    else:\n",
    "        print(f\"Row :- {row}\")"
   ]
  },
  {
   "cell_type": "code",
   "execution_count": 49,
   "id": "0821f56c",
   "metadata": {},
   "outputs": [
    {
     "name": "stdout",
     "output_type": "stream",
     "text": [
      "20\n",
      "Row :- 1\n",
      "Row :- 2\n",
      "Row :- 3\n",
      "Row :- 4\n",
      "Row :- 6\n",
      "Row :- 7\n",
      "Row :- 8\n",
      "Row :- 9\n",
      "Row :- 10\n",
      "Row :- 12\n",
      "Row :- 13\n",
      "Row :- 14\n",
      "Row :- 16\n",
      "Row :- 17\n",
      "Row :- 18\n",
      "Row :- 19\n",
      "Row :- 20\n",
      "Row :- 21\n"
     ]
    }
   ],
   "source": [
    "n = int(input())\n",
    "row = 0\n",
    "while row <= n:\n",
    "    row += 1\n",
    "    if(row == 5 or row == 11 or row == 15):\n",
    "        continue\n",
    "    else:\n",
    "        print(f\"Row :- {row}\")"
   ]
  },
  {
   "cell_type": "code",
   "execution_count": 59,
   "id": "0e380c1f",
   "metadata": {},
   "outputs": [
    {
     "name": "stdout",
     "output_type": "stream",
     "text": [
      "52\n"
     ]
    }
   ],
   "source": [
    "n = int(input())\n",
    "row = 0\n",
    "if(row == 5):\n",
    "    pass\n",
    "    \n",
    "    "
   ]
  },
  {
   "cell_type": "code",
   "execution_count": null,
   "id": "efc757dd",
   "metadata": {},
   "outputs": [],
   "source": [
    "1 1 2 3 5 8 13 21 34 or 0 1 1 2 3 5 8 13 21 34"
   ]
  },
  {
   "cell_type": "code",
   "execution_count": null,
   "id": "f959b462",
   "metadata": {},
   "outputs": [],
   "source": [
    "Input : Edyoda"
   ]
  },
  {
   "cell_type": "code",
   "execution_count": null,
   "id": "5bf22568",
   "metadata": {},
   "outputs": [],
   "source": [
    "output: adoydE"
   ]
  },
  {
   "cell_type": "code",
   "execution_count": null,
   "id": "8d6f9191",
   "metadata": {},
   "outputs": [],
   "source": [
    "a = input(\"Input : \")\n",
    "\n",
    "for char in range( (len(a)-1) , -1 , -1 ):\n",
    "    print( (a[char]), end=\"\" )"
   ]
  },
  {
   "cell_type": "code",
   "execution_count": null,
   "id": "b0aea50d",
   "metadata": {},
   "outputs": [],
   "source": []
  },
  {
   "cell_type": "code",
   "execution_count": null,
   "id": "bdf5cbed",
   "metadata": {},
   "outputs": [],
   "source": []
  },
  {
   "cell_type": "code",
   "execution_count": null,
   "id": "fc79f6d2",
   "metadata": {},
   "outputs": [],
   "source": []
  },
  {
   "cell_type": "code",
   "execution_count": null,
   "id": "4c0fb931",
   "metadata": {},
   "outputs": [],
   "source": []
  }
 ],
 "metadata": {
  "kernelspec": {
   "display_name": "Python 3 (ipykernel)",
   "language": "python",
   "name": "python3"
  },
  "language_info": {
   "codemirror_mode": {
    "name": "ipython",
    "version": 3
   },
   "file_extension": ".py",
   "mimetype": "text/x-python",
   "name": "python",
   "nbconvert_exporter": "python",
   "pygments_lexer": "ipython3",
   "version": "3.10.1"
  }
 },
 "nbformat": 4,
 "nbformat_minor": 5
}
