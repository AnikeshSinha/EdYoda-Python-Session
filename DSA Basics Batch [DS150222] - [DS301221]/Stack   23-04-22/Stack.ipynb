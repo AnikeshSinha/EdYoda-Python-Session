{
 "cells": [
  {
   "cell_type": "markdown",
   "id": "57a517bb",
   "metadata": {},
   "source": [
    "# `Stack Using Array`"
   ]
  },
  {
   "cell_type": "code",
   "execution_count": 1,
   "id": "d821e3c1",
   "metadata": {},
   "outputs": [],
   "source": [
    "class Stack:\n",
    "    \n",
    "    def __init__(self):\n",
    "        self.__data = []\n",
    "        \n",
    "    def push(self , item):\n",
    "        self.__data.append(item)\n",
    "    \n",
    "    def pop(self):\n",
    "        if self.isEmpty():\n",
    "            print(\"Hey ! Your Stack is Empty Boss!!😎😎\")\n",
    "            return\n",
    "        return self.__data.pop()\n",
    "    \n",
    "    def top(self):\n",
    "        if self.isEmpty():\n",
    "            print(\"Hey ! Your Stack is Empty Boss!!😎😎\")\n",
    "            return\n",
    "#         return self.__data[len(self.__data) - 1]\n",
    "        return self.__data[-1]\n",
    "    \n",
    "    def size(self):\n",
    "        return len(self.__data)\n",
    "    \n",
    "    def isEmpty(self):\n",
    "        return self.size() == 0\n",
    "    \n",
    "    def display_stack_element(self):\n",
    "        return self.__data"
   ]
  },
  {
   "cell_type": "code",
   "execution_count": 2,
   "id": "8f3bdbd1",
   "metadata": {},
   "outputs": [
    {
     "name": "stdout",
     "output_type": "stream",
     "text": [
      "15\n",
      "13\n",
      "12\n",
      "Hey ! Your Stack is Empty Boss!!😎😎\n"
     ]
    }
   ],
   "source": [
    "s = Stack()\n",
    "s.push(12)\n",
    "s.push(13)\n",
    "s.push(15)\n",
    "while s.isEmpty() is False:\n",
    "    print(s.pop())\n",
    "s.top()"
   ]
  },
  {
   "cell_type": "code",
   "execution_count": 3,
   "id": "9454d536",
   "metadata": {
    "scrolled": true
   },
   "outputs": [
    {
     "data": {
      "text/plain": [
       "15"
      ]
     },
     "execution_count": 3,
     "metadata": {},
     "output_type": "execute_result"
    }
   ],
   "source": [
    "s = Stack()\n",
    "s.push(12)\n",
    "s.push(13)\n",
    "s.push(15)\n",
    "# while s.isEmpty() is False:\n",
    "#     print(s.pop())\n",
    "s.top()"
   ]
  },
  {
   "cell_type": "markdown",
   "id": "72c0d285",
   "metadata": {},
   "source": [
    "# `Stack Using LL Code`"
   ]
  },
  {
   "cell_type": "code",
   "execution_count": 5,
   "id": "8f428a91",
   "metadata": {},
   "outputs": [],
   "source": [
    "class Node:\n",
    "    def __init__(self , initData):\n",
    "        self.data = initData\n",
    "        self.next = None\n",
    "    \n",
    "class Stack:\n",
    "    def __init__(self):\n",
    "        self.__head = None\n",
    "        self.__count = 0\n",
    "        \n",
    "    def push(self, element):\n",
    "        newNode = Node(element)\n",
    "        newNode.next = self.__head\n",
    "        self.__head = newNode\n",
    "        self.__count += 1\n",
    "        \n",
    "    def pop(self):\n",
    "        if self.isEmpty() is True:\n",
    "            print(\"Hey! Stack is Empty!\")\n",
    "            return\n",
    "        \n",
    "        data = self.__head.data\n",
    "        self.__head = self.__head.next\n",
    "        self.__count = self.__count - 1\n",
    "        return data\n",
    "    \n",
    "    def peek(self):\n",
    "        if self.isEmpty() is True:\n",
    "            print(\"Hey! Stack is Empty!\")\n",
    "            return\n",
    "        \n",
    "        data = self.__head.data\n",
    "        return data\n",
    "    \n",
    "    def size(self):\n",
    "        return self.__count\n",
    "    \n",
    "    def isEmpty(self):\n",
    "        return self.size() == 0\n",
    "    \n",
    "    def display(): # HW. you have to implement this method by yourself\n",
    "        pass #"
   ]
  },
  {
   "cell_type": "code",
   "execution_count": 7,
   "id": "2195f58e",
   "metadata": {},
   "outputs": [
    {
     "data": {
      "text/plain": [
       "15"
      ]
     },
     "execution_count": 7,
     "metadata": {},
     "output_type": "execute_result"
    }
   ],
   "source": [
    "s = Stack()\n",
    "s.push(12)\n",
    "s.push(13)\n",
    "s.push(15)\n",
    "# while s.isEmpty() is False:\n",
    "#     print(s.pop())\n",
    "s.peek()"
   ]
  },
  {
   "cell_type": "code",
   "execution_count": 8,
   "id": "115cc50d",
   "metadata": {},
   "outputs": [
    {
     "name": "stdout",
     "output_type": "stream",
     "text": [
      "15\n",
      "13\n",
      "12\n",
      "Hey! Stack is Empty!\n"
     ]
    }
   ],
   "source": [
    "s = Stack()\n",
    "s.push(12)\n",
    "s.push(13)\n",
    "s.push(15)\n",
    "while s.isEmpty() is False:\n",
    "    print(s.pop())\n",
    "s.peek()"
   ]
  },
  {
   "cell_type": "markdown",
   "id": "883e899c",
   "metadata": {},
   "source": [
    "# `Balanceed Parancthesis (Bracket)` "
   ]
  },
  {
   "cell_type": "code",
   "execution_count": 16,
   "id": "d3720bfe",
   "metadata": {},
   "outputs": [],
   "source": [
    "def isBalanced(string):\n",
    "    stack = []\n",
    "    for char in string:\n",
    "        if char in '({[':\n",
    "            stack.append(char)\n",
    "        \n",
    "        elif char == ')':\n",
    "            if(not stack or stack[-1] != '('):\n",
    "                return False\n",
    "            stack.pop()\n",
    "            \n",
    "        elif char == '}':\n",
    "            if(not stack or stack[-1] != '{'):\n",
    "                return False\n",
    "            stack.pop()\n",
    "            \n",
    "        elif char == ']':\n",
    "            if(not stack or stack[-1] != '['):\n",
    "                return False\n",
    "            stack.pop()\n",
    "            \n",
    "    if (not stack):\n",
    "        return True\n",
    "    return False"
   ]
  },
  {
   "cell_type": "code",
   "execution_count": 17,
   "id": "5da65d66",
   "metadata": {},
   "outputs": [
    {
     "name": "stdout",
     "output_type": "stream",
     "text": [
      "{(a+b)+{c+d}+[e+f]}\n",
      "True\n"
     ]
    }
   ],
   "source": [
    "string = input()\n",
    "ans = isBalanced(string)\n",
    "print(ans)"
   ]
  },
  {
   "cell_type": "code",
   "execution_count": 18,
   "id": "d43a5717",
   "metadata": {},
   "outputs": [
    {
     "name": "stdout",
     "output_type": "stream",
     "text": [
      "{()[\n",
      "False\n"
     ]
    }
   ],
   "source": [
    "string = input()\n",
    "ans = isBalanced(string)\n",
    "print(ans)"
   ]
  },
  {
   "cell_type": "code",
   "execution_count": 19,
   "id": "f3f976ec",
   "metadata": {},
   "outputs": [
    {
     "name": "stdout",
     "output_type": "stream",
     "text": [
      "}[]() \n",
      "False\n"
     ]
    }
   ],
   "source": [
    "string = input()\n",
    "ans = isBalanced(string)\n",
    "print(ans)"
   ]
  },
  {
   "cell_type": "code",
   "execution_count": null,
   "id": "33ff9c83",
   "metadata": {},
   "outputs": [],
   "source": []
  },
  {
   "cell_type": "code",
   "execution_count": null,
   "id": "468e3663",
   "metadata": {},
   "outputs": [],
   "source": []
  },
  {
   "cell_type": "code",
   "execution_count": 9,
   "id": "7c65b865",
   "metadata": {},
   "outputs": [],
   "source": [
    "s = [1,2]"
   ]
  },
  {
   "cell_type": "code",
   "execution_count": 10,
   "id": "b80b02b3",
   "metadata": {},
   "outputs": [
    {
     "name": "stdout",
     "output_type": "stream",
     "text": [
      "False\n"
     ]
    }
   ],
   "source": [
    "print(not s)"
   ]
  },
  {
   "cell_type": "code",
   "execution_count": 11,
   "id": "148ca265",
   "metadata": {},
   "outputs": [],
   "source": [
    "s = []"
   ]
  },
  {
   "cell_type": "code",
   "execution_count": 12,
   "id": "88b61bf5",
   "metadata": {},
   "outputs": [
    {
     "name": "stdout",
     "output_type": "stream",
     "text": [
      "True\n"
     ]
    }
   ],
   "source": [
    "print(not s)"
   ]
  },
  {
   "cell_type": "code",
   "execution_count": 13,
   "id": "e2914785",
   "metadata": {},
   "outputs": [
    {
     "data": {
      "text/plain": [
       "False"
      ]
     },
     "execution_count": 13,
     "metadata": {},
     "output_type": "execute_result"
    }
   ],
   "source": [
    "'(' != '('"
   ]
  },
  {
   "cell_type": "code",
   "execution_count": null,
   "id": "3074dc0e",
   "metadata": {},
   "outputs": [],
   "source": []
  },
  {
   "cell_type": "code",
   "execution_count": null,
   "id": "84428603",
   "metadata": {},
   "outputs": [],
   "source": []
  }
 ],
 "metadata": {
  "kernelspec": {
   "display_name": "Python 3 (ipykernel)",
   "language": "python",
   "name": "python3"
  },
  "language_info": {
   "codemirror_mode": {
    "name": "ipython",
    "version": 3
   },
   "file_extension": ".py",
   "mimetype": "text/x-python",
   "name": "python",
   "nbconvert_exporter": "python",
   "pygments_lexer": "ipython3",
   "version": "3.9.12"
  }
 },
 "nbformat": 4,
 "nbformat_minor": 5
}
