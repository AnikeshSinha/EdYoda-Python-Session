{
 "cells": [
  {
   "cell_type": "markdown",
   "id": "79fc5f34",
   "metadata": {},
   "source": [
    "# `LinkedList`"
   ]
  },
  {
   "cell_type": "code",
   "execution_count": null,
   "id": "28712107",
   "metadata": {},
   "outputs": [],
   "source": []
  },
  {
   "cell_type": "code",
   "execution_count": 5,
   "id": "403b4a6e",
   "metadata": {
    "scrolled": true
   },
   "outputs": [
    {
     "name": "stdout",
     "output_type": "stream",
     "text": [
      "13\n",
      "15\n",
      "15\n",
      "20\n",
      "20\n",
      "20\n"
     ]
    }
   ],
   "source": [
    "class Node:\n",
    "    def __init__(self, data): # whenever we you create a Node you have to provide data with that. (that means if you want\n",
    "                              # to initilize the data with the node then you have to provide data with that)\n",
    "        self.data = data\n",
    "        self.next = None      # by default it is pointing to None.\n",
    "        \n",
    "    \n",
    "a = Node(13)\n",
    "b = Node(15)\n",
    "c = Node(20)\n",
    "a.next  = b\n",
    "b.next = c\n",
    "print(a.data)\n",
    "print(b.data)\n",
    "print(a.next.data)\n",
    "print(c.data)\n",
    "print(b.next.data)\n",
    "print(a.next.next.data)\n",
    "# -----------------------------\n",
    "# print()\n",
    "# print(a)\n",
    "# print(a.next)\n",
    "# print(b)\n",
    "# # -----------------------------\n",
    "# print()\n",
    "# print(b.next)\n",
    "# print(b.next.data)"
   ]
  },
  {
   "cell_type": "code",
   "execution_count": null,
   "id": "9f50723d",
   "metadata": {},
   "outputs": [],
   "source": []
  },
  {
   "cell_type": "code",
   "execution_count": null,
   "id": "bb5d1ab6",
   "metadata": {},
   "outputs": [],
   "source": []
  },
  {
   "cell_type": "markdown",
   "id": "55c44f4c",
   "metadata": {},
   "source": [
    "# `Insertion`"
   ]
  },
  {
   "cell_type": "markdown",
   "id": "fc75a790",
   "metadata": {},
   "source": [
    "# `Append `"
   ]
  },
  {
   "cell_type": "code",
   "execution_count": null,
   "id": "234dfedb",
   "metadata": {},
   "outputs": [],
   "source": [
    "The append method will insert an element at the end of the linked list.\n",
    "\n",
    "Now let’s move on to writing some code."
   ]
  },
  {
   "cell_type": "code",
   "execution_count": null,
   "id": "41b0e0ed",
   "metadata": {},
   "outputs": [],
   "source": [
    "class Node:\n",
    "    def __init__(self, data):\n",
    "        self.data = data\n",
    "        self.next = None\n",
    "        \n",
    "class LinkedList:\n",
    "    \n",
    "    def __init__(self):\n",
    "        self.head = None\n",
    "        \n",
    "    def append(self , data):\n",
    "        new_node = Node(data)"
   ]
  },
  {
   "cell_type": "code",
   "execution_count": null,
   "id": "2ac836d4",
   "metadata": {},
   "outputs": [],
   "source": []
  },
  {
   "cell_type": "markdown",
   "id": "5200c019",
   "metadata": {},
   "source": [
    "# `Insertion`"
   ]
  },
  {
   "cell_type": "markdown",
   "id": "a80bb996",
   "metadata": {},
   "source": [
    "### `Empty Linked List Case`"
   ]
  },
  {
   "cell_type": "code",
   "execution_count": 26,
   "id": "99ebc057",
   "metadata": {},
   "outputs": [],
   "source": [
    "class Node:\n",
    "    def __init__(self, data):\n",
    "        self.data = data\n",
    "        self.next = None\n",
    "        \n",
    "class LinkedList:\n",
    "    def __init__(self):\n",
    "        self.head = None\n",
    "        \n",
    "    def append(self , data):\n",
    "        new_node = Node(data)\n",
    "        if self.head is None:\n",
    "            self.head = new_node\n",
    "            return"
   ]
  },
  {
   "cell_type": "code",
   "execution_count": 27,
   "id": "ad1bc25f",
   "metadata": {
    "scrolled": true
   },
   "outputs": [
    {
     "name": "stdout",
     "output_type": "stream",
     "text": [
      "<__main__.LinkedList object at 0x000001BD69E7D7F0>\n"
     ]
    }
   ],
   "source": [
    "llist = LinkedList()\n",
    "llist.append('A')\n",
    "print(llist)"
   ]
  },
  {
   "cell_type": "code",
   "execution_count": null,
   "id": "b2ee4d2d",
   "metadata": {},
   "outputs": [],
   "source": [
    "In the above code, we check if the linked list is empty by checking the head of the linked list.\n",
    "If the self.head is None on line 12, it implies that it’s an empty linked list and there’s nothing there.\n",
    "The head pointer doesn’t point to anything at all, and therefore there is no node in the linked list.\n",
    "If there is no node in the linked list, we set the head pointer to the new_node that we created on line 13. \n",
    "In the next line, we simply return. The case of an empty linked list is relatively easy to handle."
   ]
  },
  {
   "cell_type": "code",
   "execution_count": null,
   "id": "54e19ad7",
   "metadata": {},
   "outputs": [],
   "source": []
  },
  {
   "cell_type": "markdown",
   "id": "0a155e9f",
   "metadata": {},
   "source": [
    "## `Non-empty Linked List Case `"
   ]
  },
  {
   "cell_type": "code",
   "execution_count": null,
   "id": "97786e66",
   "metadata": {},
   "outputs": [],
   "source": [
    "Let’s see what we can do if the linked list is not empty. \n",
    "We have new_node that we create, and we want to append it to the linked list.\n",
    "We can start from the head pointer and then move through each of the nodes in the linked list until we get to the end, \n",
    "i.e. None. \n",
    "Once we arrive at the location that we want to insert the new_node at, we insert as shown below:"
   ]
  },
  {
   "cell_type": "code",
   "execution_count": 28,
   "id": "bcb6c579",
   "metadata": {},
   "outputs": [],
   "source": [
    "class Node:\n",
    "    def __init__(self, data):\n",
    "        self.data = data\n",
    "        self.next = None\n",
    "        \n",
    "class LinkedList:\n",
    "    \n",
    "    def __init__(self):\n",
    "        self.head = None\n",
    "        \n",
    "    def append(self , data):\n",
    "        new_node = Node(data)\n",
    "        if self.head is None:\n",
    "            self.head = new_node\n",
    "            return\n",
    "        \n",
    "        curr_node = self.head\n",
    "        while curr_node.next is not None:\n",
    "            curr_node = curr_node.next\n",
    "        \n",
    "        curr_node.next = new_node\n",
    "        "
   ]
  },
  {
   "cell_type": "code",
   "execution_count": 29,
   "id": "e0bf6ba0",
   "metadata": {
    "scrolled": false
   },
   "outputs": [
    {
     "name": "stdout",
     "output_type": "stream",
     "text": [
      "<__main__.LinkedList object at 0x000001BD693BA7C0>\n"
     ]
    }
   ],
   "source": [
    "llist = LinkedList()\n",
    "llist.append('A')\n",
    "llist.append('B')\n",
    "print(llist)"
   ]
  },
  {
   "cell_type": "code",
   "execution_count": null,
   "id": "83a23991",
   "metadata": {},
   "outputs": [],
   "source": []
  },
  {
   "cell_type": "markdown",
   "id": "39b6bca1",
   "metadata": {},
   "source": [
    "# `Print Linked List  print_list()`"
   ]
  },
  {
   "cell_type": "code",
   "execution_count": 15,
   "id": "3fd49add",
   "metadata": {},
   "outputs": [],
   "source": [
    "class Node:\n",
    "    def __init__(self, data):\n",
    "        self.data = data\n",
    "        self.next = None\n",
    "        \n",
    "class LinkedList:\n",
    "    \n",
    "    def __init__(self):\n",
    "        self.head = None\n",
    "        \n",
    "    def print_llist(self):\n",
    "        cur_node = self.head\n",
    "        while cur_node is not None:\n",
    "#             print(cur_node.data , end = \"->\")\n",
    "            print(f\"{cur_node.data}->\", end = \"\")\n",
    "            cur_node = cur_node.next\n",
    "        print(None)\n",
    "        \n",
    "    def append(self , data):\n",
    "        new_node = Node(data)\n",
    "        if self.head is None:\n",
    "            self.head = new_node\n",
    "            return\n",
    "        \n",
    "        curr_node = self.head\n",
    "        while curr_node.next is not None:\n",
    "            curr_node = curr_node.next\n",
    "        curr_node.next = new_node"
   ]
  },
  {
   "cell_type": "code",
   "execution_count": 16,
   "id": "b61ed113",
   "metadata": {},
   "outputs": [
    {
     "name": "stdout",
     "output_type": "stream",
     "text": [
      "A->B->C->D->None\n"
     ]
    }
   ],
   "source": [
    "llist = LinkedList()\n",
    "llist.append('A')\n",
    "llist.append('B')\n",
    "llist.append('C')\n",
    "llist.append('D')\n",
    "\n",
    "llist.print_llist()"
   ]
  },
  {
   "cell_type": "code",
   "execution_count": null,
   "id": "eaa9a554",
   "metadata": {},
   "outputs": [],
   "source": []
  },
  {
   "cell_type": "markdown",
   "id": "5365a603",
   "metadata": {},
   "source": [
    "### `Optimise way of appending or inserting`"
   ]
  },
  {
   "cell_type": "code",
   "execution_count": 17,
   "id": "77d319e5",
   "metadata": {},
   "outputs": [],
   "source": [
    "class Node:\n",
    "    def __init__(self, data):\n",
    "        self.data = data\n",
    "        self.next = None\n",
    "        \n",
    "class LinkedList:\n",
    "    \n",
    "    def __init__(self):\n",
    "        self.head = None\n",
    "        self.tail = None\n",
    "        \n",
    "    def print_llist(self):\n",
    "        cur_node = self.head\n",
    "        while cur_node is not None:\n",
    "#             print(cur_node.data , end = \"->\")\n",
    "            print(f\"{cur_node.data}->\", end = \"\")\n",
    "            cur_node = cur_node.next\n",
    "        print(None)\n",
    "        \n",
    "    def append(self , data):\n",
    "        new_node = Node(data)\n",
    "        if self.head is None:\n",
    "            self.head = new_node\n",
    "            self.tail = new_node\n",
    "            return\n",
    "        else:\n",
    "            self.tail.next = new_node\n",
    "            self.tail = new_node"
   ]
  },
  {
   "cell_type": "code",
   "execution_count": 18,
   "id": "f104db58",
   "metadata": {
    "scrolled": true
   },
   "outputs": [
    {
     "name": "stdout",
     "output_type": "stream",
     "text": [
      "A->B->C->D->None\n"
     ]
    }
   ],
   "source": [
    "llist = LinkedList()\n",
    "llist.append('A')\n",
    "llist.append('B')\n",
    "llist.append('C')\n",
    "llist.append('D')\n",
    "\n",
    "llist.print_llist()"
   ]
  },
  {
   "cell_type": "code",
   "execution_count": null,
   "id": "50e28dcd",
   "metadata": {},
   "outputs": [],
   "source": []
  },
  {
   "cell_type": "markdown",
   "id": "06416407",
   "metadata": {},
   "source": [
    "#### `Taking  space seperated Input`"
   ]
  },
  {
   "cell_type": "code",
   "execution_count": 19,
   "id": "a56059ef",
   "metadata": {
    "scrolled": true
   },
   "outputs": [
    {
     "name": "stdout",
     "output_type": "stream",
     "text": [
      "number of Elements:- 5\n",
      "A B C     D     E\n",
      "A->B->C->D->E->None\n"
     ]
    }
   ],
   "source": [
    "llist = LinkedList()\n",
    "\n",
    "n = int(input(\"number of Elements:- \"))\n",
    "data = [ele for ele in input().strip().split()] # method 1\n",
    "\n",
    "if len(data) > n:\n",
    "    print(f\"Too much data entered it's length will be cut to {n}\")\n",
    "    \n",
    "for da in data[:n]:\n",
    "    llist.append(da)\n",
    "    \n",
    "llist.print_llist()"
   ]
  },
  {
   "cell_type": "code",
   "execution_count": null,
   "id": "1d2d37d7",
   "metadata": {},
   "outputs": [],
   "source": []
  },
  {
   "cell_type": "code",
   "execution_count": 23,
   "id": "6bc15e1a",
   "metadata": {},
   "outputs": [
    {
     "name": "stdout",
     "output_type": "stream",
     "text": [
      "number of Elements:- 5\n",
      "A B C D E F G\n",
      "Too much data entered it's length will be cut to 5\n",
      "A->B->C->D->E->None\n"
     ]
    }
   ],
   "source": [
    "llist = LinkedList()\n",
    "\n",
    "n = int(input(\"number of Elements:- \"))\n",
    "# data = [ele for ele in input().strip().split()] # method 1\n",
    "data = list(map(str , input().strip().split())) # method 2\n",
    "\n",
    "if len(data) > n:\n",
    "    print(f\"Too much data entered it's length will be cut to {n}\")\n",
    "    \n",
    "for da in data[:n]:\n",
    "    llist.append(da)\n",
    "    \n",
    "llist.print_llist()"
   ]
  },
  {
   "cell_type": "code",
   "execution_count": null,
   "id": "1a5409b5",
   "metadata": {},
   "outputs": [],
   "source": []
  },
  {
   "cell_type": "code",
   "execution_count": 25,
   "id": "22203079",
   "metadata": {},
   "outputs": [
    {
     "name": "stdout",
     "output_type": "stream",
     "text": [
      "number of Elements:- 5\n",
      "1 2 3 4 5\n",
      "1->2->3->4->5->None\n"
     ]
    }
   ],
   "source": [
    "llist = LinkedList()\n",
    "\n",
    "n = int(input(\"number of Elements:- \"))\n",
    "data = [ele for ele in input().strip().split()] # method 1\n",
    "data = list(map(int , input().strip().split())) # method 2\n",
    "\n",
    "if len(data) > n:\n",
    "    print(f\"Too much data entered it's length will be cut to {n}\")\n",
    "    \n",
    "for da in data[:n]:\n",
    "    llist.append(da)\n",
    "    \n",
    "llist.print_llist()"
   ]
  },
  {
   "cell_type": "code",
   "execution_count": null,
   "id": "aa7f4ebd",
   "metadata": {},
   "outputs": [],
   "source": []
  }
 ],
 "metadata": {
  "kernelspec": {
   "display_name": "Python 3 (ipykernel)",
   "language": "python",
   "name": "python3"
  },
  "language_info": {
   "codemirror_mode": {
    "name": "ipython",
    "version": 3
   },
   "file_extension": ".py",
   "mimetype": "text/x-python",
   "name": "python",
   "nbconvert_exporter": "python",
   "pygments_lexer": "ipython3",
   "version": "3.9.12"
  }
 },
 "nbformat": 4,
 "nbformat_minor": 5
}
