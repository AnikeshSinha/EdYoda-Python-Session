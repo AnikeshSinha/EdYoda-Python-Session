{
 "cells": [
  {
   "cell_type": "code",
   "execution_count": null,
   "id": "b20a0468",
   "metadata": {},
   "outputs": [],
   "source": [
    "https://visualgo.net/en/sorting\n",
    "    \n",
    "https://docs.google.com/spreadsheets/d/1BuOY76o42MTfCCkFpgxs7AUpPGplpveRXt6Bxby65t0/edit?usp=sharing\n",
    "https://docs.google.com/spreadsheets/d/1SmCwNI8iTb68I3uhapOy5LazlJn4n_HnysmEFqryWuA/edit?usp=sharing"
   ]
  },
  {
   "cell_type": "code",
   "execution_count": 3,
   "id": "ec6795f1",
   "metadata": {},
   "outputs": [],
   "source": [
    "def merge(s1 , s2 , arr):\n",
    "    i = 0\n",
    "    j = 0 \n",
    "    k = 0\n",
    "    while (i < len(s1) and j < len(s2)):\n",
    "        \n",
    "        if (s1[i] < s2[j]):\n",
    "            arr[k] = s1[i]\n",
    "            k = k + 1\n",
    "            i = i + 1\n",
    "        else:\n",
    "            arr[k] = s2[j]\n",
    "            k = k + 1\n",
    "            j = j + 1\n",
    "            \n",
    "    while i < len(s1):\n",
    "        arr[k] = s1[i]\n",
    "        k = k + 1\n",
    "        i = i + 1\n",
    "        \n",
    "    while j < len(s2):\n",
    "        arr[k] = s2[j]\n",
    "        k = k + 1\n",
    "        j = j + 1\n",
    "        "
   ]
  },
  {
   "cell_type": "code",
   "execution_count": 4,
   "id": "8bcb5a77",
   "metadata": {},
   "outputs": [],
   "source": [
    "def merge_sort(arr):\n",
    "    \n",
    "    if len(arr) == 0 or len(arr) == 1:\n",
    "        return\n",
    "    \n",
    "    mid = len(arr) // 2\n",
    "    smallerList1 = arr[:mid]\n",
    "    smallerList2 = arr[mid:]\n",
    "    \n",
    "    merge_sort(smallerList1)\n",
    "    merge_sort(smallerList2)\n",
    "    merge(smallerList1 , smallerList2 , arr)"
   ]
  },
  {
   "cell_type": "code",
   "execution_count": 6,
   "id": "a219c69d",
   "metadata": {},
   "outputs": [
    {
     "name": "stdout",
     "output_type": "stream",
     "text": [
      "10 52 64 20 1 2 5 4\n",
      "1 2 4 5 10 20 52 64\n"
     ]
    }
   ],
   "source": [
    "arr = [int(ele) for ele in input().strip().split()]\n",
    "merge_sort(arr)\n",
    "print(*arr)"
   ]
  },
  {
   "cell_type": "markdown",
   "id": "faf3d3e6",
   "metadata": {},
   "source": [
    "# `Time Complexity Analysis`"
   ]
  },
  {
   "cell_type": "code",
   "execution_count": 8,
   "id": "6e21c54e",
   "metadata": {},
   "outputs": [],
   "source": [
    "def selectionSort(arr):\n",
    "     \n",
    "    lenght = len(arr)\n",
    "    for i in range(lenght - 1):\n",
    "        minIndex = i\n",
    "        for j in range(i+1 , lenght):\n",
    "            if(arr[j] < arr[minIndex]):\n",
    "                minIndex = j\n",
    "                \n",
    "        arr[i] , arr[minIndex] = arr[minIndex] , arr[i]\n",
    "\n",
    "# arr = [1,5,2,4,6,7,3,8,0]\n",
    "# selectionSort(arr)\n",
    "# print(arr)"
   ]
  },
  {
   "cell_type": "code",
   "execution_count": 9,
   "id": "8b13dc3e",
   "metadata": {},
   "outputs": [],
   "source": [
    "def merge(s1 , s2 , arr):\n",
    "    i = 0\n",
    "    j = 0 \n",
    "    k = 0\n",
    "    while (i < len(s1) and j < len(s2)):\n",
    "        \n",
    "        if (s1[i] < s2[j]):\n",
    "            arr[k] = s1[i]\n",
    "            k = k + 1\n",
    "            i = i + 1\n",
    "        else:\n",
    "            arr[k] = s2[j]\n",
    "            k = k + 1\n",
    "            j = j + 1\n",
    "            \n",
    "    while i < len(s1):\n",
    "        arr[k] = s1[i]\n",
    "        k = k + 1\n",
    "        i = i + 1\n",
    "        \n",
    "    while j < len(s2):\n",
    "        arr[k] = s2[j]\n",
    "        k = k + 1\n",
    "        j = j + 1\n",
    "        \n",
    "        \n",
    "def merge_sort(arr):\n",
    "    \n",
    "    if len(arr) == 0 or len(arr) == 1:\n",
    "        return\n",
    "    \n",
    "    mid = len(arr) // 2\n",
    "    smallerList1 = arr[:mid]\n",
    "    smallerList2 = arr[mid:]\n",
    "    \n",
    "    merge_sort(smallerList1)\n",
    "    merge_sort(smallerList2)\n",
    "    merge(smallerList1 , smallerList2 , arr)"
   ]
  },
  {
   "cell_type": "code",
   "execution_count": 10,
   "id": "2d6502fd",
   "metadata": {},
   "outputs": [],
   "source": [
    "def create_rev_array(n):\n",
    "    a = []\n",
    "    for i in range(n , 0 , -1):\n",
    "        a.append(i)\n",
    "    return a"
   ]
  },
  {
   "cell_type": "code",
   "execution_count": 12,
   "id": "0641f5ac",
   "metadata": {},
   "outputs": [
    {
     "data": {
      "text/plain": [
       "[10, 9, 8, 7, 6, 5, 4, 3, 2, 1]"
      ]
     },
     "execution_count": 12,
     "metadata": {},
     "output_type": "execute_result"
    }
   ],
   "source": [
    "a = create_rev_array(n)\n",
    "a"
   ]
  },
  {
   "cell_type": "code",
   "execution_count": 14,
   "id": "ca0de87d",
   "metadata": {},
   "outputs": [
    {
     "data": {
      "text/plain": [
       "1650419398.3679228"
      ]
     },
     "execution_count": 14,
     "metadata": {},
     "output_type": "execute_result"
    }
   ],
   "source": [
    "import time\n",
    "time.time()"
   ]
  },
  {
   "cell_type": "code",
   "execution_count": 15,
   "id": "3cdad955",
   "metadata": {},
   "outputs": [
    {
     "data": {
      "text/plain": [
       "1650419419.3839095"
      ]
     },
     "execution_count": 15,
     "metadata": {},
     "output_type": "execute_result"
    }
   ],
   "source": [
    "time.time()"
   ]
  },
  {
   "cell_type": "code",
   "execution_count": 27,
   "id": "4cb08212",
   "metadata": {},
   "outputs": [],
   "source": [
    "n = 100000"
   ]
  },
  {
   "cell_type": "code",
   "execution_count": 28,
   "id": "c5385f00",
   "metadata": {},
   "outputs": [
    {
     "name": "stdout",
     "output_type": "stream",
     "text": [
      "100000 0.2092602252960205\n"
     ]
    }
   ],
   "source": [
    "a = create_rev_array(n)\n",
    "start = time.time()\n",
    "merge_sort(a)\n",
    "end = time.time()\n",
    "print(n , end - start)"
   ]
  },
  {
   "cell_type": "code",
   "execution_count": 29,
   "id": "5fee8564",
   "metadata": {},
   "outputs": [
    {
     "name": "stdout",
     "output_type": "stream",
     "text": [
      "100000 183.63198161125183\n"
     ]
    }
   ],
   "source": [
    "a = create_rev_array(n)\n",
    "start = time.time()\n",
    "selectionSort(a)\n",
    "end = time.time()\n",
    "print(n , end - start)"
   ]
  },
  {
   "cell_type": "code",
   "execution_count": null,
   "id": "5aef7242",
   "metadata": {},
   "outputs": [],
   "source": []
  },
  {
   "cell_type": "code",
   "execution_count": null,
   "id": "7a134543",
   "metadata": {},
   "outputs": [],
   "source": []
  },
  {
   "cell_type": "code",
   "execution_count": 4,
   "id": "e1850227",
   "metadata": {},
   "outputs": [
    {
     "data": {
      "text/plain": [
       "[10, 9, 8, 7, 6, 5, 4, 3, 2, 1]"
      ]
     },
     "execution_count": 4,
     "metadata": {},
     "output_type": "execute_result"
    }
   ],
   "source": [
    "rev = [int(ele) for ele in range(n , 0 , -1)]\n",
    "rev"
   ]
  },
  {
   "cell_type": "code",
   "execution_count": null,
   "id": "aea1c75b",
   "metadata": {},
   "outputs": [],
   "source": []
  }
 ],
 "metadata": {
  "kernelspec": {
   "display_name": "Python 3 (ipykernel)",
   "language": "python",
   "name": "python3"
  },
  "language_info": {
   "codemirror_mode": {
    "name": "ipython",
    "version": 3
   },
   "file_extension": ".py",
   "mimetype": "text/x-python",
   "name": "python",
   "nbconvert_exporter": "python",
   "pygments_lexer": "ipython3",
   "version": "3.9.12"
  }
 },
 "nbformat": 4,
 "nbformat_minor": 5
}
