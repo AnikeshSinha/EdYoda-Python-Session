{
 "cells": [
  {
   "cell_type": "code",
   "execution_count": null,
   "id": "4de186e4",
   "metadata": {},
   "outputs": [],
   "source": [
    "JSON -> JavaScript Object Notation"
   ]
  },
  {
   "cell_type": "code",
   "execution_count": null,
   "id": "4764d22e",
   "metadata": {},
   "outputs": [],
   "source": [
    "it is used to storing and exchanging data.\n"
   ]
  },
  {
   "cell_type": "code",
   "execution_count": 1,
   "id": "649f7143",
   "metadata": {},
   "outputs": [],
   "source": [
    "import jsons"
   ]
  },
  {
   "cell_type": "code",
   "execution_count": 5,
   "id": "6ae7b32e",
   "metadata": {},
   "outputs": [],
   "source": [
    "p = '{\"name\":\"Mayuri\" ,\"language\": [\"Python\" , \"java\"]}'"
   ]
  },
  {
   "cell_type": "code",
   "execution_count": 6,
   "id": "e9fadb71",
   "metadata": {},
   "outputs": [
    {
     "data": {
      "text/plain": [
       "str"
      ]
     },
     "execution_count": 6,
     "metadata": {},
     "output_type": "execute_result"
    }
   ],
   "source": [
    "type(p)"
   ]
  },
  {
   "cell_type": "code",
   "execution_count": 7,
   "id": "9eeaef19",
   "metadata": {},
   "outputs": [],
   "source": [
    "a = {\"name\":\"Mayuri\" ,\"language\": [\"Python\" , \"java\"]}"
   ]
  },
  {
   "cell_type": "code",
   "execution_count": 8,
   "id": "238ce7fc",
   "metadata": {},
   "outputs": [
    {
     "data": {
      "text/plain": [
       "dict"
      ]
     },
     "execution_count": 8,
     "metadata": {},
     "output_type": "execute_result"
    }
   ],
   "source": [
    "type(a)"
   ]
  },
  {
   "cell_type": "code",
   "execution_count": 3,
   "id": "baf9eb6e",
   "metadata": {},
   "outputs": [
    {
     "ename": "ModuleNotFoundError",
     "evalue": "No module named 'Json'",
     "output_type": "error",
     "traceback": [
      "\u001b[1;31m---------------------------------------------------------------------------\u001b[0m",
      "\u001b[1;31mModuleNotFoundError\u001b[0m                       Traceback (most recent call last)",
      "\u001b[1;32m~\\AppData\\Local\\Temp/ipykernel_11040/1813972270.py\u001b[0m in \u001b[0;36m<module>\u001b[1;34m\u001b[0m\n\u001b[1;32m----> 1\u001b[1;33m \u001b[1;32mimport\u001b[0m \u001b[0mJson\u001b[0m\u001b[1;33m\u001b[0m\u001b[1;33m\u001b[0m\u001b[0m\n\u001b[0m",
      "\u001b[1;31mModuleNotFoundError\u001b[0m: No module named 'Json'"
     ]
    }
   ],
   "source": [
    "import Json"
   ]
  },
  {
   "cell_type": "code",
   "execution_count": 9,
   "id": "e55b2941",
   "metadata": {},
   "outputs": [],
   "source": [
    "import json"
   ]
  },
  {
   "cell_type": "code",
   "execution_count": 12,
   "id": "26863a23",
   "metadata": {},
   "outputs": [
    {
     "name": "stdout",
     "output_type": "stream",
     "text": [
      "[\n",
      "    {\n",
      "        \"user_id\": \"Anikesh2498\",\n",
      "        \"name\": \"Anikesh\",\n",
      "        \"age\": 24,\n",
      "        \"gender\": \"Male\",\n",
      "        \"mobile_no\": 9876543210\n",
      "    },\n",
      "    {\n",
      "        \"user_id\": \"Kunal2599\",\n",
      "        \"name\": \"Kunal\",\n",
      "        \"age\": 25,\n",
      "        \"gender\": \"Male\",\n",
      "        \"mobile_no\": 9999999999\n",
      "    },\n",
      "    {\n",
      "        \"user_id\": \"xyz2799\",\n",
      "        \"name\": \"xyz\",\n",
      "        \"age\": 27,\n",
      "        \"gender\": \"Male\",\n",
      "        \"mobile_no\": 9973540215\n",
      "    },\n",
      "    {\n",
      "        \"user_id\": \"Tushar2065\",\n",
      "        \"name\": \"Tushar\",\n",
      "        \"age\": 20,\n",
      "        \"gender\": \"male\",\n",
      "        \"mobile_no\": 6456987123\n",
      "    }\n",
      "]\n",
      "<class 'str'>\n"
     ]
    }
   ],
   "source": [
    "with open(\"passengerlist.json\" , 'r+') as fp:\n",
    "    d = fp.read()\n",
    "    print(d)\n",
    "    print(type(d))"
   ]
  },
  {
   "cell_type": "code",
   "execution_count": 13,
   "id": "99fd929d",
   "metadata": {},
   "outputs": [
    {
     "name": "stdout",
     "output_type": "stream",
     "text": [
      "[{'user_id': 'Anikesh2498', 'name': 'Anikesh', 'age': 24, 'gender': 'Male', 'mobile_no': 9876543210}, {'user_id': 'Kunal2599', 'name': 'Kunal', 'age': 25, 'gender': 'Male', 'mobile_no': 9999999999}, {'user_id': 'xyz2799', 'name': 'xyz', 'age': 27, 'gender': 'Male', 'mobile_no': 9973540215}, {'user_id': 'Tushar2065', 'name': 'Tushar', 'age': 20, 'gender': 'male', 'mobile_no': 6456987123}]\n",
      "<class 'list'>\n"
     ]
    }
   ],
   "source": [
    "with open(\"passengerlist.json\" , 'r+') as fp:\n",
    "    d = json.load(fp)\n",
    "    print(d)\n",
    "    print(type(d))"
   ]
  },
  {
   "cell_type": "code",
   "execution_count": 16,
   "id": "4f5e258f",
   "metadata": {},
   "outputs": [
    {
     "name": "stdout",
     "output_type": "stream",
     "text": [
      "{'name': 'Mayuri', 'language': ['Python', 'java']}\n",
      "<class 'dict'>\n",
      "Mayuri\n",
      "Python\n"
     ]
    }
   ],
   "source": [
    "with open(\"prac.json\" , 'r+') as fp:\n",
    "    d = json.load(fp)\n",
    "    print(d)\n",
    "    print(type(d))\n",
    "    print(d[\"name\"])"
   ]
  },
  {
   "cell_type": "code",
   "execution_count": 17,
   "id": "3d021742",
   "metadata": {},
   "outputs": [
    {
     "name": "stdout",
     "output_type": "stream",
     "text": [
      "{'name': 'Mayuri', 'language': ['Python', 'java']}\n",
      "<class 'dict'>\n",
      "Mayuri\n",
      "Python\n"
     ]
    }
   ],
   "source": [
    "with open(\"prac.json\" , 'r+') as fp:\n",
    "    d = json.load(fp)\n",
    "    print(d)\n",
    "    print(type(d))\n",
    "    print(d[\"name\"])\n",
    "    print(d['language'][0])"
   ]
  },
  {
   "cell_type": "code",
   "execution_count": 18,
   "id": "ca5ca8c0",
   "metadata": {},
   "outputs": [
    {
     "name": "stdout",
     "output_type": "stream",
     "text": [
      "{'name': 'Mayuri', 'language': ['Python', 'java']}\n",
      "<class 'dict'>\n",
      "Mayuri\n",
      "java\n"
     ]
    }
   ],
   "source": [
    "with open(\"prac.json\" , 'r+') as fp:\n",
    "    d = json.load(fp)\n",
    "    print(d)\n",
    "    print(type(d))\n",
    "    print(d[\"name\"])\n",
    "    print(d['language'][1])"
   ]
  },
  {
   "cell_type": "code",
   "execution_count": 20,
   "id": "4226b95d",
   "metadata": {},
   "outputs": [
    {
     "name": "stdout",
     "output_type": "stream",
     "text": [
      "{'name': 'Mayuri', 'language': ['Python', 'java']}\n",
      "<class 'dict'>\n",
      "Mayuri\n",
      "{'name': 'Mayuri', 'language': ['Python', 'java', 'C++']}\n"
     ]
    }
   ],
   "source": [
    "with open(\"prac.json\" , 'r+') as fp:\n",
    "    d = json.load(fp)\n",
    "    print(d)\n",
    "    print(type(d))\n",
    "    print(d[\"name\"])\n",
    "    d['language'].append('C++')\n",
    "    print(d)"
   ]
  },
  {
   "cell_type": "code",
   "execution_count": 23,
   "id": "d104abea",
   "metadata": {},
   "outputs": [
    {
     "name": "stdout",
     "output_type": "stream",
     "text": [
      "{'name': 'Mayuri', 'language': ['Python', 'java', 'C++', 'C++']}\n",
      "<class 'dict'>\n",
      "Mayuri\n",
      "{'name': 'Mayuri', 'language': ['Python', 'java', 'C++', 'C++', 'C++']}\n"
     ]
    }
   ],
   "source": [
    "with open(\"prac.json\" , 'r+') as fp:\n",
    "    d = json.load(fp)\n",
    "    print(d)\n",
    "    print(type(d))\n",
    "    print(d[\"name\"])\n",
    "    d['language'].append('C++')\n",
    "    print(d)\n",
    "    fp.seek(0)\n",
    "    fp.truncate()\n",
    "    json.dump(d, fp , indent = 4)"
   ]
  },
  {
   "cell_type": "code",
   "execution_count": null,
   "id": "98d2e028",
   "metadata": {},
   "outputs": [],
   "source": [
    "Session Details\n",
    "\n",
    "train.json\n",
    "\n",
    "passenger.json\n",
    "\n",
    "\n",
    "\n",
    "Statement 1:- \n",
    "   make a function to add Passengers into Passengerlist.json file:\n",
    "\n",
    "        Statement 1.1 user_id -> (name + age + first 2 digits of mobile no)\n",
    " \n",
    "\n",
    "        Statements 1.2 for adding the Passenger list into train.json file :- \n",
    "             if the user already Exist in the data then just ignore the user\n",
    "\n",
    "             else if not then add into the Passenger list of train.json as well as in passenger.json\n",
    "\n",
    "Statement 2:- \n",
    "       make a function to Edit or update user details into Passenger.json:\n",
    "\n",
    "         if user wants to update their datails.\n",
    "\n",
    "Statement 3:- \n",
    "  write a code for user Pannel to upadate and book their ticket if he/she haven't booked already."
   ]
  },
  {
   "cell_type": "code",
   "execution_count": null,
   "id": "c4db5e2c",
   "metadata": {},
   "outputs": [],
   "source": [
    "{\n",
    "    \"train name\": \"Shatabdi Express\",\n",
    "    \"passenger list\": [\n",
    "        \"Anikesh2499\",\n",
    "        \"Kunal2599\",\n",
    "        \"xyz2799\",\n",
    "        \"Tushar2045\"\n",
    "    ],\n",
    "    \"arrival time\": \"23:00\",\n",
    "    \"departure time\": \"23:10\",\n",
    "    \"from\": \"Bihar\",\n",
    "    \"to\": \"Jharkhand\"\n",
    "}"
   ]
  },
  {
   "cell_type": "code",
   "execution_count": null,
   "id": "cc1df970",
   "metadata": {},
   "outputs": [],
   "source": [
    "[\n",
    "    {\n",
    "        \"user_id\": \"Anikesh2498\",\n",
    "        \"name\": \"Anikesh\",\n",
    "        \"age\": 24,\n",
    "        \"gender\": \"Male\",\n",
    "        \"mobile_no\": 9876543210\n",
    "    },\n",
    "    {\n",
    "        \"user_id\": \"Kunal2599\",\n",
    "        \"name\": \"Kunal\",\n",
    "        \"age\": 25,\n",
    "        \"gender\": \"Male\",\n",
    "        \"mobile_no\": 9999999999\n",
    "    },\n",
    "    {\n",
    "        \"user_id\": \"xyz2799\",\n",
    "        \"name\": \"xyz\",\n",
    "        \"age\": 27,\n",
    "        \"gender\": \"Male\",\n",
    "        \"mobile_no\": 9973540215\n",
    "    },\n",
    "    {\n",
    "        \"user_id\": \"Tushar2065\",\n",
    "        \"name\": \"Tushar\",\n",
    "        \"age\": 20,\n",
    "        \"gender\": \"male\",\n",
    "        \"mobile_no\": 6456987123\n",
    "    }\n",
    "]"
   ]
  },
  {
   "cell_type": "code",
   "execution_count": null,
   "id": "3ac0ee81",
   "metadata": {},
   "outputs": [],
   "source": [
    " make a function to Edit or update user details into Passenger.json:\n",
    "\n",
    "         if user wants to update their datails."
   ]
  },
  {
   "cell_type": "code",
   "execution_count": 26,
   "id": "64e88642",
   "metadata": {},
   "outputs": [
    {
     "name": "stdout",
     "output_type": "stream",
     "text": [
      "0\n",
      "1\n",
      "2\n",
      "3\n"
     ]
    }
   ],
   "source": [
    "\n",
    "with open(\"passengerlist.json\" , 'r+') as fp1:\n",
    "    content = json.load(fp1)\n",
    "    for ele in range(len(content)):\n",
    "        print(ele)\n",
    "        if(content[ele]['user_id'] == 'Kunal2599'):\n",
    "            content[ele][\"mobile_no\"] = 9854621341\n",
    "            \n",
    "    fp1.seek(0)\n",
    "    fp1.truncate()\n",
    "    json.dump(content , fp1 , indent = 4)"
   ]
  },
  {
   "cell_type": "code",
   "execution_count": null,
   "id": "4a1e138c",
   "metadata": {},
   "outputs": [],
   "source": [
    "make a function to add Passengers into Passengerlist.json file:"
   ]
  },
  {
   "cell_type": "code",
   "execution_count": 28,
   "id": "39c105e4",
   "metadata": {},
   "outputs": [],
   "source": [
    "di = {\n",
    "    \"user_id\": \"Sandeep2570\",\n",
    "    \"name\": \"Sandeep\",\n",
    "    \"age\": 25,\n",
    "    \"gender\": \"Male\",\n",
    "    \"mobile_no\": 7004788545\n",
    "}\n",
    "\n",
    "fp2 = open(\"passengerlist.json\" , 'r+')\n",
    "add_new_passenger = json.load(fp2)\n",
    "add_new_passenger.append(di)\n",
    "fp2.seek(0)\n",
    "fp2.truncate()\n",
    "json.dump(add_new_passenger , fp2 , indent = 4)\n",
    "fp2.close()"
   ]
  },
  {
   "cell_type": "code",
   "execution_count": null,
   "id": "facdb19e",
   "metadata": {},
   "outputs": [],
   "source": [
    "Statements 1.2 for adding the Passenger list into train.json file :- \n",
    "             if the user already Exist in the data then just ignore the user\n",
    "\n",
    "             else if not then add into the Passenger list of train.json as well as in passenger.json"
   ]
  },
  {
   "cell_type": "code",
   "execution_count": 29,
   "id": "30aca3d9",
   "metadata": {},
   "outputs": [],
   "source": [
    "fp3 = open(\"train.json\" , 'r+')\n",
    "train_content = json.load(fp3)\n",
    "train_content['passenger list'].append(di['user_id'])\n",
    "fp3.seek(0)\n",
    "fp3.truncate()\n",
    "json.dump(train_content , fp3 , indent = 4)\n",
    "fp3.close()"
   ]
  },
  {
   "cell_type": "code",
   "execution_count": null,
   "id": "06e7e49f",
   "metadata": {},
   "outputs": [],
   "source": []
  },
  {
   "cell_type": "code",
   "execution_count": null,
   "id": "f3631628",
   "metadata": {},
   "outputs": [],
   "source": []
  },
  {
   "cell_type": "code",
   "execution_count": null,
   "id": "152ba059",
   "metadata": {},
   "outputs": [],
   "source": []
  },
  {
   "cell_type": "code",
   "execution_count": null,
   "id": "bbff6302",
   "metadata": {},
   "outputs": [],
   "source": []
  }
 ],
 "metadata": {
  "kernelspec": {
   "display_name": "Python 3 (ipykernel)",
   "language": "python",
   "name": "python3"
  },
  "language_info": {
   "codemirror_mode": {
    "name": "ipython",
    "version": 3
   },
   "file_extension": ".py",
   "mimetype": "text/x-python",
   "name": "python",
   "nbconvert_exporter": "python",
   "pygments_lexer": "ipython3",
   "version": "3.10.1"
  }
 },
 "nbformat": 4,
 "nbformat_minor": 5
}
