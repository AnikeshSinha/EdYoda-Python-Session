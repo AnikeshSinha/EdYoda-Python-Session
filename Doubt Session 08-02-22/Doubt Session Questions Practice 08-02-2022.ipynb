{
 "cells": [
  {
   "cell_type": "code",
   "execution_count": 2,
   "id": "69e0b169",
   "metadata": {},
   "outputs": [
    {
     "name": "stdout",
     "output_type": "stream",
     "text": [
      "5\n",
      "10\n",
      "15\n",
      "5\n"
     ]
    }
   ],
   "source": [
    "a = int(input())\n",
    "b = int(input())\n",
    "c = int(input())\n",
    "\n",
    "print(c-b)"
   ]
  },
  {
   "cell_type": "code",
   "execution_count": 5,
   "id": "71a75f82",
   "metadata": {},
   "outputs": [
    {
     "name": "stdout",
     "output_type": "stream",
     "text": [
      "X1 - 5\n",
      "y1 - 3\n",
      "x2 - 5\n",
      "y2 - 3\n",
      "15\n"
     ]
    }
   ],
   "source": [
    "\"\"\"\n",
    "\n",
    "The given coordinates of the diagonal are (x1,y1) = (1,1) and (x2,y2) = (3, 3).\n",
    "The area of the rectangle can then easily be calculated as:\n",
    "(3 – 1) * ( 3 – 1) = 2 * 2 = 4\n",
    "\n",
    "\"\"\"\n",
    "\n",
    "x1 = int(input(\"X1 - \"))\n",
    "y1 = int(input(\"y1 - \"))\n",
    "x2 = int(input(\"x2 - \"))\n",
    "y2 = int(input(\"y2 - \"))\n",
    "\n",
    "print((x1) * (y2))"
   ]
  },
  {
   "cell_type": "code",
   "execution_count": 8,
   "id": "d138e2dd",
   "metadata": {
    "scrolled": true
   },
   "outputs": [
    {
     "name": "stdout",
     "output_type": "stream",
     "text": [
      "6\n",
      "21\n"
     ]
    }
   ],
   "source": [
    "'''\n",
    "Given an integer n, find and print the sum of numbers from 1 to n.\n",
    "\n",
    "Note : Use while loop only.\n",
    "Input Format :\n",
    "Integer n\n",
    "Output Format :\n",
    "Sum\n",
    "Sample Input :\n",
    "10\n",
    "Sample Output :\n",
    "55\n",
    "\n",
    "'''\n",
    "\n",
    "n = int(input())\n",
    "add = 0\n",
    "i = 1\n",
    "while i <= n:\n",
    "    add += i     # add =  add + i\n",
    "    i += 1\n",
    "    \n",
    "print(add)"
   ]
  },
  {
   "cell_type": "code",
   "execution_count": 18,
   "id": "4edb9b86",
   "metadata": {},
   "outputs": [
    {
     "name": "stdout",
     "output_type": "stream",
     "text": [
      "Enter the number upto which u need fibonacci number, 6\n",
      "8\n"
     ]
    }
   ],
   "source": [
    "'''\n",
    "Nth term of Fibonacci series F(n), where F(n) is a function, is calculated using the following formula -\n",
    "F(n) = F(n-1) + F(n-2),\n",
    "Where, F(1) = F(2) = 1\n",
    "Provided N you have to find out the Nth Fibonacci Number.\n",
    "\n",
    "\n",
    "The first line of each test case contains a real number ‘N’.\tExplanation of Sample Input 1:\n",
    "Output Format :\tNow the number is ‘6’ so we have to find the “6th” Fibonacci number\n",
    "For each test case, return its equivalent Fibonacci number.\n",
    "So by using the property of the Fibonacci series i.e\n",
    "Sample Input 1:\t[ 1, 1, 2, 3, 5, 8]\n",
    "6\tSo the “6th” element is “8” hence we get the output.\n",
    "Sample Output 1:\t\n",
    "8\t\n",
    "'''\n",
    "\n",
    "n = int(input(\"Enter the number upto which u need fibonacci number, \"))\n",
    "fib = -1\n",
    "num1 = 0\n",
    "num2 = 1\n",
    "for i in range (n):\n",
    "    fib = num1 + num2\n",
    "    num1 = num2\n",
    "    num2 = fib\n",
    "    \n",
    "print(num1)\n"
   ]
  },
  {
   "cell_type": "code",
   "execution_count": null,
   "id": "30050c7b",
   "metadata": {},
   "outputs": [],
   "source": [
    "n=int(input())\n",
    "f1=0\n",
    "f2=1\n",
    "c=0\n",
    "if n==1:\n",
    "    print(f1,f2 ,sep=\"\")\n",
    "elif n==2:\n",
    "    print(f1,f2 ,sep=\" \")\n",
    "else:\n",
    "    print(f1,f2 ,sep=\"\")\n",
    "    while c<n:\n",
    "        f=f1+f2\n",
    "        print(f)\n",
    "        f1,f2=f2,f\n",
    "        c+=1\n"
   ]
  },
  {
   "cell_type": "code",
   "execution_count": 19,
   "id": "5e59db68",
   "metadata": {
    "scrolled": true
   },
   "outputs": [
    {
     "name": "stdout",
     "output_type": "stream",
     "text": [
      "5\n",
      "4\n",
      "10\n",
      "75\n",
      "q\n"
     ]
    }
   ],
   "source": [
    "while True:\n",
    "    n = input()\n",
    "    if n == 'q':\n",
    "        break\n",
    "    \n"
   ]
  },
  {
   "cell_type": "code",
   "execution_count": 26,
   "id": "d4fa420b",
   "metadata": {},
   "outputs": [
    {
     "name": "stdout",
     "output_type": "stream",
     "text": [
      "152\n",
      "not armstrong number\n"
     ]
    }
   ],
   "source": [
    "'''\n",
    "\"3) A three digit number is called Armstrong number if sum of cube of its digit is equal to number itself.\n",
    "\n",
    "E.g.- 153 is an Armstrong number because (1^3)+(5^3)+(3^3) = 153. Write all Armstrong numbers between 100 to 500\n",
    "\n",
    "Find all the Armstrong number between two integers x and y.(both number inclusive)\n",
    "\n",
    "Constraints:\n",
    "\n",
    "x and y are 3 digits only *** Note: Remember to convert a string to int if required based on the code provided.\"\n",
    "'''\n",
    "\n",
    "n=int(input())\n",
    "s=0\n",
    "num = n\n",
    "while num > 0:\n",
    "    r = num % 10\n",
    "    s = s + (r**3)\n",
    "    num = num // 10\n",
    "    \n",
    "if s==n:\n",
    "    print(\"armstrong number\")\n",
    "else:\n",
    "    print(\"not armstrong number\")\n"
   ]
  },
  {
   "cell_type": "code",
   "execution_count": 30,
   "id": "68f6ff7b",
   "metadata": {},
   "outputs": [
    {
     "name": "stdout",
     "output_type": "stream",
     "text": [
      "153\n",
      "armstrong number\n"
     ]
    }
   ],
   "source": [
    "n=int(input())\n",
    "s=0\n",
    "num = n\n",
    "while n > 0:\n",
    "    r = n % 10\n",
    "    s=s+(r**3)\n",
    "    n=n // 10\n",
    "    \n",
    "if s == num:\n",
    "    print(\"armstrong number\")\n",
    "else:\n",
    "    print(\"not armstrong number\")"
   ]
  },
  {
   "cell_type": "raw",
   "id": "d7b3025f",
   "metadata": {},
   "source": [
    "Select all of the following statements that remove the middle element 3 from a so that it equals [1, 2, 4, 5]\n",
    "\n",
    "a) del a[2]\n",
    "\n",
    "b) a.remove(3)\n",
    "\n",
    "c) a[2:3] = []\n",
    "\n",
    "d) a[2] = []\n",
    "\n",
    "a = [1, 2, 3, 4, 5]\n"
   ]
  },
  {
   "cell_type": "code",
   "execution_count": 34,
   "id": "6c48e152",
   "metadata": {
    "scrolled": true
   },
   "outputs": [
    {
     "data": {
      "text/plain": [
       "[1, 2, 4, 5]"
      ]
     },
     "execution_count": 34,
     "metadata": {},
     "output_type": "execute_result"
    }
   ],
   "source": [
    "a = [1, 2, 3, 4, 5]\n",
    "a[2:3] = []\n",
    "a"
   ]
  },
  {
   "cell_type": "code",
   "execution_count": 35,
   "id": "71baf305",
   "metadata": {
    "scrolled": true
   },
   "outputs": [
    {
     "name": "stdout",
     "output_type": "stream",
     "text": [
      "True\n"
     ]
    }
   ],
   "source": [
    "s = 'foo'\n",
    "t = 'bar'\n",
    "print('barf' in 2 * (s + t))"
   ]
  },
  {
   "cell_type": "code",
   "execution_count": null,
   "id": "bdbc9357",
   "metadata": {},
   "outputs": [],
   "source": [
    "Which Python code is correct to create a tuple with a single element, the string 'foo', and assign it to a variable called t.\n",
    "\n",
    "t = ('foo',)\n",
    "Correct Option\n",
    "t = ('foo')\n",
    "t = ['foo']\n",
    "t = 'foo'"
   ]
  },
  {
   "cell_type": "code",
   "execution_count": 37,
   "id": "ace13e7c",
   "metadata": {},
   "outputs": [
    {
     "name": "stdout",
     "output_type": "stream",
     "text": [
      "<class 'tuple'>\n"
     ]
    }
   ],
   "source": [
    "t = ('foo',)\n",
    "print(type(t))"
   ]
  },
  {
   "cell_type": "code",
   "execution_count": 38,
   "id": "3615a54c",
   "metadata": {},
   "outputs": [
    {
     "name": "stdout",
     "output_type": "stream",
     "text": [
      "<class 'tuple'>\n"
     ]
    }
   ],
   "source": [
    "t = \"123\", \"agfa\" , 13 , \"adfg\"\n",
    "print(type(t))"
   ]
  },
  {
   "cell_type": "code",
   "execution_count": 39,
   "id": "d2d4743c",
   "metadata": {},
   "outputs": [
    {
     "name": "stdout",
     "output_type": "stream",
     "text": [
      "<class 'tuple'>\n"
     ]
    }
   ],
   "source": [
    "t = \"adf\",\n",
    "print(type(t))"
   ]
  },
  {
   "cell_type": "code",
   "execution_count": 40,
   "id": "42261daa",
   "metadata": {},
   "outputs": [
    {
     "name": "stdout",
     "output_type": "stream",
     "text": [
      "123\n",
      "<class 'tuple'>\n"
     ]
    }
   ],
   "source": [
    "#unPacking\n",
    "\n",
    "t = \"123\", \"agfa\" , 13 , \"adfg\"\n",
    "sandeep , neeraj , snegha , tejashri = t\n",
    "print(sandeep)\n",
    "print(type(t))"
   ]
  }
 ],
 "metadata": {
  "kernelspec": {
   "display_name": "Python 3 (ipykernel)",
   "language": "python",
   "name": "python3"
  },
  "language_info": {
   "codemirror_mode": {
    "name": "ipython",
    "version": 3
   },
   "file_extension": ".py",
   "mimetype": "text/x-python",
   "name": "python",
   "nbconvert_exporter": "python",
   "pygments_lexer": "ipython3",
   "version": "3.10.1"
  }
 },
 "nbformat": 4,
 "nbformat_minor": 5
}
