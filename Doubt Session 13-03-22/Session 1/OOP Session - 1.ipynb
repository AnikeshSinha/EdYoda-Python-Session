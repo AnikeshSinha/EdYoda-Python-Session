{
 "cells": [
  {
   "cell_type": "code",
   "execution_count": null,
   "id": "e8c166a1",
   "metadata": {},
   "outputs": [],
   "source": [
    "Introduction to OOP "
   ]
  },
  {
   "cell_type": "code",
   "execution_count": null,
   "id": "1828662d",
   "metadata": {},
   "outputs": [],
   "source": [
    "Declaration"
   ]
  },
  {
   "cell_type": "code",
   "execution_count": 3,
   "id": "ff044a27",
   "metadata": {},
   "outputs": [],
   "source": [
    "class ClassName:\n",
    "    pass"
   ]
  },
  {
   "cell_type": "code",
   "execution_count": null,
   "id": "bca4b162",
   "metadata": {},
   "outputs": [],
   "source": [
    "creating a class Object"
   ]
  },
  {
   "cell_type": "code",
   "execution_count": 4,
   "id": "a346d9d5",
   "metadata": {},
   "outputs": [
    {
     "name": "stdout",
     "output_type": "stream",
     "text": [
      "<__main__.MyClass object at 0x0000013507AB2CB0>\n"
     ]
    }
   ],
   "source": [
    "class MyClass:\n",
    "    pass\n",
    "\n",
    "obj = MyClass() # Creating a MyClass object\n",
    "print(obj)"
   ]
  },
  {
   "cell_type": "code",
   "execution_count": 6,
   "id": "a1f1f443",
   "metadata": {},
   "outputs": [
    {
     "ename": "NameError",
     "evalue": "name 'salary' is not defined",
     "output_type": "error",
     "traceback": [
      "\u001b[1;31m---------------------------------------------------------------------------\u001b[0m",
      "\u001b[1;31mNameError\u001b[0m                                 Traceback (most recent call last)",
      "\u001b[1;32m~\\AppData\\Local\\Temp/ipykernel_16172/3772077314.py\u001b[0m in \u001b[0;36m<module>\u001b[1;34m\u001b[0m\n\u001b[1;32m----> 1\u001b[1;33m \u001b[1;32mclass\u001b[0m \u001b[0mEmployee\u001b[0m\u001b[1;33m:\u001b[0m\u001b[1;33m\u001b[0m\u001b[1;33m\u001b[0m\u001b[0m\n\u001b[0m\u001b[0;32m      2\u001b[0m \u001b[1;31m#     ID\u001b[0m\u001b[1;33m\u001b[0m\u001b[1;33m\u001b[0m\u001b[0m\n\u001b[0;32m      3\u001b[0m     \u001b[0msalary\u001b[0m\u001b[1;33m\u001b[0m\u001b[1;33m\u001b[0m\u001b[0m\n\u001b[0;32m      4\u001b[0m     \u001b[0mdepartment\u001b[0m\u001b[1;33m\u001b[0m\u001b[1;33m\u001b[0m\u001b[0m\n\u001b[0;32m      5\u001b[0m \u001b[1;33m\u001b[0m\u001b[0m\n",
      "\u001b[1;32m~\\AppData\\Local\\Temp/ipykernel_16172/3772077314.py\u001b[0m in \u001b[0;36mEmployee\u001b[1;34m()\u001b[0m\n\u001b[0;32m      1\u001b[0m \u001b[1;32mclass\u001b[0m \u001b[0mEmployee\u001b[0m\u001b[1;33m:\u001b[0m\u001b[1;33m\u001b[0m\u001b[1;33m\u001b[0m\u001b[0m\n\u001b[0;32m      2\u001b[0m \u001b[1;31m#     ID\u001b[0m\u001b[1;33m\u001b[0m\u001b[1;33m\u001b[0m\u001b[0m\n\u001b[1;32m----> 3\u001b[1;33m     \u001b[0msalary\u001b[0m\u001b[1;33m\u001b[0m\u001b[1;33m\u001b[0m\u001b[0m\n\u001b[0m\u001b[0;32m      4\u001b[0m     \u001b[0mdepartment\u001b[0m\u001b[1;33m\u001b[0m\u001b[1;33m\u001b[0m\u001b[0m\n\u001b[0;32m      5\u001b[0m \u001b[1;33m\u001b[0m\u001b[0m\n",
      "\u001b[1;31mNameError\u001b[0m: name 'salary' is not defined"
     ]
    }
   ],
   "source": [
    "class Employee:\n",
    "    ID \n",
    "    salary\n",
    "    department\n",
    "    "
   ]
  },
  {
   "cell_type": "code",
   "execution_count": 7,
   "id": "4c48c35d",
   "metadata": {},
   "outputs": [],
   "source": [
    "class Employee:\n",
    "    \n",
    "    ID = None\n",
    "    salary = None\n",
    "    department = None"
   ]
  },
  {
   "cell_type": "code",
   "execution_count": null,
   "id": "dde1e2ba",
   "metadata": {},
   "outputs": [],
   "source": [
    "# object.property"
   ]
  },
  {
   "cell_type": "code",
   "execution_count": 8,
   "id": "b21552cc",
   "metadata": {},
   "outputs": [],
   "source": [
    "Sandeep = Employee()"
   ]
  },
  {
   "cell_type": "code",
   "execution_count": 11,
   "id": "cfe19813",
   "metadata": {},
   "outputs": [
    {
     "name": "stdout",
     "output_type": "stream",
     "text": [
      "ID =  None\n",
      "salary =  None\n"
     ]
    }
   ],
   "source": [
    "print(\"ID = \", Sandeep.ID)\n",
    "print(\"salary = \", Sandeep.salary)"
   ]
  },
  {
   "cell_type": "code",
   "execution_count": 13,
   "id": "890c3a44",
   "metadata": {},
   "outputs": [],
   "source": [
    "class Employee:\n",
    "    \n",
    "    ID = 72684\n",
    "    salary = 100000\n",
    "    department = \"Software\""
   ]
  },
  {
   "cell_type": "code",
   "execution_count": 14,
   "id": "1ba0f45e",
   "metadata": {},
   "outputs": [],
   "source": [
    "Sandeep = Employee()"
   ]
  },
  {
   "cell_type": "code",
   "execution_count": 15,
   "id": "81c75d0e",
   "metadata": {
    "scrolled": true
   },
   "outputs": [
    {
     "name": "stdout",
     "output_type": "stream",
     "text": [
      "ID =  72684\n",
      "salary =  100000\n"
     ]
    }
   ],
   "source": [
    "print(\"ID = \", Sandeep.ID)\n",
    "print(\"salary = \", Sandeep.salary)"
   ]
  },
  {
   "cell_type": "code",
   "execution_count": 17,
   "id": "483ab5d5",
   "metadata": {},
   "outputs": [],
   "source": [
    "Jigar = Employee()"
   ]
  },
  {
   "cell_type": "code",
   "execution_count": 18,
   "id": "8cc17c4f",
   "metadata": {},
   "outputs": [
    {
     "name": "stdout",
     "output_type": "stream",
     "text": [
      "ID =  72684\n",
      "salary =  100000\n"
     ]
    }
   ],
   "source": [
    "print(\"ID = \", Jigar.ID)\n",
    "print(\"salary = \", Jigar.salary)"
   ]
  },
  {
   "cell_type": "code",
   "execution_count": 25,
   "id": "2b113c51",
   "metadata": {},
   "outputs": [],
   "source": [
    "class Employee:\n",
    "    \n",
    "    ID = None\n",
    "    salary = None\n",
    "    department = None"
   ]
  },
  {
   "cell_type": "code",
   "execution_count": 26,
   "id": "0165d793",
   "metadata": {},
   "outputs": [],
   "source": [
    "Sandeep = Employee()"
   ]
  },
  {
   "cell_type": "code",
   "execution_count": 27,
   "id": "5dbd277a",
   "metadata": {},
   "outputs": [
    {
     "name": "stdout",
     "output_type": "stream",
     "text": [
      "ID =  None\n"
     ]
    }
   ],
   "source": [
    "print(\"ID = \", Sandeep.ID)"
   ]
  },
  {
   "cell_type": "code",
   "execution_count": 28,
   "id": "b4b9a651",
   "metadata": {},
   "outputs": [],
   "source": [
    "Sandeep.ID = 72684"
   ]
  },
  {
   "cell_type": "code",
   "execution_count": 29,
   "id": "e1e690d3",
   "metadata": {},
   "outputs": [
    {
     "name": "stdout",
     "output_type": "stream",
     "text": [
      "ID =  72684\n"
     ]
    }
   ],
   "source": [
    "print(\"ID = \", Sandeep.ID)"
   ]
  },
  {
   "cell_type": "code",
   "execution_count": null,
   "id": "e832778d",
   "metadata": {},
   "outputs": [],
   "source": [
    "Creating Properties outside of a class"
   ]
  },
  {
   "cell_type": "code",
   "execution_count": 30,
   "id": "997f7da7",
   "metadata": {},
   "outputs": [],
   "source": [
    "class Employee:\n",
    "    \n",
    "    ID = None\n",
    "    salary = None\n",
    "    department = None"
   ]
  },
  {
   "cell_type": "code",
   "execution_count": 31,
   "id": "f8be90c3",
   "metadata": {},
   "outputs": [],
   "source": [
    "Sandeep = Employee()"
   ]
  },
  {
   "cell_type": "code",
   "execution_count": 32,
   "id": "705edbab",
   "metadata": {},
   "outputs": [],
   "source": [
    "Sandeep.ID = 72684\n",
    "Sandeep.salary = 100000\n",
    "Sandeep.department = \"Software\"\n",
    "#creating a new properties of Sandeep\n",
    "Sandeep.title = \"Manager\""
   ]
  },
  {
   "cell_type": "code",
   "execution_count": 33,
   "id": "8f54b522",
   "metadata": {
    "scrolled": false
   },
   "outputs": [
    {
     "name": "stdout",
     "output_type": "stream",
     "text": [
      "ID =  72684\n",
      "ID =  Manager\n"
     ]
    }
   ],
   "source": [
    "print(\"ID = \", Sandeep.ID)\n",
    "print(\"ID = \", Sandeep.title)"
   ]
  },
  {
   "cell_type": "code",
   "execution_count": 36,
   "id": "2b0e5a0c",
   "metadata": {},
   "outputs": [],
   "source": [
    "Jigar = Employee()"
   ]
  },
  {
   "cell_type": "code",
   "execution_count": 37,
   "id": "8d83864b",
   "metadata": {},
   "outputs": [],
   "source": [
    "Jigar.ID = 72685\n",
    "Jigar.salary = 200000\n",
    "Jigar.department = \"Human Resources\""
   ]
  },
  {
   "cell_type": "code",
   "execution_count": 40,
   "id": "df01301f",
   "metadata": {
    "scrolled": true
   },
   "outputs": [
    {
     "name": "stdout",
     "output_type": "stream",
     "text": [
      "ID =  72685\n"
     ]
    },
    {
     "ename": "AttributeError",
     "evalue": "'Employee' object has no attribute 'title'",
     "output_type": "error",
     "traceback": [
      "\u001b[1;31m---------------------------------------------------------------------------\u001b[0m",
      "\u001b[1;31mAttributeError\u001b[0m                            Traceback (most recent call last)",
      "\u001b[1;32m~\\AppData\\Local\\Temp/ipykernel_16172/2731335118.py\u001b[0m in \u001b[0;36m<module>\u001b[1;34m\u001b[0m\n\u001b[0;32m      1\u001b[0m \u001b[0mprint\u001b[0m\u001b[1;33m(\u001b[0m\u001b[1;34m\"ID = \"\u001b[0m\u001b[1;33m,\u001b[0m \u001b[0mJigar\u001b[0m\u001b[1;33m.\u001b[0m\u001b[0mID\u001b[0m\u001b[1;33m)\u001b[0m\u001b[1;33m\u001b[0m\u001b[1;33m\u001b[0m\u001b[0m\n\u001b[1;32m----> 2\u001b[1;33m \u001b[0mprint\u001b[0m\u001b[1;33m(\u001b[0m\u001b[1;34m\"ID = \"\u001b[0m\u001b[1;33m,\u001b[0m \u001b[0mJigar\u001b[0m\u001b[1;33m.\u001b[0m\u001b[0mtitle\u001b[0m\u001b[1;33m)\u001b[0m\u001b[1;33m\u001b[0m\u001b[1;33m\u001b[0m\u001b[0m\n\u001b[0m",
      "\u001b[1;31mAttributeError\u001b[0m: 'Employee' object has no attribute 'title'"
     ]
    }
   ],
   "source": [
    "print(\"ID = \", Jigar.ID)\n",
    "print(\"ID = \", Jigar.title)"
   ]
  },
  {
   "cell_type": "code",
   "execution_count": null,
   "id": "9f85fe80",
   "metadata": {},
   "outputs": [],
   "source": [
    "The initialization method is similar to other methods but has a pre-defined name, __init__."
   ]
  },
  {
   "cell_type": "code",
   "execution_count": 41,
   "id": "9f327faa",
   "metadata": {},
   "outputs": [
    {
     "name": "stdout",
     "output_type": "stream",
     "text": [
      "ID =  74648\n",
      "ID =  100000\n",
      "ID =  Software\n"
     ]
    }
   ],
   "source": [
    "class Employee:\n",
    "    # defining the properties and assigning them None\n",
    "    def __init__(self , ID , salary , department):\n",
    "        self.ID = ID\n",
    "        self.salary = salary\n",
    "        self.department = department\n",
    "    \n",
    "# create an object of the Empolyee Class with Default Parameters\n",
    "\n",
    "Sandeep = Employee(74648, 100000, \"Software\")\n",
    "print(\"ID = \", Sandeep.ID)\n",
    "print(\"ID = \", Sandeep.salary)\n",
    "print(\"ID = \", Sandeep.department)"
   ]
  },
  {
   "cell_type": "code",
   "execution_count": 44,
   "id": "79ff5fa8",
   "metadata": {
    "scrolled": true
   },
   "outputs": [
    {
     "ename": "TypeError",
     "evalue": "Employee.emplpoyeDetails() takes 0 positional arguments but 1 was given",
     "output_type": "error",
     "traceback": [
      "\u001b[1;31m---------------------------------------------------------------------------\u001b[0m",
      "\u001b[1;31mTypeError\u001b[0m                                 Traceback (most recent call last)",
      "\u001b[1;32m~\\AppData\\Local\\Temp/ipykernel_16172/701371244.py\u001b[0m in \u001b[0;36m<module>\u001b[1;34m\u001b[0m\n\u001b[0;32m      5\u001b[0m \u001b[1;33m\u001b[0m\u001b[0m\n\u001b[0;32m      6\u001b[0m \u001b[0ms1\u001b[0m \u001b[1;33m=\u001b[0m \u001b[0mEmployee\u001b[0m\u001b[1;33m(\u001b[0m\u001b[1;33m)\u001b[0m\u001b[1;33m\u001b[0m\u001b[1;33m\u001b[0m\u001b[0m\n\u001b[1;32m----> 7\u001b[1;33m \u001b[0ms1\u001b[0m\u001b[1;33m.\u001b[0m\u001b[0memplpoyeDetails\u001b[0m\u001b[1;33m(\u001b[0m\u001b[1;33m)\u001b[0m\u001b[1;33m\u001b[0m\u001b[1;33m\u001b[0m\u001b[0m\n\u001b[0m",
      "\u001b[1;31mTypeError\u001b[0m: Employee.emplpoyeDetails() takes 0 positional arguments but 1 was given"
     ]
    }
   ],
   "source": [
    "class Employee:\n",
    "    \n",
    "    def emplpoyeDetails():\n",
    "        pass\n",
    "\n",
    "s1 = Employee()\n",
    "s1.emplpoyeDetails()\n"
   ]
  },
  {
   "cell_type": "code",
   "execution_count": 48,
   "id": "1468f61f",
   "metadata": {
    "scrolled": true
   },
   "outputs": [
    {
     "name": "stdout",
     "output_type": "stream",
     "text": [
      "Name =  Sandeep\n",
      "Name =  Sandeep\n"
     ]
    }
   ],
   "source": [
    "class Student:\n",
    "    \n",
    "    def studentDetails(self):\n",
    "        self.name = \"Sandeep\"\n",
    "        print(\"Name = \" , self.name)\n",
    "\n",
    "s1 = Student()\n",
    "s1.studentDetails()\n",
    "Student.studentDetails(s1)\n",
    "#class_name.function(object_name)"
   ]
  },
  {
   "cell_type": "code",
   "execution_count": 51,
   "id": "2f7712f3",
   "metadata": {},
   "outputs": [
    {
     "name": "stdout",
     "output_type": "stream",
     "text": [
      "Name =  Vaibhav\n"
     ]
    }
   ],
   "source": [
    "class Student:\n",
    "    \n",
    "    def studentDetails(self, name):\n",
    "        self.name = name\n",
    "        print(\"Name = \" , self.name)\n",
    "\n",
    "s1 = Student()\n",
    "s1.studentDetails(\"Vaibhav\")"
   ]
  },
  {
   "cell_type": "code",
   "execution_count": 52,
   "id": "556a7395",
   "metadata": {},
   "outputs": [
    {
     "name": "stdout",
     "output_type": "stream",
     "text": [
      "Name =  Vaibhav\n"
     ]
    }
   ],
   "source": [
    "class Student:\n",
    "    \n",
    "    def studentDetails(self, name):\n",
    "        self.names = name\n",
    "        print(\"Name = \" , self.names)\n",
    "\n",
    "s1 = Student()\n",
    "s1.studentDetails(\"Vaibhav\")"
   ]
  },
  {
   "cell_type": "code",
   "execution_count": 53,
   "id": "d66d7f1c",
   "metadata": {},
   "outputs": [
    {
     "name": "stdout",
     "output_type": "stream",
     "text": [
      "Rohan Rohan "
     ]
    }
   ],
   "source": [
    "class Student:\n",
    "    name = \"Rohan\"\n",
    "    age = 16\n",
    "    \n",
    "s1 = Student()\n",
    "s2 = Student()\n",
    "print(s1.name, end=\" \")\n",
    "print(s2.name, end=\" \")"
   ]
  },
  {
   "cell_type": "code",
   "execution_count": 56,
   "id": "86ad7831",
   "metadata": {},
   "outputs": [
    {
     "name": "stdout",
     "output_type": "stream",
     "text": [
      "58\n"
     ]
    }
   ],
   "source": [
    "class Student:\n",
    "    pp = 50\n",
    "\n",
    "s1 = Student()\n",
    "s1.pp= 58\n",
    "s2 = Student()\n",
    "s2.pp = 60\n",
    "print(s1.pp)"
   ]
  },
  {
   "cell_type": "code",
   "execution_count": 57,
   "id": "2a7d8919",
   "metadata": {
    "scrolled": true
   },
   "outputs": [
    {
     "name": "stdout",
     "output_type": "stream",
     "text": [
      "Parikh 60\n"
     ]
    }
   ],
   "source": [
    "class Student:\n",
    "    name = \"Parikh\"\n",
    "    def store_details(self):\n",
    "        self.age = 60\n",
    "    def print_details(self):\n",
    "        print(self.name, end=\" \")\n",
    "        print(self.age)\n",
    "        \n",
    "s = Student()\n",
    "s.store_details()\n",
    "s.print_details()"
   ]
  },
  {
   "cell_type": "code",
   "execution_count": 58,
   "id": "7892edca",
   "metadata": {
    "scrolled": true
   },
   "outputs": [
    {
     "name": "stdout",
     "output_type": "stream",
     "text": [
      "Parikh "
     ]
    },
    {
     "ename": "AttributeError",
     "evalue": "'Student' object has no attribute 'age'",
     "output_type": "error",
     "traceback": [
      "\u001b[1;31m---------------------------------------------------------------------------\u001b[0m",
      "\u001b[1;31mAttributeError\u001b[0m                            Traceback (most recent call last)",
      "\u001b[1;32m~\\AppData\\Local\\Temp/ipykernel_16172/2107991956.py\u001b[0m in \u001b[0;36m<module>\u001b[1;34m\u001b[0m\n\u001b[0;32m      9\u001b[0m \u001b[0ms\u001b[0m \u001b[1;33m=\u001b[0m \u001b[0mStudent\u001b[0m\u001b[1;33m(\u001b[0m\u001b[1;33m)\u001b[0m\u001b[1;33m\u001b[0m\u001b[1;33m\u001b[0m\u001b[0m\n\u001b[0;32m     10\u001b[0m \u001b[1;33m\u001b[0m\u001b[0m\n\u001b[1;32m---> 11\u001b[1;33m \u001b[0ms\u001b[0m\u001b[1;33m.\u001b[0m\u001b[0mprint_details\u001b[0m\u001b[1;33m(\u001b[0m\u001b[1;33m)\u001b[0m\u001b[1;33m\u001b[0m\u001b[1;33m\u001b[0m\u001b[0m\n\u001b[0m",
      "\u001b[1;32m~\\AppData\\Local\\Temp/ipykernel_16172/2107991956.py\u001b[0m in \u001b[0;36mprint_details\u001b[1;34m(self)\u001b[0m\n\u001b[0;32m      5\u001b[0m     \u001b[1;32mdef\u001b[0m \u001b[0mprint_details\u001b[0m\u001b[1;33m(\u001b[0m\u001b[0mself\u001b[0m\u001b[1;33m)\u001b[0m\u001b[1;33m:\u001b[0m\u001b[1;33m\u001b[0m\u001b[1;33m\u001b[0m\u001b[0m\n\u001b[0;32m      6\u001b[0m         \u001b[0mprint\u001b[0m\u001b[1;33m(\u001b[0m\u001b[0mself\u001b[0m\u001b[1;33m.\u001b[0m\u001b[0mname\u001b[0m\u001b[1;33m,\u001b[0m \u001b[0mend\u001b[0m\u001b[1;33m=\u001b[0m\u001b[1;34m\" \"\u001b[0m\u001b[1;33m)\u001b[0m\u001b[1;33m\u001b[0m\u001b[1;33m\u001b[0m\u001b[0m\n\u001b[1;32m----> 7\u001b[1;33m         \u001b[0mprint\u001b[0m\u001b[1;33m(\u001b[0m\u001b[0mself\u001b[0m\u001b[1;33m.\u001b[0m\u001b[0mage\u001b[0m\u001b[1;33m)\u001b[0m\u001b[1;33m\u001b[0m\u001b[1;33m\u001b[0m\u001b[0m\n\u001b[0m\u001b[0;32m      8\u001b[0m \u001b[1;33m\u001b[0m\u001b[0m\n\u001b[0;32m      9\u001b[0m \u001b[0ms\u001b[0m \u001b[1;33m=\u001b[0m \u001b[0mStudent\u001b[0m\u001b[1;33m(\u001b[0m\u001b[1;33m)\u001b[0m\u001b[1;33m\u001b[0m\u001b[1;33m\u001b[0m\u001b[0m\n",
      "\u001b[1;31mAttributeError\u001b[0m: 'Student' object has no attribute 'age'"
     ]
    }
   ],
   "source": [
    "class Student:\n",
    "    name = \"Parikh\"\n",
    "    def store_details(self):\n",
    "        self.age = 60\n",
    "    def print_details(self):\n",
    "        print(self.name, end=\" \")\n",
    "        print(self.age)\n",
    "        \n",
    "s = Student()\n",
    "s.print_details()\n",
    "s.store_details()"
   ]
  },
  {
   "cell_type": "code",
   "execution_count": null,
   "id": "49081527",
   "metadata": {},
   "outputs": [],
   "source": []
  },
  {
   "cell_type": "code",
   "execution_count": null,
   "id": "eed9a7dc",
   "metadata": {},
   "outputs": [],
   "source": []
  },
  {
   "cell_type": "code",
   "execution_count": null,
   "id": "62af4b52",
   "metadata": {},
   "outputs": [],
   "source": [
    "class Student:\n",
    "    def __init__(self,name,age):\n",
    "        self.name = \"Vaibhav\"\n",
    "        self.age = 20\n",
    "\n",
    "    def print_student_details():\n",
    "        print(self.name, end= \" \")\n",
    "        print(self.age)\n",
    "s = Student(\"Sandeep\",25)\n",
    "s.print_student_details()"
   ]
  },
  {
   "cell_type": "code",
   "execution_count": null,
   "id": "d176c38f",
   "metadata": {},
   "outputs": [],
   "source": [
    "class Student:\n",
    "    def __init__(self,name,age):\n",
    "        self.name = name\n",
    "        self.age = age\n",
    "    def print_student_details(self):\n",
    "        print(self.name, end= \" \")\n",
    "        print(self.age)\n",
    "\n",
    "s = Student(\"Jigar\",60)\n",
    "s.print_student_details()"
   ]
  }
 ],
 "metadata": {
  "kernelspec": {
   "display_name": "Python 3 (ipykernel)",
   "language": "python",
   "name": "python3"
  },
  "language_info": {
   "codemirror_mode": {
    "name": "ipython",
    "version": 3
   },
   "file_extension": ".py",
   "mimetype": "text/x-python",
   "name": "python",
   "nbconvert_exporter": "python",
   "pygments_lexer": "ipython3",
   "version": "3.10.1"
  }
 },
 "nbformat": 4,
 "nbformat_minor": 5
}
