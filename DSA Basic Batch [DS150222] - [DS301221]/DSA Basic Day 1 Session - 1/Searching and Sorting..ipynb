{
 "cells": [
  {
   "cell_type": "code",
   "execution_count": null,
   "id": "8d9a0928",
   "metadata": {},
   "outputs": [],
   "source": [
    "https://docs.google.com/spreadsheets/d/1BuOY76o42MTfCCkFpgxs7AUpPGplpveRXt6Bxby65t0/edit?usp=sharing\n",
    "https://docs.google.com/spreadsheets/d/1SmCwNI8iTb68I3uhapOy5LazlJn4n_HnysmEFqryWuA/edit?usp=sharing\n",
    "    \n",
    "    \n",
    "FeedBack LINK :- https://forms.gle/S1urtyR8Jd1tU6aj7"
   ]
  },
  {
   "cell_type": "code",
   "execution_count": null,
   "id": "74b13eb5",
   "metadata": {},
   "outputs": [],
   "source": [
    "Hi ,\n",
    "\n",
    "Before i Start I Humbly Request to Each And EveryOne of You Those Who attending This Live Session Or Those Who Going to  \n",
    "Watched This Recorded Session I again Humbly Request to You.\n",
    "\n",
    "Please , Please , Please :- \n",
    "    \n",
    "    My Wishes:- \n",
    "    - Take Your Beautiful Copy and Gorgeous Pen\n",
    "    - Please Open Your Jupyter Notebook or VS Code alongside on another Tab (So you can Code alongside with me)\n",
    "    - Only Attend This Session Using Laptop (⚔️📵 Prohibited Mobile 📵⚔️)\n",
    "    - And Extremely Important for Today Please Open Your Brain and Focus Only Here. Keep Your Mind Calm.\n",
    "\n",
    "I'll Give You 3-4 Mins to Make my Wishes Fulfill\n",
    "\n",
    "Thank you all Of You again. To FulFill My Humble Wishes."
   ]
  },
  {
   "cell_type": "markdown",
   "id": "3b452714",
   "metadata": {},
   "source": [
    "# `Searching & Sorting`"
   ]
  },
  {
   "cell_type": "markdown",
   "id": "f8733284",
   "metadata": {},
   "source": [
    "## `Linear Search`:-"
   ]
  },
  {
   "cell_type": "code",
   "execution_count": 6,
   "id": "5bd4005b",
   "metadata": {},
   "outputs": [
    {
     "name": "stdout",
     "output_type": "stream",
     "text": [
      "-1\n"
     ]
    }
   ],
   "source": [
    "def linearSearch(arr , searchElement):\n",
    "    for i in range(len(arr)-1):\n",
    "        if(searchElement == arr[i]):\n",
    "            return i\n",
    "        else:\n",
    "            return -1\n",
    "        \n",
    "#     return -1\n",
    "\n",
    "arr = [4,2,6,9,8]\n",
    "index = linearSearch(arr , 10)\n",
    "print(index)"
   ]
  },
  {
   "cell_type": "markdown",
   "id": "b5cc97a0",
   "metadata": {},
   "source": [
    "## `Binary Search:-`"
   ]
  },
  {
   "cell_type": "code",
   "execution_count": 9,
   "id": "f80e7f13",
   "metadata": {
    "scrolled": false
   },
   "outputs": [
    {
     "name": "stdout",
     "output_type": "stream",
     "text": [
      "Kya kar rhe ho bhai Tumhera Element -> 100 Ye Yha pe nhi hai\n"
     ]
    }
   ],
   "source": [
    "def binarySearch(arr , searchElement):\n",
    "    start = 0 \n",
    "    end = len(arr) - 1\n",
    "    \n",
    "    while(start <= end):\n",
    "        mid = (start + end) // 2\n",
    "        if arr[mid] == searchElement:\n",
    "            return mid\n",
    "        elif(arr[mid] < searchElement):\n",
    "            start = mid + 1\n",
    "        else:\n",
    "            end = mid - 1\n",
    "    \n",
    "    return f'Kya kar rhe ho bhai Tumhera Element -> {searchElement} Ye Yha pe nhi hai'\n",
    "        \n",
    "    \n",
    "arr = [1,3,8,9,11,13,70,89,98]\n",
    "index = binarySearch(arr , 100)\n",
    "print(index)"
   ]
  },
  {
   "cell_type": "markdown",
   "id": "8f968cd7",
   "metadata": {},
   "source": [
    "`-------------------------------------------------------------------------------------------------------------`"
   ]
  },
  {
   "cell_type": "markdown",
   "id": "ff34df45",
   "metadata": {},
   "source": [
    "## `Selection Sort`"
   ]
  },
  {
   "cell_type": "code",
   "execution_count": 11,
   "id": "613a4ab8",
   "metadata": {},
   "outputs": [
    {
     "name": "stdout",
     "output_type": "stream",
     "text": [
      "[0, 1, 2, 3, 4, 5, 6, 7, 8]\n"
     ]
    }
   ],
   "source": [
    "def selectionSort(arr):\n",
    "     \n",
    "    lenght = len(arr)\n",
    "    for i in range(lenght - 1):\n",
    "        minIndex = i\n",
    "        for j in range(i+1 , lenght):\n",
    "            if(arr[j] < arr[minIndex]):\n",
    "                minIndex = j\n",
    "                \n",
    "        temp = arr[i]\n",
    "        arr[i] = arr[minIndex]\n",
    "        arr[minIndex] = temp    \n",
    "    \n",
    "arr = [1,5,2,4,6,7,3,8,0]\n",
    "selectionSort(arr)\n",
    "print(arr)"
   ]
  },
  {
   "cell_type": "code",
   "execution_count": 12,
   "id": "22866dd0",
   "metadata": {},
   "outputs": [
    {
     "name": "stdout",
     "output_type": "stream",
     "text": [
      "[0, 1, 2, 3, 4, 5, 6, 7, 8]\n"
     ]
    }
   ],
   "source": [
    "def selectionSort(arr):\n",
    "     \n",
    "    lenght = len(arr)\n",
    "    for i in range(lenght - 1):\n",
    "        minIndex = i\n",
    "        for j in range(i+1 , lenght):\n",
    "            if(arr[j] < arr[minIndex]):\n",
    "                minIndex = j\n",
    "                \n",
    "        arr[i] , arr[minIndex] = arr[minIndex] , arr[i]\n",
    "\n",
    "arr = [1,5,2,4,6,7,3,8,0]\n",
    "selectionSort(arr)\n",
    "print(arr)"
   ]
  },
  {
   "cell_type": "markdown",
   "id": "9f853091",
   "metadata": {},
   "source": [
    "`-------------------------------------------------------------------------------------------------------------`"
   ]
  },
  {
   "cell_type": "markdown",
   "id": "8fd95453",
   "metadata": {},
   "source": [
    "## `Bubble Sort`"
   ]
  },
  {
   "cell_type": "code",
   "execution_count": 13,
   "id": "35545928",
   "metadata": {},
   "outputs": [
    {
     "name": "stdout",
     "output_type": "stream",
     "text": [
      "[1, 2, 3, 4, 5, 6, 7, 8]\n"
     ]
    }
   ],
   "source": [
    "def bubbleSort(arr):\n",
    "    \n",
    "    length = len(arr)\n",
    "    # i is for n - 1 rounds\n",
    "    for i in range(length - 1):\n",
    "        for j in range(length - 1 - i):\n",
    "            if arr[j] > arr[j + 1]:\n",
    "                temp = arr[j]\n",
    "                arr[j] = arr[j + 1]\n",
    "                arr[j + 1] = temp  \n",
    "    \n",
    "arr = [1,5,2,4,6,7,3,8]\n",
    "bubbleSort(arr)\n",
    "print(arr)"
   ]
  },
  {
   "cell_type": "code",
   "execution_count": 14,
   "id": "e3294ff6",
   "metadata": {},
   "outputs": [
    {
     "name": "stdout",
     "output_type": "stream",
     "text": [
      "[1, 2, 3, 4, 5, 6, 7, 8]\n"
     ]
    }
   ],
   "source": [
    "def bubbleSort(arr):\n",
    "    \n",
    "    length = len(arr)\n",
    "    # i is for n - 1 rounds\n",
    "    for i in range(length - 1):\n",
    "        for j in range(length - 1 - i):\n",
    "            if arr[j] > arr[j + 1]:\n",
    "                arr[j] , arr[j + 1] = arr[j + 1] , arr[j]\n",
    "    \n",
    "arr = [1,5,2,4,6,7,3,8]\n",
    "bubbleSort(arr)\n",
    "print(arr)"
   ]
  },
  {
   "cell_type": "markdown",
   "id": "e6ef30d7",
   "metadata": {},
   "source": [
    "## `Insertion Sort`"
   ]
  },
  {
   "cell_type": "code",
   "execution_count": 15,
   "id": "d14c7e8d",
   "metadata": {},
   "outputs": [
    {
     "name": "stdout",
     "output_type": "stream",
     "text": [
      "[0, 1, 2, 3, 4, 5, 6, 7, 8]\n"
     ]
    }
   ],
   "source": [
    "def insertionSort(arr):\n",
    "    \n",
    "    length = len(arr)\n",
    "    for i in range(1,length):\n",
    "        j = i - 1\n",
    "        temp = arr[i]\n",
    "        #shifting elements till this condition holds\n",
    "        while( j >= 0 and arr[j] > temp):\n",
    "            arr[j+1] = arr[j]\n",
    "            j = j - 1\n",
    "        # j+1 is correct postion for ith element\n",
    "        arr[j+1] = temp\n",
    "\n",
    "arr = [1,5,2,4,6,7,3,8,0]\n",
    "insertionSort(arr)\n",
    "print(arr)"
   ]
  },
  {
   "cell_type": "markdown",
   "id": "6a352f24",
   "metadata": {},
   "source": [
    "## `Merge Two Sorted Array`"
   ]
  },
  {
   "cell_type": "code",
   "execution_count": 17,
   "id": "100e9ff7",
   "metadata": {},
   "outputs": [
    {
     "name": "stdout",
     "output_type": "stream",
     "text": [
      "[1, 2, 3, 4, 6, 7, 8, 9, 10]\n"
     ]
    }
   ],
   "source": [
    "def mergeSoetedArrays(arr1 , arr2):\n",
    "    \n",
    "    i = 0 \n",
    "    j = 0\n",
    "    len1 = len(arr1)\n",
    "    len2 = len(arr2)\n",
    "    \n",
    "    arr = []\n",
    "    \n",
    "    while((i < len1) and (j < len2)):\n",
    "        if(arr1[i] < arr2[j]):\n",
    "            arr.append(arr1[i])\n",
    "            i += 1\n",
    "        else:\n",
    "            arr.append(arr2[j])\n",
    "            j += 1\n",
    "            \n",
    "    while(i < len1):\n",
    "        arr.append(arr1[i])\n",
    "        i += 1\n",
    "    \n",
    "    while(j < len2):\n",
    "        arr.append(arr2[j])\n",
    "        j += 1\n",
    "            \n",
    "    return arr\n",
    "\n",
    "arr1 = [1,4,9,10]\n",
    "arr2 = [2,3,6,7,8]\n",
    "\n",
    "arr = mergeSoetedArrays(arr1, arr2)\n",
    "print(arr)"
   ]
  },
  {
   "cell_type": "code",
   "execution_count": null,
   "id": "5f94efb1",
   "metadata": {},
   "outputs": [],
   "source": []
  },
  {
   "cell_type": "code",
   "execution_count": null,
   "id": "007ad8a4",
   "metadata": {},
   "outputs": [],
   "source": []
  },
  {
   "cell_type": "code",
   "execution_count": null,
   "id": "6902c3a3",
   "metadata": {},
   "outputs": [],
   "source": []
  },
  {
   "cell_type": "code",
   "execution_count": null,
   "id": "77c36736",
   "metadata": {},
   "outputs": [],
   "source": []
  },
  {
   "cell_type": "code",
   "execution_count": null,
   "id": "59293924",
   "metadata": {},
   "outputs": [],
   "source": []
  },
  {
   "cell_type": "code",
   "execution_count": null,
   "id": "1941b0c0",
   "metadata": {},
   "outputs": [],
   "source": []
  },
  {
   "cell_type": "code",
   "execution_count": null,
   "id": "845c89d2",
   "metadata": {},
   "outputs": [],
   "source": []
  },
  {
   "cell_type": "code",
   "execution_count": null,
   "id": "79bbb2a9",
   "metadata": {},
   "outputs": [],
   "source": []
  },
  {
   "cell_type": "code",
   "execution_count": null,
   "id": "9f2d0592",
   "metadata": {},
   "outputs": [],
   "source": []
  },
  {
   "cell_type": "code",
   "execution_count": null,
   "id": "281037b8",
   "metadata": {},
   "outputs": [],
   "source": []
  }
 ],
 "metadata": {
  "kernelspec": {
   "display_name": "Python 3 (ipykernel)",
   "language": "python",
   "name": "python3"
  },
  "language_info": {
   "codemirror_mode": {
    "name": "ipython",
    "version": 3
   },
   "file_extension": ".py",
   "mimetype": "text/x-python",
   "name": "python",
   "nbconvert_exporter": "python",
   "pygments_lexer": "ipython3",
   "version": "3.10.1"
  }
 },
 "nbformat": 4,
 "nbformat_minor": 5
}
