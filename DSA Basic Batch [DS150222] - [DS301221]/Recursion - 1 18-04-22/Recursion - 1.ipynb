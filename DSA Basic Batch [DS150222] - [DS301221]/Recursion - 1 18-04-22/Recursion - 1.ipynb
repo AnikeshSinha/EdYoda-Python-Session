{
 "cells": [
  {
   "cell_type": "markdown",
   "id": "c3e56a64",
   "metadata": {},
   "source": [
    "Recursion Practice Problems Link :- \n",
    "    - https://docs.google.com/spreadsheets/d/1BuOY76o42MTfCCkFpgxs7AUpPGplpveRXt6Bxby65t0/edit?usp=sharing"
   ]
  },
  {
   "cell_type": "markdown",
   "id": "c737096a",
   "metadata": {},
   "source": [
    "### `Without Base Case.`"
   ]
  },
  {
   "cell_type": "code",
   "execution_count": null,
   "id": "4e3fcb30",
   "metadata": {},
   "outputs": [],
   "source": [
    "# This Function Going to infinite No Stoping............\n",
    "def fact(n):\n",
    "    \n",
    "    return n * fact(n-1)\n",
    "    \n",
    "n = int(input())\n",
    "fact(n)"
   ]
  },
  {
   "cell_type": "markdown",
   "id": "990511f0",
   "metadata": {},
   "source": [
    "### `With Base Case`"
   ]
  },
  {
   "cell_type": "code",
   "execution_count": 5,
   "id": "7126d045",
   "metadata": {
    "scrolled": true
   },
   "outputs": [
    {
     "name": "stdout",
     "output_type": "stream",
     "text": [
      "5\n"
     ]
    },
    {
     "data": {
      "text/plain": [
       "120"
      ]
     },
     "execution_count": 5,
     "metadata": {},
     "output_type": "execute_result"
    }
   ],
   "source": [
    "def fact(n):\n",
    "    if n == 0:\n",
    "        return 1\n",
    "    \n",
    "    return n * fact(n-1)\n",
    "    \n",
    "n = int(input())\n",
    "fact(n)"
   ]
  },
  {
   "cell_type": "markdown",
   "id": "d4abb43e",
   "metadata": {},
   "source": [
    "### `another way to write same above code`"
   ]
  },
  {
   "cell_type": "code",
   "execution_count": 6,
   "id": "bd4072ab",
   "metadata": {},
   "outputs": [
    {
     "name": "stdout",
     "output_type": "stream",
     "text": [
      "5\n"
     ]
    },
    {
     "data": {
      "text/plain": [
       "120"
      ]
     },
     "execution_count": 6,
     "metadata": {},
     "output_type": "execute_result"
    }
   ],
   "source": [
    "def fact(n):\n",
    "    if n == 0:\n",
    "        return 1\n",
    "    \n",
    "    smallOutput = fact(n-1)\n",
    "    return n * smallOutput\n",
    "    \n",
    "n = int(input())\n",
    "fact(n)"
   ]
  },
  {
   "cell_type": "markdown",
   "id": "e75b5ef6",
   "metadata": {},
   "source": [
    "### `Find the Sum of n natural number using Recursion`"
   ]
  },
  {
   "cell_type": "code",
   "execution_count": 7,
   "id": "5cc45c1a",
   "metadata": {},
   "outputs": [],
   "source": [
    "def sum_n(n):\n",
    "    if n == 0:\n",
    "        return 0\n",
    "    \n",
    "    smallOutput = sum_n(n-1)\n",
    "    output = smallOutput + n\n",
    "    \n",
    "    return output"
   ]
  },
  {
   "cell_type": "code",
   "execution_count": 8,
   "id": "6b70a2ba",
   "metadata": {},
   "outputs": [
    {
     "data": {
      "text/plain": [
       "15"
      ]
     },
     "execution_count": 8,
     "metadata": {},
     "output_type": "execute_result"
    }
   ],
   "source": [
    "sum_n(5)"
   ]
  },
  {
   "cell_type": "markdown",
   "id": "6614a6e4",
   "metadata": {},
   "source": [
    "### `Print First N Natural Numbers Using Recursion`"
   ]
  },
  {
   "cell_type": "code",
   "execution_count": 9,
   "id": "ca0d4dbb",
   "metadata": {},
   "outputs": [],
   "source": [
    "def print_1_to_n(n):\n",
    "    if n == 0:\n",
    "        return\n",
    "    \n",
    "    print_1_to_n( n - 1 )\n",
    "    print(n)\n",
    "    return"
   ]
  },
  {
   "cell_type": "code",
   "execution_count": 10,
   "id": "c9787cfc",
   "metadata": {
    "scrolled": false
   },
   "outputs": [
    {
     "name": "stdout",
     "output_type": "stream",
     "text": [
      "1\n",
      "2\n",
      "3\n",
      "4\n",
      "5\n",
      "6\n",
      "7\n",
      "8\n",
      "9\n",
      "10\n"
     ]
    }
   ],
   "source": [
    "print_1_to_n(10)"
   ]
  },
  {
   "cell_type": "markdown",
   "id": "53675a1d",
   "metadata": {},
   "source": [
    "### `Print Last N to 1 Natural Numbers Using Recursion`"
   ]
  },
  {
   "cell_type": "code",
   "execution_count": 11,
   "id": "e7493950",
   "metadata": {},
   "outputs": [],
   "source": [
    "def print_n_to_1(n):\n",
    "    if n == 0:\n",
    "        return\n",
    "    \n",
    "    print(n)\n",
    "    print_n_to_1( n - 1 )"
   ]
  },
  {
   "cell_type": "code",
   "execution_count": 12,
   "id": "e4b407e5",
   "metadata": {},
   "outputs": [
    {
     "name": "stdout",
     "output_type": "stream",
     "text": [
      "10\n",
      "9\n",
      "8\n",
      "7\n",
      "6\n",
      "5\n",
      "4\n",
      "3\n",
      "2\n",
      "1\n"
     ]
    }
   ],
   "source": [
    "print_n_to_1(10)"
   ]
  },
  {
   "cell_type": "markdown",
   "id": "1808385b",
   "metadata": {},
   "source": [
    "### `Print Fibonacci Number Using Recursion`"
   ]
  },
  {
   "cell_type": "code",
   "execution_count": 13,
   "id": "216b5fb6",
   "metadata": {},
   "outputs": [],
   "source": [
    "def fib(n):\n",
    "    if n == 1 or n == 2:\n",
    "        return 1\n",
    "    \n",
    "    fib_n_1 = fib(n-1)\n",
    "    fib_n_2 = fib(n-2)\n",
    "    output = fib_n_1 + fib_n_2\n",
    "    \n",
    "    return output"
   ]
  },
  {
   "cell_type": "code",
   "execution_count": 14,
   "id": "6509974a",
   "metadata": {},
   "outputs": [
    {
     "data": {
      "text/plain": [
       "3"
      ]
     },
     "execution_count": 14,
     "metadata": {},
     "output_type": "execute_result"
    }
   ],
   "source": [
    "n = 4\n",
    "fib(n)"
   ]
  },
  {
   "cell_type": "code",
   "execution_count": 15,
   "id": "1ed5d981",
   "metadata": {},
   "outputs": [],
   "source": [
    "def fib(n):\n",
    "    if n == 1 or n == 0:\n",
    "        return 1\n",
    "    \n",
    "    fib_n_1 = fib(n-1)\n",
    "    fib_n_2 = fib(n-2)\n",
    "    output = fib_n_1 + fib_n_2\n",
    "    \n",
    "    return output"
   ]
  },
  {
   "cell_type": "code",
   "execution_count": 16,
   "id": "d663937b",
   "metadata": {},
   "outputs": [
    {
     "data": {
      "text/plain": [
       "5"
      ]
     },
     "execution_count": 16,
     "metadata": {},
     "output_type": "execute_result"
    }
   ],
   "source": [
    "n = 4\n",
    "fib(n)"
   ]
  },
  {
   "cell_type": "code",
   "execution_count": null,
   "id": "300f6b93",
   "metadata": {},
   "outputs": [],
   "source": []
  },
  {
   "cell_type": "code",
   "execution_count": null,
   "id": "9bc51816",
   "metadata": {},
   "outputs": [],
   "source": []
  },
  {
   "cell_type": "code",
   "execution_count": null,
   "id": "57a60085",
   "metadata": {},
   "outputs": [],
   "source": []
  },
  {
   "cell_type": "code",
   "execution_count": null,
   "id": "5238027e",
   "metadata": {},
   "outputs": [],
   "source": []
  }
 ],
 "metadata": {
  "kernelspec": {
   "display_name": "Python 3 (ipykernel)",
   "language": "python",
   "name": "python3"
  },
  "language_info": {
   "codemirror_mode": {
    "name": "ipython",
    "version": 3
   },
   "file_extension": ".py",
   "mimetype": "text/x-python",
   "name": "python",
   "nbconvert_exporter": "python",
   "pygments_lexer": "ipython3",
   "version": "3.9.12"
  }
 },
 "nbformat": 4,
 "nbformat_minor": 5
}
